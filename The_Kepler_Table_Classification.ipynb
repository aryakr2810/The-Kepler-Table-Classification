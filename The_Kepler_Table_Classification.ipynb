{
  "nbformat": 4,
  "nbformat_minor": 0,
  "metadata": {
    "colab": {
      "provenance": []
    },
    "kernelspec": {
      "name": "python3",
      "display_name": "Python 3"
    },
    "language_info": {
      "name": "python"
    }
  },
  "cells": [
    {
      "cell_type": "code",
      "execution_count": 1,
      "metadata": {
        "colab": {
          "base_uri": "https://localhost:8080/",
          "height": 273
        },
        "id": "53TlAVktiwoV",
        "outputId": "62b7cf26-1e85-4558-8102-31ad6a1b66b9"
      },
      "outputs": [
        {
          "output_type": "execute_result",
          "data": {
            "text/plain": [
              "      kepid kepoi_name    kepler_name koi_disposition koi_pdisposition  \\\n",
              "0  11446443  K00001.01     Kepler-1 b       CONFIRMED        CANDIDATE   \n",
              "1  10666592  K00002.01     Kepler-2 b       CONFIRMED        CANDIDATE   \n",
              "2  10748390  K00003.01     Kepler-3 b       CONFIRMED        CANDIDATE   \n",
              "3   3861595  K00004.01  Kepler-1658 b       CONFIRMED        CANDIDATE   \n",
              "4   8554498  K00005.01            NaN       CANDIDATE        CANDIDATE   \n",
              "\n",
              "   koi_score  koi_fpflag_nt  koi_fpflag_ss  koi_fpflag_co  koi_fpflag_ec  ...  \\\n",
              "0      0.811              0              0              0              0  ...   \n",
              "1      1.000              0              1              0              0  ...   \n",
              "2      0.913              0              0              0              0  ...   \n",
              "3      1.000              0              1              0              0  ...   \n",
              "4      1.000              0              0              0              0  ...   \n",
              "\n",
              "   koi_insol  koi_model_snr  koi_tce_plnt_num  koi_tce_delivname  koi_steff  \\\n",
              "0     761.46         4304.3                 1    q1_q17_dr25_tce     5820.0   \n",
              "1    4148.92         5945.9                 1    q1_q17_dr25_tce     6440.0   \n",
              "2      96.67          862.3                 1    q1_q17_dr25_tce     4778.0   \n",
              "3    4055.29          132.7                 1    q1_q17_dr25_tce     6244.0   \n",
              "4    1020.05          380.8                 1    q1_q17_dr25_tce     5937.0   \n",
              "\n",
              "   koi_slogg  koi_srad         ra        dec  koi_kepmag  \n",
              "0      4.457     0.964  286.80847  49.316399      11.338  \n",
              "1      4.019     1.952  292.24728  47.969521      10.463  \n",
              "2      4.591     0.763  297.70935  48.080853       9.174  \n",
              "3      3.657     2.992  294.35654  38.947380      11.432  \n",
              "4      4.012     1.787  289.73972  44.647419      11.665  \n",
              "\n",
              "[5 rows x 27 columns]"
            ],
            "text/html": [
              "\n",
              "  <div id=\"df-39e897f6-0e4c-4f76-be19-c205343f2a96\" class=\"colab-df-container\">\n",
              "    <div>\n",
              "<style scoped>\n",
              "    .dataframe tbody tr th:only-of-type {\n",
              "        vertical-align: middle;\n",
              "    }\n",
              "\n",
              "    .dataframe tbody tr th {\n",
              "        vertical-align: top;\n",
              "    }\n",
              "\n",
              "    .dataframe thead th {\n",
              "        text-align: right;\n",
              "    }\n",
              "</style>\n",
              "<table border=\"1\" class=\"dataframe\">\n",
              "  <thead>\n",
              "    <tr style=\"text-align: right;\">\n",
              "      <th></th>\n",
              "      <th>kepid</th>\n",
              "      <th>kepoi_name</th>\n",
              "      <th>kepler_name</th>\n",
              "      <th>koi_disposition</th>\n",
              "      <th>koi_pdisposition</th>\n",
              "      <th>koi_score</th>\n",
              "      <th>koi_fpflag_nt</th>\n",
              "      <th>koi_fpflag_ss</th>\n",
              "      <th>koi_fpflag_co</th>\n",
              "      <th>koi_fpflag_ec</th>\n",
              "      <th>...</th>\n",
              "      <th>koi_insol</th>\n",
              "      <th>koi_model_snr</th>\n",
              "      <th>koi_tce_plnt_num</th>\n",
              "      <th>koi_tce_delivname</th>\n",
              "      <th>koi_steff</th>\n",
              "      <th>koi_slogg</th>\n",
              "      <th>koi_srad</th>\n",
              "      <th>ra</th>\n",
              "      <th>dec</th>\n",
              "      <th>koi_kepmag</th>\n",
              "    </tr>\n",
              "  </thead>\n",
              "  <tbody>\n",
              "    <tr>\n",
              "      <th>0</th>\n",
              "      <td>11446443</td>\n",
              "      <td>K00001.01</td>\n",
              "      <td>Kepler-1 b</td>\n",
              "      <td>CONFIRMED</td>\n",
              "      <td>CANDIDATE</td>\n",
              "      <td>0.811</td>\n",
              "      <td>0</td>\n",
              "      <td>0</td>\n",
              "      <td>0</td>\n",
              "      <td>0</td>\n",
              "      <td>...</td>\n",
              "      <td>761.46</td>\n",
              "      <td>4304.3</td>\n",
              "      <td>1</td>\n",
              "      <td>q1_q17_dr25_tce</td>\n",
              "      <td>5820.0</td>\n",
              "      <td>4.457</td>\n",
              "      <td>0.964</td>\n",
              "      <td>286.80847</td>\n",
              "      <td>49.316399</td>\n",
              "      <td>11.338</td>\n",
              "    </tr>\n",
              "    <tr>\n",
              "      <th>1</th>\n",
              "      <td>10666592</td>\n",
              "      <td>K00002.01</td>\n",
              "      <td>Kepler-2 b</td>\n",
              "      <td>CONFIRMED</td>\n",
              "      <td>CANDIDATE</td>\n",
              "      <td>1.000</td>\n",
              "      <td>0</td>\n",
              "      <td>1</td>\n",
              "      <td>0</td>\n",
              "      <td>0</td>\n",
              "      <td>...</td>\n",
              "      <td>4148.92</td>\n",
              "      <td>5945.9</td>\n",
              "      <td>1</td>\n",
              "      <td>q1_q17_dr25_tce</td>\n",
              "      <td>6440.0</td>\n",
              "      <td>4.019</td>\n",
              "      <td>1.952</td>\n",
              "      <td>292.24728</td>\n",
              "      <td>47.969521</td>\n",
              "      <td>10.463</td>\n",
              "    </tr>\n",
              "    <tr>\n",
              "      <th>2</th>\n",
              "      <td>10748390</td>\n",
              "      <td>K00003.01</td>\n",
              "      <td>Kepler-3 b</td>\n",
              "      <td>CONFIRMED</td>\n",
              "      <td>CANDIDATE</td>\n",
              "      <td>0.913</td>\n",
              "      <td>0</td>\n",
              "      <td>0</td>\n",
              "      <td>0</td>\n",
              "      <td>0</td>\n",
              "      <td>...</td>\n",
              "      <td>96.67</td>\n",
              "      <td>862.3</td>\n",
              "      <td>1</td>\n",
              "      <td>q1_q17_dr25_tce</td>\n",
              "      <td>4778.0</td>\n",
              "      <td>4.591</td>\n",
              "      <td>0.763</td>\n",
              "      <td>297.70935</td>\n",
              "      <td>48.080853</td>\n",
              "      <td>9.174</td>\n",
              "    </tr>\n",
              "    <tr>\n",
              "      <th>3</th>\n",
              "      <td>3861595</td>\n",
              "      <td>K00004.01</td>\n",
              "      <td>Kepler-1658 b</td>\n",
              "      <td>CONFIRMED</td>\n",
              "      <td>CANDIDATE</td>\n",
              "      <td>1.000</td>\n",
              "      <td>0</td>\n",
              "      <td>1</td>\n",
              "      <td>0</td>\n",
              "      <td>0</td>\n",
              "      <td>...</td>\n",
              "      <td>4055.29</td>\n",
              "      <td>132.7</td>\n",
              "      <td>1</td>\n",
              "      <td>q1_q17_dr25_tce</td>\n",
              "      <td>6244.0</td>\n",
              "      <td>3.657</td>\n",
              "      <td>2.992</td>\n",
              "      <td>294.35654</td>\n",
              "      <td>38.947380</td>\n",
              "      <td>11.432</td>\n",
              "    </tr>\n",
              "    <tr>\n",
              "      <th>4</th>\n",
              "      <td>8554498</td>\n",
              "      <td>K00005.01</td>\n",
              "      <td>NaN</td>\n",
              "      <td>CANDIDATE</td>\n",
              "      <td>CANDIDATE</td>\n",
              "      <td>1.000</td>\n",
              "      <td>0</td>\n",
              "      <td>0</td>\n",
              "      <td>0</td>\n",
              "      <td>0</td>\n",
              "      <td>...</td>\n",
              "      <td>1020.05</td>\n",
              "      <td>380.8</td>\n",
              "      <td>1</td>\n",
              "      <td>q1_q17_dr25_tce</td>\n",
              "      <td>5937.0</td>\n",
              "      <td>4.012</td>\n",
              "      <td>1.787</td>\n",
              "      <td>289.73972</td>\n",
              "      <td>44.647419</td>\n",
              "      <td>11.665</td>\n",
              "    </tr>\n",
              "  </tbody>\n",
              "</table>\n",
              "<p>5 rows × 27 columns</p>\n",
              "</div>\n",
              "    <div class=\"colab-df-buttons\">\n",
              "\n",
              "  <div class=\"colab-df-container\">\n",
              "    <button class=\"colab-df-convert\" onclick=\"convertToInteractive('df-39e897f6-0e4c-4f76-be19-c205343f2a96')\"\n",
              "            title=\"Convert this dataframe to an interactive table.\"\n",
              "            style=\"display:none;\">\n",
              "\n",
              "  <svg xmlns=\"http://www.w3.org/2000/svg\" height=\"24px\" viewBox=\"0 -960 960 960\">\n",
              "    <path d=\"M120-120v-720h720v720H120Zm60-500h600v-160H180v160Zm220 220h160v-160H400v160Zm0 220h160v-160H400v160ZM180-400h160v-160H180v160Zm440 0h160v-160H620v160ZM180-180h160v-160H180v160Zm440 0h160v-160H620v160Z\"/>\n",
              "  </svg>\n",
              "    </button>\n",
              "\n",
              "  <style>\n",
              "    .colab-df-container {\n",
              "      display:flex;\n",
              "      gap: 12px;\n",
              "    }\n",
              "\n",
              "    .colab-df-convert {\n",
              "      background-color: #E8F0FE;\n",
              "      border: none;\n",
              "      border-radius: 50%;\n",
              "      cursor: pointer;\n",
              "      display: none;\n",
              "      fill: #1967D2;\n",
              "      height: 32px;\n",
              "      padding: 0 0 0 0;\n",
              "      width: 32px;\n",
              "    }\n",
              "\n",
              "    .colab-df-convert:hover {\n",
              "      background-color: #E2EBFA;\n",
              "      box-shadow: 0px 1px 2px rgba(60, 64, 67, 0.3), 0px 1px 3px 1px rgba(60, 64, 67, 0.15);\n",
              "      fill: #174EA6;\n",
              "    }\n",
              "\n",
              "    .colab-df-buttons div {\n",
              "      margin-bottom: 4px;\n",
              "    }\n",
              "\n",
              "    [theme=dark] .colab-df-convert {\n",
              "      background-color: #3B4455;\n",
              "      fill: #D2E3FC;\n",
              "    }\n",
              "\n",
              "    [theme=dark] .colab-df-convert:hover {\n",
              "      background-color: #434B5C;\n",
              "      box-shadow: 0px 1px 3px 1px rgba(0, 0, 0, 0.15);\n",
              "      filter: drop-shadow(0px 1px 2px rgba(0, 0, 0, 0.3));\n",
              "      fill: #FFFFFF;\n",
              "    }\n",
              "  </style>\n",
              "\n",
              "    <script>\n",
              "      const buttonEl =\n",
              "        document.querySelector('#df-39e897f6-0e4c-4f76-be19-c205343f2a96 button.colab-df-convert');\n",
              "      buttonEl.style.display =\n",
              "        google.colab.kernel.accessAllowed ? 'block' : 'none';\n",
              "\n",
              "      async function convertToInteractive(key) {\n",
              "        const element = document.querySelector('#df-39e897f6-0e4c-4f76-be19-c205343f2a96');\n",
              "        const dataTable =\n",
              "          await google.colab.kernel.invokeFunction('convertToInteractive',\n",
              "                                                    [key], {});\n",
              "        if (!dataTable) return;\n",
              "\n",
              "        const docLinkHtml = 'Like what you see? Visit the ' +\n",
              "          '<a target=\"_blank\" href=https://colab.research.google.com/notebooks/data_table.ipynb>data table notebook</a>'\n",
              "          + ' to learn more about interactive tables.';\n",
              "        element.innerHTML = '';\n",
              "        dataTable['output_type'] = 'display_data';\n",
              "        await google.colab.output.renderOutput(dataTable, element);\n",
              "        const docLink = document.createElement('div');\n",
              "        docLink.innerHTML = docLinkHtml;\n",
              "        element.appendChild(docLink);\n",
              "      }\n",
              "    </script>\n",
              "  </div>\n",
              "\n",
              "\n",
              "<div id=\"df-d809b563-eb96-4b43-a866-0ec5cd66e519\">\n",
              "  <button class=\"colab-df-quickchart\" onclick=\"quickchart('df-d809b563-eb96-4b43-a866-0ec5cd66e519')\"\n",
              "            title=\"Suggest charts\"\n",
              "            style=\"display:none;\">\n",
              "\n",
              "<svg xmlns=\"http://www.w3.org/2000/svg\" height=\"24px\"viewBox=\"0 0 24 24\"\n",
              "     width=\"24px\">\n",
              "    <g>\n",
              "        <path d=\"M19 3H5c-1.1 0-2 .9-2 2v14c0 1.1.9 2 2 2h14c1.1 0 2-.9 2-2V5c0-1.1-.9-2-2-2zM9 17H7v-7h2v7zm4 0h-2V7h2v10zm4 0h-2v-4h2v4z\"/>\n",
              "    </g>\n",
              "</svg>\n",
              "  </button>\n",
              "\n",
              "<style>\n",
              "  .colab-df-quickchart {\n",
              "      --bg-color: #E8F0FE;\n",
              "      --fill-color: #1967D2;\n",
              "      --hover-bg-color: #E2EBFA;\n",
              "      --hover-fill-color: #174EA6;\n",
              "      --disabled-fill-color: #AAA;\n",
              "      --disabled-bg-color: #DDD;\n",
              "  }\n",
              "\n",
              "  [theme=dark] .colab-df-quickchart {\n",
              "      --bg-color: #3B4455;\n",
              "      --fill-color: #D2E3FC;\n",
              "      --hover-bg-color: #434B5C;\n",
              "      --hover-fill-color: #FFFFFF;\n",
              "      --disabled-bg-color: #3B4455;\n",
              "      --disabled-fill-color: #666;\n",
              "  }\n",
              "\n",
              "  .colab-df-quickchart {\n",
              "    background-color: var(--bg-color);\n",
              "    border: none;\n",
              "    border-radius: 50%;\n",
              "    cursor: pointer;\n",
              "    display: none;\n",
              "    fill: var(--fill-color);\n",
              "    height: 32px;\n",
              "    padding: 0;\n",
              "    width: 32px;\n",
              "  }\n",
              "\n",
              "  .colab-df-quickchart:hover {\n",
              "    background-color: var(--hover-bg-color);\n",
              "    box-shadow: 0 1px 2px rgba(60, 64, 67, 0.3), 0 1px 3px 1px rgba(60, 64, 67, 0.15);\n",
              "    fill: var(--button-hover-fill-color);\n",
              "  }\n",
              "\n",
              "  .colab-df-quickchart-complete:disabled,\n",
              "  .colab-df-quickchart-complete:disabled:hover {\n",
              "    background-color: var(--disabled-bg-color);\n",
              "    fill: var(--disabled-fill-color);\n",
              "    box-shadow: none;\n",
              "  }\n",
              "\n",
              "  .colab-df-spinner {\n",
              "    border: 2px solid var(--fill-color);\n",
              "    border-color: transparent;\n",
              "    border-bottom-color: var(--fill-color);\n",
              "    animation:\n",
              "      spin 1s steps(1) infinite;\n",
              "  }\n",
              "\n",
              "  @keyframes spin {\n",
              "    0% {\n",
              "      border-color: transparent;\n",
              "      border-bottom-color: var(--fill-color);\n",
              "      border-left-color: var(--fill-color);\n",
              "    }\n",
              "    20% {\n",
              "      border-color: transparent;\n",
              "      border-left-color: var(--fill-color);\n",
              "      border-top-color: var(--fill-color);\n",
              "    }\n",
              "    30% {\n",
              "      border-color: transparent;\n",
              "      border-left-color: var(--fill-color);\n",
              "      border-top-color: var(--fill-color);\n",
              "      border-right-color: var(--fill-color);\n",
              "    }\n",
              "    40% {\n",
              "      border-color: transparent;\n",
              "      border-right-color: var(--fill-color);\n",
              "      border-top-color: var(--fill-color);\n",
              "    }\n",
              "    60% {\n",
              "      border-color: transparent;\n",
              "      border-right-color: var(--fill-color);\n",
              "    }\n",
              "    80% {\n",
              "      border-color: transparent;\n",
              "      border-right-color: var(--fill-color);\n",
              "      border-bottom-color: var(--fill-color);\n",
              "    }\n",
              "    90% {\n",
              "      border-color: transparent;\n",
              "      border-bottom-color: var(--fill-color);\n",
              "    }\n",
              "  }\n",
              "</style>\n",
              "\n",
              "  <script>\n",
              "    async function quickchart(key) {\n",
              "      const quickchartButtonEl =\n",
              "        document.querySelector('#' + key + ' button');\n",
              "      quickchartButtonEl.disabled = true;  // To prevent multiple clicks.\n",
              "      quickchartButtonEl.classList.add('colab-df-spinner');\n",
              "      try {\n",
              "        const charts = await google.colab.kernel.invokeFunction(\n",
              "            'suggestCharts', [key], {});\n",
              "      } catch (error) {\n",
              "        console.error('Error during call to suggestCharts:', error);\n",
              "      }\n",
              "      quickchartButtonEl.classList.remove('colab-df-spinner');\n",
              "      quickchartButtonEl.classList.add('colab-df-quickchart-complete');\n",
              "    }\n",
              "    (() => {\n",
              "      let quickchartButtonEl =\n",
              "        document.querySelector('#df-d809b563-eb96-4b43-a866-0ec5cd66e519 button');\n",
              "      quickchartButtonEl.style.display =\n",
              "        google.colab.kernel.accessAllowed ? 'block' : 'none';\n",
              "    })();\n",
              "  </script>\n",
              "</div>\n",
              "\n",
              "    </div>\n",
              "  </div>\n"
            ],
            "application/vnd.google.colaboratory.intrinsic+json": {
              "type": "dataframe",
              "variable_name": "data"
            }
          },
          "metadata": {},
          "execution_count": 1
        }
      ],
      "source": [
        "import pandas as pd\n",
        "data = pd.read_csv(\"TheKeplerTable.csv\")\n",
        "data.head()"
      ]
    },
    {
      "cell_type": "code",
      "source": [
        "data.isnull().sum()"
      ],
      "metadata": {
        "colab": {
          "base_uri": "https://localhost:8080/",
          "height": 930
        },
        "id": "OAOd1TRFjDS0",
        "outputId": "aebad8a3-f79a-462a-858f-7380e51bb4fd"
      },
      "execution_count": 2,
      "outputs": [
        {
          "output_type": "execute_result",
          "data": {
            "text/plain": [
              "kepid                   0\n",
              "kepoi_name              0\n",
              "kepler_name          5326\n",
              "koi_disposition         0\n",
              "koi_pdisposition        0\n",
              "koi_score               0\n",
              "koi_fpflag_nt           0\n",
              "koi_fpflag_ss           0\n",
              "koi_fpflag_co           0\n",
              "koi_fpflag_ec           0\n",
              "koi_period              0\n",
              "koi_time0bk             0\n",
              "koi_impact             59\n",
              "koi_duration            0\n",
              "koi_depth              59\n",
              "koi_prad               59\n",
              "koi_teq                59\n",
              "koi_insol              59\n",
              "koi_model_snr          59\n",
              "koi_tce_plnt_num        0\n",
              "koi_tce_delivname       0\n",
              "koi_steff              59\n",
              "koi_slogg              59\n",
              "koi_srad               59\n",
              "ra                      0\n",
              "dec                     0\n",
              "koi_kepmag              1\n",
              "dtype: int64"
            ],
            "text/html": [
              "<div>\n",
              "<style scoped>\n",
              "    .dataframe tbody tr th:only-of-type {\n",
              "        vertical-align: middle;\n",
              "    }\n",
              "\n",
              "    .dataframe tbody tr th {\n",
              "        vertical-align: top;\n",
              "    }\n",
              "\n",
              "    .dataframe thead th {\n",
              "        text-align: right;\n",
              "    }\n",
              "</style>\n",
              "<table border=\"1\" class=\"dataframe\">\n",
              "  <thead>\n",
              "    <tr style=\"text-align: right;\">\n",
              "      <th></th>\n",
              "      <th>0</th>\n",
              "    </tr>\n",
              "  </thead>\n",
              "  <tbody>\n",
              "    <tr>\n",
              "      <th>kepid</th>\n",
              "      <td>0</td>\n",
              "    </tr>\n",
              "    <tr>\n",
              "      <th>kepoi_name</th>\n",
              "      <td>0</td>\n",
              "    </tr>\n",
              "    <tr>\n",
              "      <th>kepler_name</th>\n",
              "      <td>5326</td>\n",
              "    </tr>\n",
              "    <tr>\n",
              "      <th>koi_disposition</th>\n",
              "      <td>0</td>\n",
              "    </tr>\n",
              "    <tr>\n",
              "      <th>koi_pdisposition</th>\n",
              "      <td>0</td>\n",
              "    </tr>\n",
              "    <tr>\n",
              "      <th>koi_score</th>\n",
              "      <td>0</td>\n",
              "    </tr>\n",
              "    <tr>\n",
              "      <th>koi_fpflag_nt</th>\n",
              "      <td>0</td>\n",
              "    </tr>\n",
              "    <tr>\n",
              "      <th>koi_fpflag_ss</th>\n",
              "      <td>0</td>\n",
              "    </tr>\n",
              "    <tr>\n",
              "      <th>koi_fpflag_co</th>\n",
              "      <td>0</td>\n",
              "    </tr>\n",
              "    <tr>\n",
              "      <th>koi_fpflag_ec</th>\n",
              "      <td>0</td>\n",
              "    </tr>\n",
              "    <tr>\n",
              "      <th>koi_period</th>\n",
              "      <td>0</td>\n",
              "    </tr>\n",
              "    <tr>\n",
              "      <th>koi_time0bk</th>\n",
              "      <td>0</td>\n",
              "    </tr>\n",
              "    <tr>\n",
              "      <th>koi_impact</th>\n",
              "      <td>59</td>\n",
              "    </tr>\n",
              "    <tr>\n",
              "      <th>koi_duration</th>\n",
              "      <td>0</td>\n",
              "    </tr>\n",
              "    <tr>\n",
              "      <th>koi_depth</th>\n",
              "      <td>59</td>\n",
              "    </tr>\n",
              "    <tr>\n",
              "      <th>koi_prad</th>\n",
              "      <td>59</td>\n",
              "    </tr>\n",
              "    <tr>\n",
              "      <th>koi_teq</th>\n",
              "      <td>59</td>\n",
              "    </tr>\n",
              "    <tr>\n",
              "      <th>koi_insol</th>\n",
              "      <td>59</td>\n",
              "    </tr>\n",
              "    <tr>\n",
              "      <th>koi_model_snr</th>\n",
              "      <td>59</td>\n",
              "    </tr>\n",
              "    <tr>\n",
              "      <th>koi_tce_plnt_num</th>\n",
              "      <td>0</td>\n",
              "    </tr>\n",
              "    <tr>\n",
              "      <th>koi_tce_delivname</th>\n",
              "      <td>0</td>\n",
              "    </tr>\n",
              "    <tr>\n",
              "      <th>koi_steff</th>\n",
              "      <td>59</td>\n",
              "    </tr>\n",
              "    <tr>\n",
              "      <th>koi_slogg</th>\n",
              "      <td>59</td>\n",
              "    </tr>\n",
              "    <tr>\n",
              "      <th>koi_srad</th>\n",
              "      <td>59</td>\n",
              "    </tr>\n",
              "    <tr>\n",
              "      <th>ra</th>\n",
              "      <td>0</td>\n",
              "    </tr>\n",
              "    <tr>\n",
              "      <th>dec</th>\n",
              "      <td>0</td>\n",
              "    </tr>\n",
              "    <tr>\n",
              "      <th>koi_kepmag</th>\n",
              "      <td>1</td>\n",
              "    </tr>\n",
              "  </tbody>\n",
              "</table>\n",
              "</div><br><label><b>dtype:</b> int64</label>"
            ]
          },
          "metadata": {},
          "execution_count": 2
        }
      ]
    },
    {
      "cell_type": "markdown",
      "source": [
        "### To understand the features that effect the classification of a KOI (Kepler's Object of Interest) to a confirmed planet. `kepler_name` is the confirmed planet's name which will be excluded in the analysis to prevent the memorization by the algorithm. kepoi_name column is the names of all Kepler's Objects of Interest."
      ],
      "metadata": {
        "id": "RTtjg8pxjc28"
      }
    },
    {
      "cell_type": "code",
      "source": [
        "data.columns"
      ],
      "metadata": {
        "colab": {
          "base_uri": "https://localhost:8080/"
        },
        "id": "iqwDvWu4jxH9",
        "outputId": "3e19487a-a4d1-4fd4-9d7a-f1473c2f7c0d"
      },
      "execution_count": 3,
      "outputs": [
        {
          "output_type": "execute_result",
          "data": {
            "text/plain": [
              "Index(['kepid', 'kepoi_name', 'kepler_name', 'koi_disposition',\n",
              "       'koi_pdisposition', 'koi_score', 'koi_fpflag_nt', 'koi_fpflag_ss',\n",
              "       'koi_fpflag_co', 'koi_fpflag_ec', 'koi_period', 'koi_time0bk',\n",
              "       'koi_impact', 'koi_duration', 'koi_depth', 'koi_prad', 'koi_teq',\n",
              "       'koi_insol', 'koi_model_snr', 'koi_tce_plnt_num', 'koi_tce_delivname',\n",
              "       'koi_steff', 'koi_slogg', 'koi_srad', 'ra', 'dec', 'koi_kepmag'],\n",
              "      dtype='object')"
            ]
          },
          "metadata": {},
          "execution_count": 3
        }
      ]
    },
    {
      "cell_type": "code",
      "source": [
        "data[\"koi_disposition\"].unique()"
      ],
      "metadata": {
        "colab": {
          "base_uri": "https://localhost:8080/"
        },
        "id": "zRzSvg_XkUV4",
        "outputId": "a49e83dc-b86a-4119-8b56-dcc68223d65a"
      },
      "execution_count": 4,
      "outputs": [
        {
          "output_type": "execute_result",
          "data": {
            "text/plain": [
              "array(['CONFIRMED', 'CANDIDATE', 'FALSE POSITIVE'], dtype=object)"
            ]
          },
          "metadata": {},
          "execution_count": 4
        }
      ]
    },
    {
      "cell_type": "markdown",
      "source": [
        "### `koi_disposition`\n",
        "### CONFIRMED : shows confirmed as planet outside Kepler experiment as well.\n",
        "### CANDIDATE : Kepler's Object of Interest to be determined as planet or not.\n",
        "### FALSE POSITIVE : Objects that was mis classified as planet, but actually they are not."
      ],
      "metadata": {
        "id": "ctp2kmJskcbp"
      }
    },
    {
      "cell_type": "code",
      "source": [
        "data.columns"
      ],
      "metadata": {
        "colab": {
          "base_uri": "https://localhost:8080/"
        },
        "id": "nPXcGyCdkb46",
        "outputId": "87d8777b-4237-4f02-de52-ccf0377c7447"
      },
      "execution_count": 5,
      "outputs": [
        {
          "output_type": "execute_result",
          "data": {
            "text/plain": [
              "Index(['kepid', 'kepoi_name', 'kepler_name', 'koi_disposition',\n",
              "       'koi_pdisposition', 'koi_score', 'koi_fpflag_nt', 'koi_fpflag_ss',\n",
              "       'koi_fpflag_co', 'koi_fpflag_ec', 'koi_period', 'koi_time0bk',\n",
              "       'koi_impact', 'koi_duration', 'koi_depth', 'koi_prad', 'koi_teq',\n",
              "       'koi_insol', 'koi_model_snr', 'koi_tce_plnt_num', 'koi_tce_delivname',\n",
              "       'koi_steff', 'koi_slogg', 'koi_srad', 'ra', 'dec', 'koi_kepmag'],\n",
              "      dtype='object')"
            ]
          },
          "metadata": {},
          "execution_count": 5
        }
      ]
    },
    {
      "cell_type": "code",
      "source": [
        "data = data[['koi_score','koi_fpflag_nt', 'koi_fpflag_ss','koi_fpflag_co',\n",
        "              'koi_fpflag_ec', 'koi_period', 'koi_time0bk', 'koi_impact', 'koi_duration',\n",
        "              'koi_depth', 'koi_prad', 'koi_teq', 'koi_insol', 'koi_model_snr', 'koi_tce_plnt_num',\n",
        "              'koi_steff', 'koi_slogg', 'koi_srad', 'ra', 'dec', 'koi_kepmag','koi_disposition']]"
      ],
      "metadata": {
        "id": "Sm_ramvAmGWr"
      },
      "execution_count": 6,
      "outputs": []
    },
    {
      "cell_type": "code",
      "source": [
        "data.info()"
      ],
      "metadata": {
        "colab": {
          "base_uri": "https://localhost:8080/"
        },
        "id": "c9eB3OkeoTR_",
        "outputId": "620d5c09-95da-46b3-e6c2-bcd9483e60ee"
      },
      "execution_count": 7,
      "outputs": [
        {
          "output_type": "stream",
          "name": "stdout",
          "text": [
            "<class 'pandas.core.frame.DataFrame'>\n",
            "RangeIndex: 8054 entries, 0 to 8053\n",
            "Data columns (total 22 columns):\n",
            " #   Column            Non-Null Count  Dtype  \n",
            "---  ------            --------------  -----  \n",
            " 0   koi_score         8054 non-null   float64\n",
            " 1   koi_fpflag_nt     8054 non-null   int64  \n",
            " 2   koi_fpflag_ss     8054 non-null   int64  \n",
            " 3   koi_fpflag_co     8054 non-null   int64  \n",
            " 4   koi_fpflag_ec     8054 non-null   int64  \n",
            " 5   koi_period        8054 non-null   float64\n",
            " 6   koi_time0bk       8054 non-null   float64\n",
            " 7   koi_impact        7995 non-null   float64\n",
            " 8   koi_duration      8054 non-null   float64\n",
            " 9   koi_depth         7995 non-null   float64\n",
            " 10  koi_prad          7995 non-null   float64\n",
            " 11  koi_teq           7995 non-null   float64\n",
            " 12  koi_insol         7995 non-null   float64\n",
            " 13  koi_model_snr     7995 non-null   float64\n",
            " 14  koi_tce_plnt_num  8054 non-null   int64  \n",
            " 15  koi_steff         7995 non-null   float64\n",
            " 16  koi_slogg         7995 non-null   float64\n",
            " 17  koi_srad          7995 non-null   float64\n",
            " 18  ra                8054 non-null   float64\n",
            " 19  dec               8054 non-null   float64\n",
            " 20  koi_kepmag        8053 non-null   float64\n",
            " 21  koi_disposition   8054 non-null   object \n",
            "dtypes: float64(16), int64(5), object(1)\n",
            "memory usage: 1.4+ MB\n"
          ]
        }
      ]
    },
    {
      "cell_type": "code",
      "source": [
        "from sklearn.preprocessing import OrdinalEncoder\n",
        "encoder = OrdinalEncoder()\n",
        "data[\"koi_disposition\"] = encoder.fit_transform(data[[\"koi_disposition\"]])"
      ],
      "metadata": {
        "id": "nWpgCC_vouTx"
      },
      "execution_count": 8,
      "outputs": []
    },
    {
      "cell_type": "code",
      "source": [
        "data[\"koi_disposition\"]"
      ],
      "metadata": {
        "colab": {
          "base_uri": "https://localhost:8080/",
          "height": 458
        },
        "id": "O51J7lzFqNAa",
        "outputId": "5be595ee-0e1e-44ea-acf4-69a479b20046"
      },
      "execution_count": 9,
      "outputs": [
        {
          "output_type": "execute_result",
          "data": {
            "text/plain": [
              "0       1.0\n",
              "1       1.0\n",
              "2       1.0\n",
              "3       1.0\n",
              "4       0.0\n",
              "       ... \n",
              "8049    2.0\n",
              "8050    2.0\n",
              "8051    2.0\n",
              "8052    2.0\n",
              "8053    2.0\n",
              "Name: koi_disposition, Length: 8054, dtype: float64"
            ],
            "text/html": [
              "<div>\n",
              "<style scoped>\n",
              "    .dataframe tbody tr th:only-of-type {\n",
              "        vertical-align: middle;\n",
              "    }\n",
              "\n",
              "    .dataframe tbody tr th {\n",
              "        vertical-align: top;\n",
              "    }\n",
              "\n",
              "    .dataframe thead th {\n",
              "        text-align: right;\n",
              "    }\n",
              "</style>\n",
              "<table border=\"1\" class=\"dataframe\">\n",
              "  <thead>\n",
              "    <tr style=\"text-align: right;\">\n",
              "      <th></th>\n",
              "      <th>koi_disposition</th>\n",
              "    </tr>\n",
              "  </thead>\n",
              "  <tbody>\n",
              "    <tr>\n",
              "      <th>0</th>\n",
              "      <td>1.0</td>\n",
              "    </tr>\n",
              "    <tr>\n",
              "      <th>1</th>\n",
              "      <td>1.0</td>\n",
              "    </tr>\n",
              "    <tr>\n",
              "      <th>2</th>\n",
              "      <td>1.0</td>\n",
              "    </tr>\n",
              "    <tr>\n",
              "      <th>3</th>\n",
              "      <td>1.0</td>\n",
              "    </tr>\n",
              "    <tr>\n",
              "      <th>4</th>\n",
              "      <td>0.0</td>\n",
              "    </tr>\n",
              "    <tr>\n",
              "      <th>...</th>\n",
              "      <td>...</td>\n",
              "    </tr>\n",
              "    <tr>\n",
              "      <th>8049</th>\n",
              "      <td>2.0</td>\n",
              "    </tr>\n",
              "    <tr>\n",
              "      <th>8050</th>\n",
              "      <td>2.0</td>\n",
              "    </tr>\n",
              "    <tr>\n",
              "      <th>8051</th>\n",
              "      <td>2.0</td>\n",
              "    </tr>\n",
              "    <tr>\n",
              "      <th>8052</th>\n",
              "      <td>2.0</td>\n",
              "    </tr>\n",
              "    <tr>\n",
              "      <th>8053</th>\n",
              "      <td>2.0</td>\n",
              "    </tr>\n",
              "  </tbody>\n",
              "</table>\n",
              "<p>8054 rows × 1 columns</p>\n",
              "</div><br><label><b>dtype:</b> float64</label>"
            ]
          },
          "metadata": {},
          "execution_count": 9
        }
      ]
    },
    {
      "cell_type": "code",
      "source": [
        "data.info()"
      ],
      "metadata": {
        "colab": {
          "base_uri": "https://localhost:8080/"
        },
        "id": "9Ng_b1miqWvK",
        "outputId": "92a192ca-f348-4b71-cd94-005c85c0d612"
      },
      "execution_count": 10,
      "outputs": [
        {
          "output_type": "stream",
          "name": "stdout",
          "text": [
            "<class 'pandas.core.frame.DataFrame'>\n",
            "RangeIndex: 8054 entries, 0 to 8053\n",
            "Data columns (total 22 columns):\n",
            " #   Column            Non-Null Count  Dtype  \n",
            "---  ------            --------------  -----  \n",
            " 0   koi_score         8054 non-null   float64\n",
            " 1   koi_fpflag_nt     8054 non-null   int64  \n",
            " 2   koi_fpflag_ss     8054 non-null   int64  \n",
            " 3   koi_fpflag_co     8054 non-null   int64  \n",
            " 4   koi_fpflag_ec     8054 non-null   int64  \n",
            " 5   koi_period        8054 non-null   float64\n",
            " 6   koi_time0bk       8054 non-null   float64\n",
            " 7   koi_impact        7995 non-null   float64\n",
            " 8   koi_duration      8054 non-null   float64\n",
            " 9   koi_depth         7995 non-null   float64\n",
            " 10  koi_prad          7995 non-null   float64\n",
            " 11  koi_teq           7995 non-null   float64\n",
            " 12  koi_insol         7995 non-null   float64\n",
            " 13  koi_model_snr     7995 non-null   float64\n",
            " 14  koi_tce_plnt_num  8054 non-null   int64  \n",
            " 15  koi_steff         7995 non-null   float64\n",
            " 16  koi_slogg         7995 non-null   float64\n",
            " 17  koi_srad          7995 non-null   float64\n",
            " 18  ra                8054 non-null   float64\n",
            " 19  dec               8054 non-null   float64\n",
            " 20  koi_kepmag        8053 non-null   float64\n",
            " 21  koi_disposition   8054 non-null   float64\n",
            "dtypes: float64(17), int64(5)\n",
            "memory usage: 1.4 MB\n"
          ]
        }
      ]
    },
    {
      "cell_type": "code",
      "source": [
        "data.isnull().sum()"
      ],
      "metadata": {
        "colab": {
          "base_uri": "https://localhost:8080/",
          "height": 774
        },
        "id": "xk-MLVUArPIw",
        "outputId": "2f9aa28e-51a7-4e70-f9ad-cae5d1ec7e10"
      },
      "execution_count": 11,
      "outputs": [
        {
          "output_type": "execute_result",
          "data": {
            "text/plain": [
              "koi_score            0\n",
              "koi_fpflag_nt        0\n",
              "koi_fpflag_ss        0\n",
              "koi_fpflag_co        0\n",
              "koi_fpflag_ec        0\n",
              "koi_period           0\n",
              "koi_time0bk          0\n",
              "koi_impact          59\n",
              "koi_duration         0\n",
              "koi_depth           59\n",
              "koi_prad            59\n",
              "koi_teq             59\n",
              "koi_insol           59\n",
              "koi_model_snr       59\n",
              "koi_tce_plnt_num     0\n",
              "koi_steff           59\n",
              "koi_slogg           59\n",
              "koi_srad            59\n",
              "ra                   0\n",
              "dec                  0\n",
              "koi_kepmag           1\n",
              "koi_disposition      0\n",
              "dtype: int64"
            ],
            "text/html": [
              "<div>\n",
              "<style scoped>\n",
              "    .dataframe tbody tr th:only-of-type {\n",
              "        vertical-align: middle;\n",
              "    }\n",
              "\n",
              "    .dataframe tbody tr th {\n",
              "        vertical-align: top;\n",
              "    }\n",
              "\n",
              "    .dataframe thead th {\n",
              "        text-align: right;\n",
              "    }\n",
              "</style>\n",
              "<table border=\"1\" class=\"dataframe\">\n",
              "  <thead>\n",
              "    <tr style=\"text-align: right;\">\n",
              "      <th></th>\n",
              "      <th>0</th>\n",
              "    </tr>\n",
              "  </thead>\n",
              "  <tbody>\n",
              "    <tr>\n",
              "      <th>koi_score</th>\n",
              "      <td>0</td>\n",
              "    </tr>\n",
              "    <tr>\n",
              "      <th>koi_fpflag_nt</th>\n",
              "      <td>0</td>\n",
              "    </tr>\n",
              "    <tr>\n",
              "      <th>koi_fpflag_ss</th>\n",
              "      <td>0</td>\n",
              "    </tr>\n",
              "    <tr>\n",
              "      <th>koi_fpflag_co</th>\n",
              "      <td>0</td>\n",
              "    </tr>\n",
              "    <tr>\n",
              "      <th>koi_fpflag_ec</th>\n",
              "      <td>0</td>\n",
              "    </tr>\n",
              "    <tr>\n",
              "      <th>koi_period</th>\n",
              "      <td>0</td>\n",
              "    </tr>\n",
              "    <tr>\n",
              "      <th>koi_time0bk</th>\n",
              "      <td>0</td>\n",
              "    </tr>\n",
              "    <tr>\n",
              "      <th>koi_impact</th>\n",
              "      <td>59</td>\n",
              "    </tr>\n",
              "    <tr>\n",
              "      <th>koi_duration</th>\n",
              "      <td>0</td>\n",
              "    </tr>\n",
              "    <tr>\n",
              "      <th>koi_depth</th>\n",
              "      <td>59</td>\n",
              "    </tr>\n",
              "    <tr>\n",
              "      <th>koi_prad</th>\n",
              "      <td>59</td>\n",
              "    </tr>\n",
              "    <tr>\n",
              "      <th>koi_teq</th>\n",
              "      <td>59</td>\n",
              "    </tr>\n",
              "    <tr>\n",
              "      <th>koi_insol</th>\n",
              "      <td>59</td>\n",
              "    </tr>\n",
              "    <tr>\n",
              "      <th>koi_model_snr</th>\n",
              "      <td>59</td>\n",
              "    </tr>\n",
              "    <tr>\n",
              "      <th>koi_tce_plnt_num</th>\n",
              "      <td>0</td>\n",
              "    </tr>\n",
              "    <tr>\n",
              "      <th>koi_steff</th>\n",
              "      <td>59</td>\n",
              "    </tr>\n",
              "    <tr>\n",
              "      <th>koi_slogg</th>\n",
              "      <td>59</td>\n",
              "    </tr>\n",
              "    <tr>\n",
              "      <th>koi_srad</th>\n",
              "      <td>59</td>\n",
              "    </tr>\n",
              "    <tr>\n",
              "      <th>ra</th>\n",
              "      <td>0</td>\n",
              "    </tr>\n",
              "    <tr>\n",
              "      <th>dec</th>\n",
              "      <td>0</td>\n",
              "    </tr>\n",
              "    <tr>\n",
              "      <th>koi_kepmag</th>\n",
              "      <td>1</td>\n",
              "    </tr>\n",
              "    <tr>\n",
              "      <th>koi_disposition</th>\n",
              "      <td>0</td>\n",
              "    </tr>\n",
              "  </tbody>\n",
              "</table>\n",
              "</div><br><label><b>dtype:</b> int64</label>"
            ]
          },
          "metadata": {},
          "execution_count": 11
        }
      ]
    },
    {
      "cell_type": "code",
      "source": [
        "data.dropna(inplace=True)"
      ],
      "metadata": {
        "id": "ZTx7Yct0rRc_"
      },
      "execution_count": 16,
      "outputs": []
    },
    {
      "cell_type": "code",
      "source": [
        "features = data.drop(\"koi_disposition\",axis=1)\n",
        "target = data[\"koi_disposition\"]"
      ],
      "metadata": {
        "id": "ldyNeUefqYUe"
      },
      "execution_count": 17,
      "outputs": []
    },
    {
      "cell_type": "markdown",
      "source": [
        "### Baseline model OOB score"
      ],
      "metadata": {
        "id": "JKlE8M1_q4XW"
      }
    },
    {
      "cell_type": "code",
      "source": [
        "from sklearn.ensemble import RandomForestClassifier\n",
        "model = RandomForestClassifier(n_estimators=300, oob_score=True)\n",
        "model.fit(features,target)\n",
        "oob_score = model.oob_score_\n",
        "print(f\"The Baseline Model OOB Score is {oob_score}\")"
      ],
      "metadata": {
        "colab": {
          "base_uri": "https://localhost:8080/"
        },
        "id": "P42j8ELVqqCD",
        "outputId": "349d63d5-dec1-4c39-c2af-9f594dfc6c53"
      },
      "execution_count": 18,
      "outputs": [
        {
          "output_type": "stream",
          "name": "stdout",
          "text": [
            "The Baseline Model OOB Score is 0.9173129847385539\n"
          ]
        }
      ]
    },
    {
      "cell_type": "code",
      "source": [
        "!pip install rfpimp"
      ],
      "metadata": {
        "id": "O32Pn_gur4cX"
      },
      "execution_count": null,
      "outputs": []
    },
    {
      "cell_type": "markdown",
      "source": [
        "### Feature Importances of the Baseline Model"
      ],
      "metadata": {
        "id": "Ce8Dhj2qsDPn"
      }
    },
    {
      "cell_type": "code",
      "source": [
        "from rfpimp import importances, plot_importances\n",
        "imp = importances(model, features ,target)\n",
        "print(imp)\n",
        "plot_importances(imp)"
      ],
      "metadata": {
        "colab": {
          "base_uri": "https://localhost:8080/",
          "height": 837
        },
        "id": "XZkQNSpKsTvO",
        "outputId": "80642ca8-229f-4e25-a05f-cf34219c639f"
      },
      "execution_count": 22,
      "outputs": [
        {
          "output_type": "stream",
          "name": "stdout",
          "text": [
            "                  Importance\n",
            "Feature                     \n",
            "koi_score             0.3984\n",
            "koi_model_snr         0.1266\n",
            "koi_prad              0.0774\n",
            "koi_impact            0.0290\n",
            "koi_fpflag_nt         0.0152\n",
            "koi_fpflag_co         0.0128\n",
            "koi_depth             0.0072\n",
            "koi_time0bk           0.0052\n",
            "ra                    0.0050\n",
            "koi_duration          0.0042\n",
            "dec                   0.0040\n",
            "koi_steff             0.0036\n",
            "koi_kepmag            0.0034\n",
            "koi_period            0.0032\n",
            "koi_tce_plnt_num      0.0026\n",
            "koi_teq               0.0024\n",
            "koi_fpflag_ss         0.0020\n",
            "koi_insol             0.0018\n",
            "koi_slogg             0.0014\n",
            "koi_fpflag_ec         0.0010\n",
            "koi_srad              0.0008\n"
          ]
        },
        {
          "output_type": "execute_result",
          "data": {
            "text/plain": [
              "<rfpimp.PimpViz at 0x7b69761985e0>"
            ],
            "image/svg+xml": "<?xml version=\"1.0\" encoding=\"utf-8\" standalone=\"no\"?>\n<!DOCTYPE svg PUBLIC \"-//W3C//DTD SVG 1.1//EN\"\n  \"http://www.w3.org/Graphics/SVG/1.1/DTD/svg11.dtd\">\n<svg xmlns:xlink=\"http://www.w3.org/1999/xlink\" width=\"266.354688pt\" height=\"312.078125pt\" viewBox=\"0 0 266.354688 312.078125\" xmlns=\"http://www.w3.org/2000/svg\" version=\"1.1\">\n <metadata>\n  <rdf:RDF xmlns:dc=\"http://purl.org/dc/elements/1.1/\" xmlns:cc=\"http://creativecommons.org/ns#\" xmlns:rdf=\"http://www.w3.org/1999/02/22-rdf-syntax-ns#\">\n   <cc:Work>\n    <dc:type rdf:resource=\"http://purl.org/dc/dcmitype/StillImage\"/>\n    <dc:date>2024-08-16T01:15:21.948124</dc:date>\n    <dc:format>image/svg+xml</dc:format>\n    <dc:creator>\n     <cc:Agent>\n      <dc:title>Matplotlib v3.7.1, https://matplotlib.org/</dc:title>\n     </cc:Agent>\n    </dc:creator>\n   </cc:Work>\n  </rdf:RDF>\n </metadata>\n <defs>\n  <style type=\"text/css\">*{stroke-linejoin: round; stroke-linecap: butt}</style>\n </defs>\n <g id=\"figure_1\">\n  <g id=\"patch_1\">\n   <path d=\"M 0 312.078125 \nL 266.354688 312.078125 \nL 266.354688 0 \nL 0 0 \nz\n\" style=\"fill: #ffffff\"/>\n  </g>\n  <g id=\"axes_1\">\n   <g id=\"patch_2\">\n    <path d=\"M 93.696875 295.4 \nL 255.221875 295.4 \nL 255.221875 0 \nL 93.696875 0 \nz\n\" style=\"fill: #ffffff\"/>\n   </g>\n   <g id=\"patch_3\">\n    <path d=\"M 94.499683 1.273276 \nL 254.419067 1.273276 \nL 254.419067 14.006034 \nL 94.499683 14.006034 \nz\n\" clip-path=\"url(#p5486bd1e54)\" style=\"fill: #d9e6f5; stroke: #444443; stroke-width: 0.5; stroke-linejoin: miter\"/>\n   </g>\n   <g id=\"patch_4\">\n    <path d=\"M 94.499683 15.27931 \nL 145.317439 15.27931 \nL 145.317439 28.012069 \nL 94.499683 28.012069 \nz\n\" clip-path=\"url(#p5486bd1e54)\" style=\"fill: #d9e6f5; stroke: #444443; stroke-width: 0.5; stroke-linejoin: miter\"/>\n   </g>\n   <g id=\"patch_5\">\n    <path d=\"M 94.499683 29.285345 \nL 125.568359 29.285345 \nL 125.568359 42.018103 \nL 94.499683 42.018103 \nz\n\" clip-path=\"url(#p5486bd1e54)\" style=\"fill: #d9e6f5; stroke: #444443; stroke-width: 0.5; stroke-linejoin: miter\"/>\n   </g>\n   <g id=\"patch_6\">\n    <path d=\"M 94.499683 43.291379 \nL 106.140401 43.291379 \nL 106.140401 56.024138 \nL 94.499683 56.024138 \nz\n\" clip-path=\"url(#p5486bd1e54)\" style=\"fill: #d9e6f5; stroke: #444443; stroke-width: 0.5; stroke-linejoin: miter\"/>\n   </g>\n   <g id=\"patch_7\">\n    <path d=\"M 94.499683 57.297414 \nL 100.601025 57.297414 \nL 100.601025 70.030172 \nL 94.499683 70.030172 \nz\n\" clip-path=\"url(#p5486bd1e54)\" style=\"fill: #d9e6f5; stroke: #444443; stroke-width: 0.5; stroke-linejoin: miter\"/>\n   </g>\n   <g id=\"patch_8\">\n    <path d=\"M 94.499683 71.303448 \nL 99.637655 71.303448 \nL 99.637655 84.036207 \nL 94.499683 84.036207 \nz\n\" clip-path=\"url(#p5486bd1e54)\" style=\"fill: #d9e6f5; stroke: #444443; stroke-width: 0.5; stroke-linejoin: miter\"/>\n   </g>\n   <g id=\"patch_9\">\n    <path d=\"M 94.499683 85.309483 \nL 97.389792 85.309483 \nL 97.389792 98.042241 \nL 94.499683 98.042241 \nz\n\" clip-path=\"url(#p5486bd1e54)\" style=\"fill: #d9e6f5; stroke: #444443; stroke-width: 0.5; stroke-linejoin: miter\"/>\n   </g>\n   <g id=\"patch_10\">\n    <path d=\"M 94.499683 99.315517 \nL 96.586984 99.315517 \nL 96.586984 112.048276 \nL 94.499683 112.048276 \nz\n\" clip-path=\"url(#p5486bd1e54)\" style=\"fill: #d9e6f5; stroke: #444443; stroke-width: 0.5; stroke-linejoin: miter\"/>\n   </g>\n   <g id=\"patch_11\">\n    <path d=\"M 94.499683 113.321552 \nL 96.506704 113.321552 \nL 96.506704 126.05431 \nL 94.499683 126.05431 \nz\n\" clip-path=\"url(#p5486bd1e54)\" style=\"fill: #d9e6f5; stroke: #444443; stroke-width: 0.5; stroke-linejoin: miter\"/>\n   </g>\n   <g id=\"patch_12\">\n    <path d=\"M 94.499683 127.327586 \nL 96.18558 127.327586 \nL 96.18558 140.060345 \nL 94.499683 140.060345 \nz\n\" clip-path=\"url(#p5486bd1e54)\" style=\"fill: #d9e6f5; stroke: #444443; stroke-width: 0.5; stroke-linejoin: miter\"/>\n   </g>\n   <g id=\"patch_13\">\n    <path d=\"M 94.499683 141.333621 \nL 96.105299 141.333621 \nL 96.105299 154.066379 \nL 94.499683 154.066379 \nz\n\" clip-path=\"url(#p5486bd1e54)\" style=\"fill: #d9e6f5; stroke: #444443; stroke-width: 0.5; stroke-linejoin: miter\"/>\n   </g>\n   <g id=\"patch_14\">\n    <path d=\"M 94.499683 155.339655 \nL 95.944738 155.339655 \nL 95.944738 168.072414 \nL 94.499683 168.072414 \nz\n\" clip-path=\"url(#p5486bd1e54)\" style=\"fill: #d9e6f5; stroke: #444443; stroke-width: 0.5; stroke-linejoin: miter\"/>\n   </g>\n   <g id=\"patch_15\">\n    <path d=\"M 94.499683 169.34569 \nL 95.864457 169.34569 \nL 95.864457 182.078448 \nL 94.499683 182.078448 \nz\n\" clip-path=\"url(#p5486bd1e54)\" style=\"fill: #d9e6f5; stroke: #444443; stroke-width: 0.5; stroke-linejoin: miter\"/>\n   </g>\n   <g id=\"patch_16\">\n    <path d=\"M 94.499683 183.351724 \nL 95.784176 183.351724 \nL 95.784176 196.084483 \nL 94.499683 196.084483 \nz\n\" clip-path=\"url(#p5486bd1e54)\" style=\"fill: #d9e6f5; stroke: #444443; stroke-width: 0.5; stroke-linejoin: miter\"/>\n   </g>\n   <g id=\"patch_17\">\n    <path d=\"M 94.499683 197.357759 \nL 95.543334 197.357759 \nL 95.543334 210.090517 \nL 94.499683 210.090517 \nz\n\" clip-path=\"url(#p5486bd1e54)\" style=\"fill: #d9e6f5; stroke: #444443; stroke-width: 0.5; stroke-linejoin: miter\"/>\n   </g>\n   <g id=\"patch_18\">\n    <path d=\"M 94.499683 211.363793 \nL 95.463053 211.363793 \nL 95.463053 224.096552 \nL 94.499683 224.096552 \nz\n\" clip-path=\"url(#p5486bd1e54)\" style=\"fill: #d9e6f5; stroke: #444443; stroke-width: 0.5; stroke-linejoin: miter\"/>\n   </g>\n   <g id=\"patch_19\">\n    <path d=\"M 94.499683 225.369828 \nL 95.302491 225.369828 \nL 95.302491 238.102586 \nL 94.499683 238.102586 \nz\n\" clip-path=\"url(#p5486bd1e54)\" style=\"fill: #d9e6f5; stroke: #444443; stroke-width: 0.5; stroke-linejoin: miter\"/>\n   </g>\n   <g id=\"patch_20\">\n    <path d=\"M 94.499683 239.375862 \nL 95.22221 239.375862 \nL 95.22221 252.108621 \nL 94.499683 252.108621 \nz\n\" clip-path=\"url(#p5486bd1e54)\" style=\"fill: #d9e6f5; stroke: #444443; stroke-width: 0.5; stroke-linejoin: miter\"/>\n   </g>\n   <g id=\"patch_21\">\n    <path d=\"M 94.499683 253.381897 \nL 95.061649 253.381897 \nL 95.061649 266.114655 \nL 94.499683 266.114655 \nz\n\" clip-path=\"url(#p5486bd1e54)\" style=\"fill: #d9e6f5; stroke: #444443; stroke-width: 0.5; stroke-linejoin: miter\"/>\n   </g>\n   <g id=\"patch_22\">\n    <path d=\"M 94.499683 267.387931 \nL 94.901087 267.387931 \nL 94.901087 280.12069 \nL 94.499683 280.12069 \nz\n\" clip-path=\"url(#p5486bd1e54)\" style=\"fill: #d9e6f5; stroke: #444443; stroke-width: 0.5; stroke-linejoin: miter\"/>\n   </g>\n   <g id=\"patch_23\">\n    <path d=\"M 94.499683 281.393966 \nL 94.820806 281.393966 \nL 94.820806 294.126724 \nL 94.499683 294.126724 \nz\n\" clip-path=\"url(#p5486bd1e54)\" style=\"fill: #d9e6f5; stroke: #444443; stroke-width: 0.5; stroke-linejoin: miter\"/>\n   </g>\n   <g id=\"matplotlib.axis_1\">\n    <g id=\"xtick_1\">\n     <g id=\"line2d_1\">\n      <defs>\n       <path id=\"m256a0c3dee\" d=\"M 0 0 \nL 0 3.5 \n\" style=\"stroke: #000000; stroke-width: 0.8\"/>\n      </defs>\n      <g>\n       <use xlink:href=\"#m256a0c3dee\" x=\"94.499683\" y=\"295.4\" style=\"stroke: #000000; stroke-width: 0.8\"/>\n      </g>\n     </g>\n     <g id=\"text_1\">\n      <!-- 0.00 -->\n      <g style=\"fill: #444443\" transform=\"translate(83.366871 309.998438) scale(0.1 -0.1)\">\n       <defs>\n        <path id=\"DejaVuSans-30\" d=\"M 2034 4250 \nQ 1547 4250 1301 3770 \nQ 1056 3291 1056 2328 \nQ 1056 1369 1301 889 \nQ 1547 409 2034 409 \nQ 2525 409 2770 889 \nQ 3016 1369 3016 2328 \nQ 3016 3291 2770 3770 \nQ 2525 4250 2034 4250 \nz\nM 2034 4750 \nQ 2819 4750 3233 4129 \nQ 3647 3509 3647 2328 \nQ 3647 1150 3233 529 \nQ 2819 -91 2034 -91 \nQ 1250 -91 836 529 \nQ 422 1150 422 2328 \nQ 422 3509 836 4129 \nQ 1250 4750 2034 4750 \nz\n\" transform=\"scale(0.015625)\"/>\n        <path id=\"DejaVuSans-2e\" d=\"M 684 794 \nL 1344 794 \nL 1344 0 \nL 684 0 \nL 684 794 \nz\n\" transform=\"scale(0.015625)\"/>\n       </defs>\n       <use xlink:href=\"#DejaVuSans-30\"/>\n       <use xlink:href=\"#DejaVuSans-2e\" x=\"63.623047\"/>\n       <use xlink:href=\"#DejaVuSans-30\" x=\"95.410156\"/>\n       <use xlink:href=\"#DejaVuSans-30\" x=\"159.033203\"/>\n      </g>\n     </g>\n    </g>\n    <g id=\"xtick_2\">\n     <g id=\"line2d_2\">\n      <g>\n       <use xlink:href=\"#m256a0c3dee\" x=\"255.221875\" y=\"295.4\" style=\"stroke: #000000; stroke-width: 0.8\"/>\n      </g>\n     </g>\n     <g id=\"text_2\">\n      <!-- 0.40 -->\n      <g style=\"fill: #444443\" transform=\"translate(244.089063 309.998438) scale(0.1 -0.1)\">\n       <defs>\n        <path id=\"DejaVuSans-34\" d=\"M 2419 4116 \nL 825 1625 \nL 2419 1625 \nL 2419 4116 \nz\nM 2253 4666 \nL 3047 4666 \nL 3047 1625 \nL 3713 1625 \nL 3713 1100 \nL 3047 1100 \nL 3047 0 \nL 2419 0 \nL 2419 1100 \nL 313 1100 \nL 313 1709 \nL 2253 4666 \nz\n\" transform=\"scale(0.015625)\"/>\n       </defs>\n       <use xlink:href=\"#DejaVuSans-30\"/>\n       <use xlink:href=\"#DejaVuSans-2e\" x=\"63.623047\"/>\n       <use xlink:href=\"#DejaVuSans-34\" x=\"95.410156\"/>\n       <use xlink:href=\"#DejaVuSans-30\" x=\"159.033203\"/>\n      </g>\n     </g>\n    </g>\n   </g>\n   <g id=\"matplotlib.axis_2\">\n    <g id=\"ytick_1\">\n     <g id=\"line2d_3\">\n      <defs>\n       <path id=\"m28b127c3dd\" d=\"M 0 0 \nL -3.5 0 \n\" style=\"stroke: #000000; stroke-width: 0.8\"/>\n      </defs>\n      <g>\n       <use xlink:href=\"#m28b127c3dd\" x=\"93.696875\" y=\"7.639655\" style=\"stroke: #000000; stroke-width: 0.8\"/>\n      </g>\n     </g>\n     <g id=\"text_3\">\n      <!-- koi_score -->\n      <g style=\"fill: #444443\" transform=\"translate(40.50625 11.438874) scale(0.1 -0.1)\">\n       <defs>\n        <path id=\"DejaVuSans-6b\" d=\"M 581 4863 \nL 1159 4863 \nL 1159 1991 \nL 2875 3500 \nL 3609 3500 \nL 1753 1863 \nL 3688 0 \nL 2938 0 \nL 1159 1709 \nL 1159 0 \nL 581 0 \nL 581 4863 \nz\n\" transform=\"scale(0.015625)\"/>\n        <path id=\"DejaVuSans-6f\" d=\"M 1959 3097 \nQ 1497 3097 1228 2736 \nQ 959 2375 959 1747 \nQ 959 1119 1226 758 \nQ 1494 397 1959 397 \nQ 2419 397 2687 759 \nQ 2956 1122 2956 1747 \nQ 2956 2369 2687 2733 \nQ 2419 3097 1959 3097 \nz\nM 1959 3584 \nQ 2709 3584 3137 3096 \nQ 3566 2609 3566 1747 \nQ 3566 888 3137 398 \nQ 2709 -91 1959 -91 \nQ 1206 -91 779 398 \nQ 353 888 353 1747 \nQ 353 2609 779 3096 \nQ 1206 3584 1959 3584 \nz\n\" transform=\"scale(0.015625)\"/>\n        <path id=\"DejaVuSans-69\" d=\"M 603 3500 \nL 1178 3500 \nL 1178 0 \nL 603 0 \nL 603 3500 \nz\nM 603 4863 \nL 1178 4863 \nL 1178 4134 \nL 603 4134 \nL 603 4863 \nz\n\" transform=\"scale(0.015625)\"/>\n        <path id=\"DejaVuSans-5f\" d=\"M 3263 -1063 \nL 3263 -1509 \nL -63 -1509 \nL -63 -1063 \nL 3263 -1063 \nz\n\" transform=\"scale(0.015625)\"/>\n        <path id=\"DejaVuSans-73\" d=\"M 2834 3397 \nL 2834 2853 \nQ 2591 2978 2328 3040 \nQ 2066 3103 1784 3103 \nQ 1356 3103 1142 2972 \nQ 928 2841 928 2578 \nQ 928 2378 1081 2264 \nQ 1234 2150 1697 2047 \nL 1894 2003 \nQ 2506 1872 2764 1633 \nQ 3022 1394 3022 966 \nQ 3022 478 2636 193 \nQ 2250 -91 1575 -91 \nQ 1294 -91 989 -36 \nQ 684 19 347 128 \nL 347 722 \nQ 666 556 975 473 \nQ 1284 391 1588 391 \nQ 1994 391 2212 530 \nQ 2431 669 2431 922 \nQ 2431 1156 2273 1281 \nQ 2116 1406 1581 1522 \nL 1381 1569 \nQ 847 1681 609 1914 \nQ 372 2147 372 2553 \nQ 372 3047 722 3315 \nQ 1072 3584 1716 3584 \nQ 2034 3584 2315 3537 \nQ 2597 3491 2834 3397 \nz\n\" transform=\"scale(0.015625)\"/>\n        <path id=\"DejaVuSans-63\" d=\"M 3122 3366 \nL 3122 2828 \nQ 2878 2963 2633 3030 \nQ 2388 3097 2138 3097 \nQ 1578 3097 1268 2742 \nQ 959 2388 959 1747 \nQ 959 1106 1268 751 \nQ 1578 397 2138 397 \nQ 2388 397 2633 464 \nQ 2878 531 3122 666 \nL 3122 134 \nQ 2881 22 2623 -34 \nQ 2366 -91 2075 -91 \nQ 1284 -91 818 406 \nQ 353 903 353 1747 \nQ 353 2603 823 3093 \nQ 1294 3584 2113 3584 \nQ 2378 3584 2631 3529 \nQ 2884 3475 3122 3366 \nz\n\" transform=\"scale(0.015625)\"/>\n        <path id=\"DejaVuSans-72\" d=\"M 2631 2963 \nQ 2534 3019 2420 3045 \nQ 2306 3072 2169 3072 \nQ 1681 3072 1420 2755 \nQ 1159 2438 1159 1844 \nL 1159 0 \nL 581 0 \nL 581 3500 \nL 1159 3500 \nL 1159 2956 \nQ 1341 3275 1631 3429 \nQ 1922 3584 2338 3584 \nQ 2397 3584 2469 3576 \nQ 2541 3569 2628 3553 \nL 2631 2963 \nz\n\" transform=\"scale(0.015625)\"/>\n        <path id=\"DejaVuSans-65\" d=\"M 3597 1894 \nL 3597 1613 \nL 953 1613 \nQ 991 1019 1311 708 \nQ 1631 397 2203 397 \nQ 2534 397 2845 478 \nQ 3156 559 3463 722 \nL 3463 178 \nQ 3153 47 2828 -22 \nQ 2503 -91 2169 -91 \nQ 1331 -91 842 396 \nQ 353 884 353 1716 \nQ 353 2575 817 3079 \nQ 1281 3584 2069 3584 \nQ 2775 3584 3186 3129 \nQ 3597 2675 3597 1894 \nz\nM 3022 2063 \nQ 3016 2534 2758 2815 \nQ 2500 3097 2075 3097 \nQ 1594 3097 1305 2825 \nQ 1016 2553 972 2059 \nL 3022 2063 \nz\n\" transform=\"scale(0.015625)\"/>\n       </defs>\n       <use xlink:href=\"#DejaVuSans-6b\"/>\n       <use xlink:href=\"#DejaVuSans-6f\" x=\"54.285156\"/>\n       <use xlink:href=\"#DejaVuSans-69\" x=\"115.466797\"/>\n       <use xlink:href=\"#DejaVuSans-5f\" x=\"143.25\"/>\n       <use xlink:href=\"#DejaVuSans-73\" x=\"193.25\"/>\n       <use xlink:href=\"#DejaVuSans-63\" x=\"245.349609\"/>\n       <use xlink:href=\"#DejaVuSans-6f\" x=\"300.330078\"/>\n       <use xlink:href=\"#DejaVuSans-72\" x=\"361.511719\"/>\n       <use xlink:href=\"#DejaVuSans-65\" x=\"400.375\"/>\n      </g>\n     </g>\n    </g>\n    <g id=\"ytick_2\">\n     <g id=\"line2d_4\">\n      <g>\n       <use xlink:href=\"#m28b127c3dd\" x=\"93.696875\" y=\"21.64569\" style=\"stroke: #000000; stroke-width: 0.8\"/>\n      </g>\n     </g>\n     <g id=\"text_4\">\n      <!-- koi_model_snr -->\n      <g style=\"fill: #444443\" transform=\"translate(15.575 25.444908) scale(0.1 -0.1)\">\n       <defs>\n        <path id=\"DejaVuSans-6d\" d=\"M 3328 2828 \nQ 3544 3216 3844 3400 \nQ 4144 3584 4550 3584 \nQ 5097 3584 5394 3201 \nQ 5691 2819 5691 2113 \nL 5691 0 \nL 5113 0 \nL 5113 2094 \nQ 5113 2597 4934 2840 \nQ 4756 3084 4391 3084 \nQ 3944 3084 3684 2787 \nQ 3425 2491 3425 1978 \nL 3425 0 \nL 2847 0 \nL 2847 2094 \nQ 2847 2600 2669 2842 \nQ 2491 3084 2119 3084 \nQ 1678 3084 1418 2786 \nQ 1159 2488 1159 1978 \nL 1159 0 \nL 581 0 \nL 581 3500 \nL 1159 3500 \nL 1159 2956 \nQ 1356 3278 1631 3431 \nQ 1906 3584 2284 3584 \nQ 2666 3584 2933 3390 \nQ 3200 3197 3328 2828 \nz\n\" transform=\"scale(0.015625)\"/>\n        <path id=\"DejaVuSans-64\" d=\"M 2906 2969 \nL 2906 4863 \nL 3481 4863 \nL 3481 0 \nL 2906 0 \nL 2906 525 \nQ 2725 213 2448 61 \nQ 2172 -91 1784 -91 \nQ 1150 -91 751 415 \nQ 353 922 353 1747 \nQ 353 2572 751 3078 \nQ 1150 3584 1784 3584 \nQ 2172 3584 2448 3432 \nQ 2725 3281 2906 2969 \nz\nM 947 1747 \nQ 947 1113 1208 752 \nQ 1469 391 1925 391 \nQ 2381 391 2643 752 \nQ 2906 1113 2906 1747 \nQ 2906 2381 2643 2742 \nQ 2381 3103 1925 3103 \nQ 1469 3103 1208 2742 \nQ 947 2381 947 1747 \nz\n\" transform=\"scale(0.015625)\"/>\n        <path id=\"DejaVuSans-6c\" d=\"M 603 4863 \nL 1178 4863 \nL 1178 0 \nL 603 0 \nL 603 4863 \nz\n\" transform=\"scale(0.015625)\"/>\n        <path id=\"DejaVuSans-6e\" d=\"M 3513 2113 \nL 3513 0 \nL 2938 0 \nL 2938 2094 \nQ 2938 2591 2744 2837 \nQ 2550 3084 2163 3084 \nQ 1697 3084 1428 2787 \nQ 1159 2491 1159 1978 \nL 1159 0 \nL 581 0 \nL 581 3500 \nL 1159 3500 \nL 1159 2956 \nQ 1366 3272 1645 3428 \nQ 1925 3584 2291 3584 \nQ 2894 3584 3203 3211 \nQ 3513 2838 3513 2113 \nz\n\" transform=\"scale(0.015625)\"/>\n       </defs>\n       <use xlink:href=\"#DejaVuSans-6b\"/>\n       <use xlink:href=\"#DejaVuSans-6f\" x=\"54.285156\"/>\n       <use xlink:href=\"#DejaVuSans-69\" x=\"115.466797\"/>\n       <use xlink:href=\"#DejaVuSans-5f\" x=\"143.25\"/>\n       <use xlink:href=\"#DejaVuSans-6d\" x=\"193.25\"/>\n       <use xlink:href=\"#DejaVuSans-6f\" x=\"290.662109\"/>\n       <use xlink:href=\"#DejaVuSans-64\" x=\"351.84375\"/>\n       <use xlink:href=\"#DejaVuSans-65\" x=\"415.320312\"/>\n       <use xlink:href=\"#DejaVuSans-6c\" x=\"476.84375\"/>\n       <use xlink:href=\"#DejaVuSans-5f\" x=\"504.626953\"/>\n       <use xlink:href=\"#DejaVuSans-73\" x=\"554.626953\"/>\n       <use xlink:href=\"#DejaVuSans-6e\" x=\"606.726562\"/>\n       <use xlink:href=\"#DejaVuSans-72\" x=\"670.105469\"/>\n      </g>\n     </g>\n    </g>\n    <g id=\"ytick_3\">\n     <g id=\"line2d_5\">\n      <g>\n       <use xlink:href=\"#m28b127c3dd\" x=\"93.696875\" y=\"35.651724\" style=\"stroke: #000000; stroke-width: 0.8\"/>\n      </g>\n     </g>\n     <g id=\"text_5\">\n      <!-- koi_prad -->\n      <g style=\"fill: #444443\" transform=\"translate(44.435938 39.450943) scale(0.1 -0.1)\">\n       <defs>\n        <path id=\"DejaVuSans-70\" d=\"M 1159 525 \nL 1159 -1331 \nL 581 -1331 \nL 581 3500 \nL 1159 3500 \nL 1159 2969 \nQ 1341 3281 1617 3432 \nQ 1894 3584 2278 3584 \nQ 2916 3584 3314 3078 \nQ 3713 2572 3713 1747 \nQ 3713 922 3314 415 \nQ 2916 -91 2278 -91 \nQ 1894 -91 1617 61 \nQ 1341 213 1159 525 \nz\nM 3116 1747 \nQ 3116 2381 2855 2742 \nQ 2594 3103 2138 3103 \nQ 1681 3103 1420 2742 \nQ 1159 2381 1159 1747 \nQ 1159 1113 1420 752 \nQ 1681 391 2138 391 \nQ 2594 391 2855 752 \nQ 3116 1113 3116 1747 \nz\n\" transform=\"scale(0.015625)\"/>\n        <path id=\"DejaVuSans-61\" d=\"M 2194 1759 \nQ 1497 1759 1228 1600 \nQ 959 1441 959 1056 \nQ 959 750 1161 570 \nQ 1363 391 1709 391 \nQ 2188 391 2477 730 \nQ 2766 1069 2766 1631 \nL 2766 1759 \nL 2194 1759 \nz\nM 3341 1997 \nL 3341 0 \nL 2766 0 \nL 2766 531 \nQ 2569 213 2275 61 \nQ 1981 -91 1556 -91 \nQ 1019 -91 701 211 \nQ 384 513 384 1019 \nQ 384 1609 779 1909 \nQ 1175 2209 1959 2209 \nL 2766 2209 \nL 2766 2266 \nQ 2766 2663 2505 2880 \nQ 2244 3097 1772 3097 \nQ 1472 3097 1187 3025 \nQ 903 2953 641 2809 \nL 641 3341 \nQ 956 3463 1253 3523 \nQ 1550 3584 1831 3584 \nQ 2591 3584 2966 3190 \nQ 3341 2797 3341 1997 \nz\n\" transform=\"scale(0.015625)\"/>\n       </defs>\n       <use xlink:href=\"#DejaVuSans-6b\"/>\n       <use xlink:href=\"#DejaVuSans-6f\" x=\"54.285156\"/>\n       <use xlink:href=\"#DejaVuSans-69\" x=\"115.466797\"/>\n       <use xlink:href=\"#DejaVuSans-5f\" x=\"143.25\"/>\n       <use xlink:href=\"#DejaVuSans-70\" x=\"193.25\"/>\n       <use xlink:href=\"#DejaVuSans-72\" x=\"256.726562\"/>\n       <use xlink:href=\"#DejaVuSans-61\" x=\"297.839844\"/>\n       <use xlink:href=\"#DejaVuSans-64\" x=\"359.119141\"/>\n      </g>\n     </g>\n    </g>\n    <g id=\"ytick_4\">\n     <g id=\"line2d_6\">\n      <g>\n       <use xlink:href=\"#m28b127c3dd\" x=\"93.696875\" y=\"49.657759\" style=\"stroke: #000000; stroke-width: 0.8\"/>\n      </g>\n     </g>\n     <g id=\"text_6\">\n      <!-- koi_impact -->\n      <g style=\"fill: #444443\" transform=\"translate(32.957813 53.456977) scale(0.1 -0.1)\">\n       <defs>\n        <path id=\"DejaVuSans-74\" d=\"M 1172 4494 \nL 1172 3500 \nL 2356 3500 \nL 2356 3053 \nL 1172 3053 \nL 1172 1153 \nQ 1172 725 1289 603 \nQ 1406 481 1766 481 \nL 2356 481 \nL 2356 0 \nL 1766 0 \nQ 1100 0 847 248 \nQ 594 497 594 1153 \nL 594 3053 \nL 172 3053 \nL 172 3500 \nL 594 3500 \nL 594 4494 \nL 1172 4494 \nz\n\" transform=\"scale(0.015625)\"/>\n       </defs>\n       <use xlink:href=\"#DejaVuSans-6b\"/>\n       <use xlink:href=\"#DejaVuSans-6f\" x=\"54.285156\"/>\n       <use xlink:href=\"#DejaVuSans-69\" x=\"115.466797\"/>\n       <use xlink:href=\"#DejaVuSans-5f\" x=\"143.25\"/>\n       <use xlink:href=\"#DejaVuSans-69\" x=\"193.25\"/>\n       <use xlink:href=\"#DejaVuSans-6d\" x=\"221.033203\"/>\n       <use xlink:href=\"#DejaVuSans-70\" x=\"318.445312\"/>\n       <use xlink:href=\"#DejaVuSans-61\" x=\"381.921875\"/>\n       <use xlink:href=\"#DejaVuSans-63\" x=\"443.201172\"/>\n       <use xlink:href=\"#DejaVuSans-74\" x=\"498.181641\"/>\n      </g>\n     </g>\n    </g>\n    <g id=\"ytick_5\">\n     <g id=\"line2d_7\">\n      <g>\n       <use xlink:href=\"#m28b127c3dd\" x=\"93.696875\" y=\"63.663793\" style=\"stroke: #000000; stroke-width: 0.8\"/>\n      </g>\n     </g>\n     <g id=\"text_7\">\n      <!-- koi_fpflag_nt -->\n      <g style=\"fill: #444443\" transform=\"translate(23.470313 67.463012) scale(0.1 -0.1)\">\n       <defs>\n        <path id=\"DejaVuSans-66\" d=\"M 2375 4863 \nL 2375 4384 \nL 1825 4384 \nQ 1516 4384 1395 4259 \nQ 1275 4134 1275 3809 \nL 1275 3500 \nL 2222 3500 \nL 2222 3053 \nL 1275 3053 \nL 1275 0 \nL 697 0 \nL 697 3053 \nL 147 3053 \nL 147 3500 \nL 697 3500 \nL 697 3744 \nQ 697 4328 969 4595 \nQ 1241 4863 1831 4863 \nL 2375 4863 \nz\n\" transform=\"scale(0.015625)\"/>\n        <path id=\"DejaVuSans-67\" d=\"M 2906 1791 \nQ 2906 2416 2648 2759 \nQ 2391 3103 1925 3103 \nQ 1463 3103 1205 2759 \nQ 947 2416 947 1791 \nQ 947 1169 1205 825 \nQ 1463 481 1925 481 \nQ 2391 481 2648 825 \nQ 2906 1169 2906 1791 \nz\nM 3481 434 \nQ 3481 -459 3084 -895 \nQ 2688 -1331 1869 -1331 \nQ 1566 -1331 1297 -1286 \nQ 1028 -1241 775 -1147 \nL 775 -588 \nQ 1028 -725 1275 -790 \nQ 1522 -856 1778 -856 \nQ 2344 -856 2625 -561 \nQ 2906 -266 2906 331 \nL 2906 616 \nQ 2728 306 2450 153 \nQ 2172 0 1784 0 \nQ 1141 0 747 490 \nQ 353 981 353 1791 \nQ 353 2603 747 3093 \nQ 1141 3584 1784 3584 \nQ 2172 3584 2450 3431 \nQ 2728 3278 2906 2969 \nL 2906 3500 \nL 3481 3500 \nL 3481 434 \nz\n\" transform=\"scale(0.015625)\"/>\n       </defs>\n       <use xlink:href=\"#DejaVuSans-6b\"/>\n       <use xlink:href=\"#DejaVuSans-6f\" x=\"54.285156\"/>\n       <use xlink:href=\"#DejaVuSans-69\" x=\"115.466797\"/>\n       <use xlink:href=\"#DejaVuSans-5f\" x=\"143.25\"/>\n       <use xlink:href=\"#DejaVuSans-66\" x=\"193.25\"/>\n       <use xlink:href=\"#DejaVuSans-70\" x=\"228.455078\"/>\n       <use xlink:href=\"#DejaVuSans-66\" x=\"291.931641\"/>\n       <use xlink:href=\"#DejaVuSans-6c\" x=\"327.136719\"/>\n       <use xlink:href=\"#DejaVuSans-61\" x=\"354.919922\"/>\n       <use xlink:href=\"#DejaVuSans-67\" x=\"416.199219\"/>\n       <use xlink:href=\"#DejaVuSans-5f\" x=\"479.675781\"/>\n       <use xlink:href=\"#DejaVuSans-6e\" x=\"529.675781\"/>\n       <use xlink:href=\"#DejaVuSans-74\" x=\"593.054688\"/>\n      </g>\n     </g>\n    </g>\n    <g id=\"ytick_6\">\n     <g id=\"line2d_8\">\n      <g>\n       <use xlink:href=\"#m28b127c3dd\" x=\"93.696875\" y=\"77.669828\" style=\"stroke: #000000; stroke-width: 0.8\"/>\n      </g>\n     </g>\n     <g id=\"text_8\">\n      <!-- koi_fpflag_co -->\n      <g style=\"fill: #444443\" transform=\"translate(22.110938 81.469046) scale(0.1 -0.1)\">\n       <use xlink:href=\"#DejaVuSans-6b\"/>\n       <use xlink:href=\"#DejaVuSans-6f\" x=\"54.285156\"/>\n       <use xlink:href=\"#DejaVuSans-69\" x=\"115.466797\"/>\n       <use xlink:href=\"#DejaVuSans-5f\" x=\"143.25\"/>\n       <use xlink:href=\"#DejaVuSans-66\" x=\"193.25\"/>\n       <use xlink:href=\"#DejaVuSans-70\" x=\"228.455078\"/>\n       <use xlink:href=\"#DejaVuSans-66\" x=\"291.931641\"/>\n       <use xlink:href=\"#DejaVuSans-6c\" x=\"327.136719\"/>\n       <use xlink:href=\"#DejaVuSans-61\" x=\"354.919922\"/>\n       <use xlink:href=\"#DejaVuSans-67\" x=\"416.199219\"/>\n       <use xlink:href=\"#DejaVuSans-5f\" x=\"479.675781\"/>\n       <use xlink:href=\"#DejaVuSans-63\" x=\"529.675781\"/>\n       <use xlink:href=\"#DejaVuSans-6f\" x=\"584.65625\"/>\n      </g>\n     </g>\n    </g>\n    <g id=\"ytick_7\">\n     <g id=\"line2d_9\">\n      <g>\n       <use xlink:href=\"#m28b127c3dd\" x=\"93.696875\" y=\"91.675862\" style=\"stroke: #000000; stroke-width: 0.8\"/>\n      </g>\n     </g>\n     <g id=\"text_9\">\n      <!-- koi_depth -->\n      <g style=\"fill: #444443\" transform=\"translate(38.264063 95.475081) scale(0.1 -0.1)\">\n       <defs>\n        <path id=\"DejaVuSans-68\" d=\"M 3513 2113 \nL 3513 0 \nL 2938 0 \nL 2938 2094 \nQ 2938 2591 2744 2837 \nQ 2550 3084 2163 3084 \nQ 1697 3084 1428 2787 \nQ 1159 2491 1159 1978 \nL 1159 0 \nL 581 0 \nL 581 4863 \nL 1159 4863 \nL 1159 2956 \nQ 1366 3272 1645 3428 \nQ 1925 3584 2291 3584 \nQ 2894 3584 3203 3211 \nQ 3513 2838 3513 2113 \nz\n\" transform=\"scale(0.015625)\"/>\n       </defs>\n       <use xlink:href=\"#DejaVuSans-6b\"/>\n       <use xlink:href=\"#DejaVuSans-6f\" x=\"54.285156\"/>\n       <use xlink:href=\"#DejaVuSans-69\" x=\"115.466797\"/>\n       <use xlink:href=\"#DejaVuSans-5f\" x=\"143.25\"/>\n       <use xlink:href=\"#DejaVuSans-64\" x=\"193.25\"/>\n       <use xlink:href=\"#DejaVuSans-65\" x=\"256.726562\"/>\n       <use xlink:href=\"#DejaVuSans-70\" x=\"318.25\"/>\n       <use xlink:href=\"#DejaVuSans-74\" x=\"381.726562\"/>\n       <use xlink:href=\"#DejaVuSans-68\" x=\"420.935547\"/>\n      </g>\n     </g>\n    </g>\n    <g id=\"ytick_8\">\n     <g id=\"line2d_10\">\n      <g>\n       <use xlink:href=\"#m28b127c3dd\" x=\"93.696875\" y=\"105.681897\" style=\"stroke: #000000; stroke-width: 0.8\"/>\n      </g>\n     </g>\n     <g id=\"text_10\">\n      <!-- koi_time0bk -->\n      <g style=\"fill: #444443\" transform=\"translate(26.278125 109.481115) scale(0.1 -0.1)\">\n       <defs>\n        <path id=\"DejaVuSans-62\" d=\"M 3116 1747 \nQ 3116 2381 2855 2742 \nQ 2594 3103 2138 3103 \nQ 1681 3103 1420 2742 \nQ 1159 2381 1159 1747 \nQ 1159 1113 1420 752 \nQ 1681 391 2138 391 \nQ 2594 391 2855 752 \nQ 3116 1113 3116 1747 \nz\nM 1159 2969 \nQ 1341 3281 1617 3432 \nQ 1894 3584 2278 3584 \nQ 2916 3584 3314 3078 \nQ 3713 2572 3713 1747 \nQ 3713 922 3314 415 \nQ 2916 -91 2278 -91 \nQ 1894 -91 1617 61 \nQ 1341 213 1159 525 \nL 1159 0 \nL 581 0 \nL 581 4863 \nL 1159 4863 \nL 1159 2969 \nz\n\" transform=\"scale(0.015625)\"/>\n       </defs>\n       <use xlink:href=\"#DejaVuSans-6b\"/>\n       <use xlink:href=\"#DejaVuSans-6f\" x=\"54.285156\"/>\n       <use xlink:href=\"#DejaVuSans-69\" x=\"115.466797\"/>\n       <use xlink:href=\"#DejaVuSans-5f\" x=\"143.25\"/>\n       <use xlink:href=\"#DejaVuSans-74\" x=\"193.25\"/>\n       <use xlink:href=\"#DejaVuSans-69\" x=\"232.458984\"/>\n       <use xlink:href=\"#DejaVuSans-6d\" x=\"260.242188\"/>\n       <use xlink:href=\"#DejaVuSans-65\" x=\"357.654297\"/>\n       <use xlink:href=\"#DejaVuSans-30\" x=\"419.177734\"/>\n       <use xlink:href=\"#DejaVuSans-62\" x=\"482.800781\"/>\n       <use xlink:href=\"#DejaVuSans-6b\" x=\"546.277344\"/>\n      </g>\n     </g>\n    </g>\n    <g id=\"ytick_9\">\n     <g id=\"line2d_11\">\n      <g>\n       <use xlink:href=\"#m28b127c3dd\" x=\"93.696875\" y=\"119.687931\" style=\"stroke: #000000; stroke-width: 0.8\"/>\n      </g>\n     </g>\n     <g id=\"text_11\">\n      <!-- ra -->\n      <g style=\"fill: #444443\" transform=\"translate(76.457813 123.48715) scale(0.1 -0.1)\">\n       <use xlink:href=\"#DejaVuSans-72\"/>\n       <use xlink:href=\"#DejaVuSans-61\" x=\"41.113281\"/>\n      </g>\n     </g>\n    </g>\n    <g id=\"ytick_10\">\n     <g id=\"line2d_12\">\n      <g>\n       <use xlink:href=\"#m28b127c3dd\" x=\"93.696875\" y=\"133.693966\" style=\"stroke: #000000; stroke-width: 0.8\"/>\n      </g>\n     </g>\n     <g id=\"text_12\">\n      <!-- koi_duration -->\n      <g style=\"fill: #444443\" transform=\"translate(25.292188 137.493184) scale(0.1 -0.1)\">\n       <defs>\n        <path id=\"DejaVuSans-75\" d=\"M 544 1381 \nL 544 3500 \nL 1119 3500 \nL 1119 1403 \nQ 1119 906 1312 657 \nQ 1506 409 1894 409 \nQ 2359 409 2629 706 \nQ 2900 1003 2900 1516 \nL 2900 3500 \nL 3475 3500 \nL 3475 0 \nL 2900 0 \nL 2900 538 \nQ 2691 219 2414 64 \nQ 2138 -91 1772 -91 \nQ 1169 -91 856 284 \nQ 544 659 544 1381 \nz\nM 1991 3584 \nL 1991 3584 \nz\n\" transform=\"scale(0.015625)\"/>\n       </defs>\n       <use xlink:href=\"#DejaVuSans-6b\"/>\n       <use xlink:href=\"#DejaVuSans-6f\" x=\"54.285156\"/>\n       <use xlink:href=\"#DejaVuSans-69\" x=\"115.466797\"/>\n       <use xlink:href=\"#DejaVuSans-5f\" x=\"143.25\"/>\n       <use xlink:href=\"#DejaVuSans-64\" x=\"193.25\"/>\n       <use xlink:href=\"#DejaVuSans-75\" x=\"256.726562\"/>\n       <use xlink:href=\"#DejaVuSans-72\" x=\"320.105469\"/>\n       <use xlink:href=\"#DejaVuSans-61\" x=\"361.21875\"/>\n       <use xlink:href=\"#DejaVuSans-74\" x=\"422.498047\"/>\n       <use xlink:href=\"#DejaVuSans-69\" x=\"461.707031\"/>\n       <use xlink:href=\"#DejaVuSans-6f\" x=\"489.490234\"/>\n       <use xlink:href=\"#DejaVuSans-6e\" x=\"550.671875\"/>\n      </g>\n     </g>\n    </g>\n    <g id=\"ytick_11\">\n     <g id=\"line2d_13\">\n      <g>\n       <use xlink:href=\"#m28b127c3dd\" x=\"93.696875\" y=\"147.7\" style=\"stroke: #000000; stroke-width: 0.8\"/>\n      </g>\n     </g>\n     <g id=\"text_13\">\n      <!-- dec -->\n      <g style=\"fill: #444443\" transform=\"translate(68.696875 151.499219) scale(0.1 -0.1)\">\n       <use xlink:href=\"#DejaVuSans-64\"/>\n       <use xlink:href=\"#DejaVuSans-65\" x=\"63.476562\"/>\n       <use xlink:href=\"#DejaVuSans-63\" x=\"125\"/>\n      </g>\n     </g>\n    </g>\n    <g id=\"ytick_12\">\n     <g id=\"line2d_14\">\n      <g>\n       <use xlink:href=\"#m28b127c3dd\" x=\"93.696875\" y=\"161.706034\" style=\"stroke: #000000; stroke-width: 0.8\"/>\n      </g>\n     </g>\n     <g id=\"text_14\">\n      <!-- koi_steff -->\n      <g style=\"fill: #444443\" transform=\"translate(45.048438 165.505253) scale(0.1 -0.1)\">\n       <use xlink:href=\"#DejaVuSans-6b\"/>\n       <use xlink:href=\"#DejaVuSans-6f\" x=\"54.285156\"/>\n       <use xlink:href=\"#DejaVuSans-69\" x=\"115.466797\"/>\n       <use xlink:href=\"#DejaVuSans-5f\" x=\"143.25\"/>\n       <use xlink:href=\"#DejaVuSans-73\" x=\"193.25\"/>\n       <use xlink:href=\"#DejaVuSans-74\" x=\"245.349609\"/>\n       <use xlink:href=\"#DejaVuSans-65\" x=\"284.558594\"/>\n       <use xlink:href=\"#DejaVuSans-66\" x=\"346.082031\"/>\n       <use xlink:href=\"#DejaVuSans-66\" x=\"381.287109\"/>\n      </g>\n     </g>\n    </g>\n    <g id=\"ytick_13\">\n     <g id=\"line2d_15\">\n      <g>\n       <use xlink:href=\"#m28b127c3dd\" x=\"93.696875\" y=\"175.712069\" style=\"stroke: #000000; stroke-width: 0.8\"/>\n      </g>\n     </g>\n     <g id=\"text_15\">\n      <!-- koi_kepmag -->\n      <g style=\"fill: #444443\" transform=\"translate(27.225 179.511288) scale(0.1 -0.1)\">\n       <use xlink:href=\"#DejaVuSans-6b\"/>\n       <use xlink:href=\"#DejaVuSans-6f\" x=\"54.285156\"/>\n       <use xlink:href=\"#DejaVuSans-69\" x=\"115.466797\"/>\n       <use xlink:href=\"#DejaVuSans-5f\" x=\"143.25\"/>\n       <use xlink:href=\"#DejaVuSans-6b\" x=\"193.25\"/>\n       <use xlink:href=\"#DejaVuSans-65\" x=\"247.535156\"/>\n       <use xlink:href=\"#DejaVuSans-70\" x=\"309.058594\"/>\n       <use xlink:href=\"#DejaVuSans-6d\" x=\"372.535156\"/>\n       <use xlink:href=\"#DejaVuSans-61\" x=\"469.947266\"/>\n       <use xlink:href=\"#DejaVuSans-67\" x=\"531.226562\"/>\n      </g>\n     </g>\n    </g>\n    <g id=\"ytick_14\">\n     <g id=\"line2d_16\">\n      <g>\n       <use xlink:href=\"#m28b127c3dd\" x=\"93.696875\" y=\"189.718103\" style=\"stroke: #000000; stroke-width: 0.8\"/>\n      </g>\n     </g>\n     <g id=\"text_16\">\n      <!-- koi_period -->\n      <g style=\"fill: #444443\" transform=\"translate(35.514063 193.517322) scale(0.1 -0.1)\">\n       <use xlink:href=\"#DejaVuSans-6b\"/>\n       <use xlink:href=\"#DejaVuSans-6f\" x=\"54.285156\"/>\n       <use xlink:href=\"#DejaVuSans-69\" x=\"115.466797\"/>\n       <use xlink:href=\"#DejaVuSans-5f\" x=\"143.25\"/>\n       <use xlink:href=\"#DejaVuSans-70\" x=\"193.25\"/>\n       <use xlink:href=\"#DejaVuSans-65\" x=\"256.726562\"/>\n       <use xlink:href=\"#DejaVuSans-72\" x=\"318.25\"/>\n       <use xlink:href=\"#DejaVuSans-69\" x=\"359.363281\"/>\n       <use xlink:href=\"#DejaVuSans-6f\" x=\"387.146484\"/>\n       <use xlink:href=\"#DejaVuSans-64\" x=\"448.328125\"/>\n      </g>\n     </g>\n    </g>\n    <g id=\"ytick_15\">\n     <g id=\"line2d_17\">\n      <g>\n       <use xlink:href=\"#m28b127c3dd\" x=\"93.696875\" y=\"203.724138\" style=\"stroke: #000000; stroke-width: 0.8\"/>\n      </g>\n     </g>\n     <g id=\"text_17\">\n      <!-- koi_tce_plnt_num -->\n      <g style=\"fill: #444443\" transform=\"translate(0 207.523357) scale(0.1 -0.1)\">\n       <use xlink:href=\"#DejaVuSans-6b\"/>\n       <use xlink:href=\"#DejaVuSans-6f\" x=\"54.285156\"/>\n       <use xlink:href=\"#DejaVuSans-69\" x=\"115.466797\"/>\n       <use xlink:href=\"#DejaVuSans-5f\" x=\"143.25\"/>\n       <use xlink:href=\"#DejaVuSans-74\" x=\"193.25\"/>\n       <use xlink:href=\"#DejaVuSans-63\" x=\"232.458984\"/>\n       <use xlink:href=\"#DejaVuSans-65\" x=\"287.439453\"/>\n       <use xlink:href=\"#DejaVuSans-5f\" x=\"348.962891\"/>\n       <use xlink:href=\"#DejaVuSans-70\" x=\"398.962891\"/>\n       <use xlink:href=\"#DejaVuSans-6c\" x=\"462.439453\"/>\n       <use xlink:href=\"#DejaVuSans-6e\" x=\"490.222656\"/>\n       <use xlink:href=\"#DejaVuSans-74\" x=\"553.601562\"/>\n       <use xlink:href=\"#DejaVuSans-5f\" x=\"592.810547\"/>\n       <use xlink:href=\"#DejaVuSans-6e\" x=\"642.810547\"/>\n       <use xlink:href=\"#DejaVuSans-75\" x=\"706.189453\"/>\n       <use xlink:href=\"#DejaVuSans-6d\" x=\"769.568359\"/>\n      </g>\n     </g>\n    </g>\n    <g id=\"ytick_16\">\n     <g id=\"line2d_18\">\n      <g>\n       <use xlink:href=\"#m28b127c3dd\" x=\"93.696875\" y=\"217.730172\" style=\"stroke: #000000; stroke-width: 0.8\"/>\n      </g>\n     </g>\n     <g id=\"text_18\">\n      <!-- koi_teq -->\n      <g style=\"fill: #444443\" transform=\"translate(50.95 221.529391) scale(0.1 -0.1)\">\n       <defs>\n        <path id=\"DejaVuSans-71\" d=\"M 947 1747 \nQ 947 1113 1208 752 \nQ 1469 391 1925 391 \nQ 2381 391 2643 752 \nQ 2906 1113 2906 1747 \nQ 2906 2381 2643 2742 \nQ 2381 3103 1925 3103 \nQ 1469 3103 1208 2742 \nQ 947 2381 947 1747 \nz\nM 2906 525 \nQ 2725 213 2448 61 \nQ 2172 -91 1784 -91 \nQ 1150 -91 751 415 \nQ 353 922 353 1747 \nQ 353 2572 751 3078 \nQ 1150 3584 1784 3584 \nQ 2172 3584 2448 3432 \nQ 2725 3281 2906 2969 \nL 2906 3500 \nL 3481 3500 \nL 3481 -1331 \nL 2906 -1331 \nL 2906 525 \nz\n\" transform=\"scale(0.015625)\"/>\n       </defs>\n       <use xlink:href=\"#DejaVuSans-6b\"/>\n       <use xlink:href=\"#DejaVuSans-6f\" x=\"54.285156\"/>\n       <use xlink:href=\"#DejaVuSans-69\" x=\"115.466797\"/>\n       <use xlink:href=\"#DejaVuSans-5f\" x=\"143.25\"/>\n       <use xlink:href=\"#DejaVuSans-74\" x=\"193.25\"/>\n       <use xlink:href=\"#DejaVuSans-65\" x=\"232.458984\"/>\n       <use xlink:href=\"#DejaVuSans-71\" x=\"293.982422\"/>\n      </g>\n     </g>\n    </g>\n    <g id=\"ytick_17\">\n     <g id=\"line2d_19\">\n      <g>\n       <use xlink:href=\"#m28b127c3dd\" x=\"93.696875\" y=\"231.736207\" style=\"stroke: #000000; stroke-width: 0.8\"/>\n      </g>\n     </g>\n     <g id=\"text_19\">\n      <!-- koi_fpflag_ss -->\n      <g style=\"fill: #444443\" transform=\"translate(23.309375 235.535426) scale(0.1 -0.1)\">\n       <use xlink:href=\"#DejaVuSans-6b\"/>\n       <use xlink:href=\"#DejaVuSans-6f\" x=\"54.285156\"/>\n       <use xlink:href=\"#DejaVuSans-69\" x=\"115.466797\"/>\n       <use xlink:href=\"#DejaVuSans-5f\" x=\"143.25\"/>\n       <use xlink:href=\"#DejaVuSans-66\" x=\"193.25\"/>\n       <use xlink:href=\"#DejaVuSans-70\" x=\"228.455078\"/>\n       <use xlink:href=\"#DejaVuSans-66\" x=\"291.931641\"/>\n       <use xlink:href=\"#DejaVuSans-6c\" x=\"327.136719\"/>\n       <use xlink:href=\"#DejaVuSans-61\" x=\"354.919922\"/>\n       <use xlink:href=\"#DejaVuSans-67\" x=\"416.199219\"/>\n       <use xlink:href=\"#DejaVuSans-5f\" x=\"479.675781\"/>\n       <use xlink:href=\"#DejaVuSans-73\" x=\"529.675781\"/>\n       <use xlink:href=\"#DejaVuSans-73\" x=\"581.775391\"/>\n      </g>\n     </g>\n    </g>\n    <g id=\"ytick_18\">\n     <g id=\"line2d_20\">\n      <g>\n       <use xlink:href=\"#m28b127c3dd\" x=\"93.696875\" y=\"245.742241\" style=\"stroke: #000000; stroke-width: 0.8\"/>\n      </g>\n     </g>\n     <g id=\"text_20\">\n      <!-- koi_insol -->\n      <g style=\"fill: #444443\" transform=\"translate(44.15 249.54146) scale(0.1 -0.1)\">\n       <use xlink:href=\"#DejaVuSans-6b\"/>\n       <use xlink:href=\"#DejaVuSans-6f\" x=\"54.285156\"/>\n       <use xlink:href=\"#DejaVuSans-69\" x=\"115.466797\"/>\n       <use xlink:href=\"#DejaVuSans-5f\" x=\"143.25\"/>\n       <use xlink:href=\"#DejaVuSans-69\" x=\"193.25\"/>\n       <use xlink:href=\"#DejaVuSans-6e\" x=\"221.033203\"/>\n       <use xlink:href=\"#DejaVuSans-73\" x=\"284.412109\"/>\n       <use xlink:href=\"#DejaVuSans-6f\" x=\"336.511719\"/>\n       <use xlink:href=\"#DejaVuSans-6c\" x=\"397.693359\"/>\n      </g>\n     </g>\n    </g>\n    <g id=\"ytick_19\">\n     <g id=\"line2d_21\">\n      <g>\n       <use xlink:href=\"#m28b127c3dd\" x=\"93.696875\" y=\"259.748276\" style=\"stroke: #000000; stroke-width: 0.8\"/>\n      </g>\n     </g>\n     <g id=\"text_21\">\n      <!-- koi_slogg -->\n      <g style=\"fill: #444443\" transform=\"translate(40.56875 263.547495) scale(0.1 -0.1)\">\n       <use xlink:href=\"#DejaVuSans-6b\"/>\n       <use xlink:href=\"#DejaVuSans-6f\" x=\"54.285156\"/>\n       <use xlink:href=\"#DejaVuSans-69\" x=\"115.466797\"/>\n       <use xlink:href=\"#DejaVuSans-5f\" x=\"143.25\"/>\n       <use xlink:href=\"#DejaVuSans-73\" x=\"193.25\"/>\n       <use xlink:href=\"#DejaVuSans-6c\" x=\"245.349609\"/>\n       <use xlink:href=\"#DejaVuSans-6f\" x=\"273.132812\"/>\n       <use xlink:href=\"#DejaVuSans-67\" x=\"334.314453\"/>\n       <use xlink:href=\"#DejaVuSans-67\" x=\"397.791016\"/>\n      </g>\n     </g>\n    </g>\n    <g id=\"ytick_20\">\n     <g id=\"line2d_22\">\n      <g>\n       <use xlink:href=\"#m28b127c3dd\" x=\"93.696875\" y=\"273.75431\" style=\"stroke: #000000; stroke-width: 0.8\"/>\n      </g>\n     </g>\n     <g id=\"text_22\">\n      <!-- koi_fpflag_ec -->\n      <g style=\"fill: #444443\" transform=\"translate(22.076563 277.553529) scale(0.1 -0.1)\">\n       <use xlink:href=\"#DejaVuSans-6b\"/>\n       <use xlink:href=\"#DejaVuSans-6f\" x=\"54.285156\"/>\n       <use xlink:href=\"#DejaVuSans-69\" x=\"115.466797\"/>\n       <use xlink:href=\"#DejaVuSans-5f\" x=\"143.25\"/>\n       <use xlink:href=\"#DejaVuSans-66\" x=\"193.25\"/>\n       <use xlink:href=\"#DejaVuSans-70\" x=\"228.455078\"/>\n       <use xlink:href=\"#DejaVuSans-66\" x=\"291.931641\"/>\n       <use xlink:href=\"#DejaVuSans-6c\" x=\"327.136719\"/>\n       <use xlink:href=\"#DejaVuSans-61\" x=\"354.919922\"/>\n       <use xlink:href=\"#DejaVuSans-67\" x=\"416.199219\"/>\n       <use xlink:href=\"#DejaVuSans-5f\" x=\"479.675781\"/>\n       <use xlink:href=\"#DejaVuSans-65\" x=\"529.675781\"/>\n       <use xlink:href=\"#DejaVuSans-63\" x=\"591.199219\"/>\n      </g>\n     </g>\n    </g>\n    <g id=\"ytick_21\">\n     <g id=\"line2d_23\">\n      <g>\n       <use xlink:href=\"#m28b127c3dd\" x=\"93.696875\" y=\"287.760345\" style=\"stroke: #000000; stroke-width: 0.8\"/>\n      </g>\n     </g>\n     <g id=\"text_23\">\n      <!-- koi_srad -->\n      <g style=\"fill: #444443\" transform=\"translate(45.575 291.559564) scale(0.1 -0.1)\">\n       <use xlink:href=\"#DejaVuSans-6b\"/>\n       <use xlink:href=\"#DejaVuSans-6f\" x=\"54.285156\"/>\n       <use xlink:href=\"#DejaVuSans-69\" x=\"115.466797\"/>\n       <use xlink:href=\"#DejaVuSans-5f\" x=\"143.25\"/>\n       <use xlink:href=\"#DejaVuSans-73\" x=\"193.25\"/>\n       <use xlink:href=\"#DejaVuSans-72\" x=\"245.349609\"/>\n       <use xlink:href=\"#DejaVuSans-61\" x=\"286.462891\"/>\n       <use xlink:href=\"#DejaVuSans-64\" x=\"347.742188\"/>\n      </g>\n     </g>\n    </g>\n   </g>\n   <g id=\"patch_24\">\n    <path d=\"M 93.696875 295.4 \nL 93.696875 0 \n\" style=\"fill: none; stroke: #000000; stroke-width: 0.3; stroke-linejoin: miter; stroke-linecap: square\"/>\n   </g>\n   <g id=\"patch_25\">\n    <path d=\"M 255.221875 295.4 \nL 255.221875 0 \n\" style=\"fill: none; stroke: #000000; stroke-width: 0.3; stroke-linejoin: miter; stroke-linecap: square\"/>\n   </g>\n   <g id=\"patch_26\">\n    <path d=\"M 93.696875 295.4 \nL 255.221875 295.4 \n\" style=\"fill: none; stroke: #000000; stroke-width: 0.3; stroke-linejoin: miter; stroke-linecap: square\"/>\n   </g>\n   <g id=\"patch_27\">\n    <path d=\"M 93.696875 0 \nL 255.221875 0 \n\" style=\"fill: none; stroke: #000000; stroke-width: 0.3; stroke-linejoin: miter; stroke-linecap: square\"/>\n   </g>\n  </g>\n </g>\n <defs>\n  <clipPath id=\"p5486bd1e54\">\n   <rect x=\"93.696875\" y=\"0\" width=\"161.525\" height=\"295.4\"/>\n  </clipPath>\n </defs>\n</svg>\n"
          },
          "metadata": {},
          "execution_count": 22
        }
      ]
    },
    {
      "cell_type": "markdown",
      "source": [
        "### Training the model after a Train Test Split"
      ],
      "metadata": {
        "id": "HnXf5dNt6j-E"
      }
    },
    {
      "cell_type": "code",
      "source": [
        "from sklearn.model_selection import train_test_split\n",
        "\n",
        "X_train, X_test, y_train, y_test = train_test_split(features,target,test_size=0.2)"
      ],
      "metadata": {
        "id": "Lr9OZTZP6liw"
      },
      "execution_count": 23,
      "outputs": []
    },
    {
      "cell_type": "code",
      "source": [
        "from sklearn.ensemble import RandomForestClassifier\n",
        "\n",
        "model = RandomForestClassifier(n_estimators = 300, oob_score=True)\n",
        "model.fit(X_train,y_train)\n",
        "oob_score = model.oob_score_\n",
        "print(\"The Model OOB Score:\",oob_score)"
      ],
      "metadata": {
        "colab": {
          "base_uri": "https://localhost:8080/"
        },
        "id": "Fg-qDHSg6pwY",
        "outputId": "2435b2ab-fe95-4a8d-b3a6-0bb9f36a9d17"
      },
      "execution_count": 27,
      "outputs": [
        {
          "output_type": "stream",
          "name": "stdout",
          "text": [
            "The Model OOB Score: 0.9169663799843628\n"
          ]
        }
      ]
    },
    {
      "cell_type": "code",
      "source": [
        "from rfpimp import importances, plot_importances\n",
        "\n",
        "imp = importances(model, features, target)\n",
        "print(imp)\n",
        "plot_importances(imp)"
      ],
      "metadata": {
        "colab": {
          "base_uri": "https://localhost:8080/",
          "height": 837
        },
        "id": "NWTND0vE60B9",
        "outputId": "959a4328-8a4a-4f61-c3a8-dde16942d06d"
      },
      "execution_count": 28,
      "outputs": [
        {
          "output_type": "stream",
          "name": "stdout",
          "text": [
            "                  Importance\n",
            "Feature                     \n",
            "koi_score             0.3902\n",
            "koi_model_snr         0.1218\n",
            "koi_prad              0.0624\n",
            "koi_impact            0.0286\n",
            "koi_fpflag_co         0.0152\n",
            "koi_fpflag_nt         0.0104\n",
            "koi_depth             0.0046\n",
            "koi_duration          0.0038\n",
            "koi_time0bk           0.0028\n",
            "koi_tce_plnt_num      0.0024\n",
            "koi_steff             0.0020\n",
            "dec                   0.0018\n",
            "ra                    0.0012\n",
            "koi_kepmag            0.0012\n",
            "koi_fpflag_ss         0.0012\n",
            "koi_srad              0.0010\n",
            "koi_insol             0.0010\n",
            "koi_slogg             0.0006\n",
            "koi_teq               0.0006\n",
            "koi_period            0.0006\n",
            "koi_fpflag_ec         0.0000\n"
          ]
        },
        {
          "output_type": "execute_result",
          "data": {
            "text/plain": [
              "<rfpimp.PimpViz at 0x7b6976029fc0>"
            ],
            "image/svg+xml": "<?xml version=\"1.0\" encoding=\"utf-8\" standalone=\"no\"?>\n<!DOCTYPE svg PUBLIC \"-//W3C//DTD SVG 1.1//EN\"\n  \"http://www.w3.org/Graphics/SVG/1.1/DTD/svg11.dtd\">\n<svg xmlns:xlink=\"http://www.w3.org/1999/xlink\" width=\"266.309687pt\" height=\"312.078125pt\" viewBox=\"0 0 266.309687 312.078125\" xmlns=\"http://www.w3.org/2000/svg\" version=\"1.1\">\n <metadata>\n  <rdf:RDF xmlns:dc=\"http://purl.org/dc/elements/1.1/\" xmlns:cc=\"http://creativecommons.org/ns#\" xmlns:rdf=\"http://www.w3.org/1999/02/22-rdf-syntax-ns#\">\n   <cc:Work>\n    <dc:type rdf:resource=\"http://purl.org/dc/dcmitype/StillImage\"/>\n    <dc:date>2024-08-16T02:04:23.876264</dc:date>\n    <dc:format>image/svg+xml</dc:format>\n    <dc:creator>\n     <cc:Agent>\n      <dc:title>Matplotlib v3.7.1, https://matplotlib.org/</dc:title>\n     </cc:Agent>\n    </dc:creator>\n   </cc:Work>\n  </rdf:RDF>\n </metadata>\n <defs>\n  <style type=\"text/css\">*{stroke-linejoin: round; stroke-linecap: butt}</style>\n </defs>\n <g id=\"figure_1\">\n  <g id=\"patch_1\">\n   <path d=\"M 0 312.078125 \nL 266.309687 312.078125 \nL 266.309687 0 \nL 0 0 \nz\n\" style=\"fill: #ffffff\"/>\n  </g>\n  <g id=\"axes_1\">\n   <g id=\"patch_2\">\n    <path d=\"M 93.696875 295.4 \nL 255.176875 295.4 \nL 255.176875 0 \nL 93.696875 0 \nz\n\" style=\"fill: #ffffff\"/>\n   </g>\n   <g id=\"patch_3\">\n    <path d=\"M 94.516155 1.273276 \nL 254.357595 1.273276 \nL 254.357595 14.006034 \nL 94.516155 14.006034 \nz\n\" clip-path=\"url(#p18dc27efbc)\" style=\"fill: #d9e6f5; stroke: #444443; stroke-width: 0.5; stroke-linejoin: miter\"/>\n   </g>\n   <g id=\"patch_4\">\n    <path d=\"M 94.516155 15.27931 \nL 144.410279 15.27931 \nL 144.410279 28.012069 \nL 94.516155 28.012069 \nz\n\" clip-path=\"url(#p18dc27efbc)\" style=\"fill: #d9e6f5; stroke: #444443; stroke-width: 0.5; stroke-linejoin: miter\"/>\n   </g>\n   <g id=\"patch_5\">\n    <path d=\"M 94.516155 29.285345 \nL 120.077677 29.285345 \nL 120.077677 42.018103 \nL 94.516155 42.018103 \nz\n\" clip-path=\"url(#p18dc27efbc)\" style=\"fill: #d9e6f5; stroke: #444443; stroke-width: 0.5; stroke-linejoin: miter\"/>\n   </g>\n   <g id=\"patch_6\">\n    <path d=\"M 94.516155 43.291379 \nL 106.231852 43.291379 \nL 106.231852 56.024138 \nL 94.516155 56.024138 \nz\n\" clip-path=\"url(#p18dc27efbc)\" style=\"fill: #d9e6f5; stroke: #444443; stroke-width: 0.5; stroke-linejoin: miter\"/>\n   </g>\n   <g id=\"patch_7\">\n    <path d=\"M 94.516155 57.297414 \nL 100.742679 57.297414 \nL 100.742679 70.030172 \nL 94.516155 70.030172 \nz\n\" clip-path=\"url(#p18dc27efbc)\" style=\"fill: #d9e6f5; stroke: #444443; stroke-width: 0.5; stroke-linejoin: miter\"/>\n   </g>\n   <g id=\"patch_8\">\n    <path d=\"M 94.516155 71.303448 \nL 98.776408 71.303448 \nL 98.776408 84.036207 \nL 94.516155 84.036207 \nz\n\" clip-path=\"url(#p18dc27efbc)\" style=\"fill: #d9e6f5; stroke: #444443; stroke-width: 0.5; stroke-linejoin: miter\"/>\n   </g>\n   <g id=\"patch_9\">\n    <path d=\"M 94.516155 85.309483 \nL 96.400498 85.309483 \nL 96.400498 98.042241 \nL 94.516155 98.042241 \nz\n\" clip-path=\"url(#p18dc27efbc)\" style=\"fill: #d9e6f5; stroke: #444443; stroke-width: 0.5; stroke-linejoin: miter\"/>\n   </g>\n   <g id=\"patch_10\">\n    <path d=\"M 94.516155 99.315517 \nL 96.072786 99.315517 \nL 96.072786 112.048276 \nL 94.516155 112.048276 \nz\n\" clip-path=\"url(#p18dc27efbc)\" style=\"fill: #d9e6f5; stroke: #444443; stroke-width: 0.5; stroke-linejoin: miter\"/>\n   </g>\n   <g id=\"patch_11\">\n    <path d=\"M 94.516155 113.321552 \nL 95.663146 113.321552 \nL 95.663146 126.05431 \nL 94.516155 126.05431 \nz\n\" clip-path=\"url(#p18dc27efbc)\" style=\"fill: #d9e6f5; stroke: #444443; stroke-width: 0.5; stroke-linejoin: miter\"/>\n   </g>\n   <g id=\"patch_12\">\n    <path d=\"M 94.516155 127.327586 \nL 95.49929 127.327586 \nL 95.49929 140.060345 \nL 94.516155 140.060345 \nz\n\" clip-path=\"url(#p18dc27efbc)\" style=\"fill: #d9e6f5; stroke: #444443; stroke-width: 0.5; stroke-linejoin: miter\"/>\n   </g>\n   <g id=\"patch_13\">\n    <path d=\"M 94.516155 141.333621 \nL 95.335434 141.333621 \nL 95.335434 154.066379 \nL 94.516155 154.066379 \nz\n\" clip-path=\"url(#p18dc27efbc)\" style=\"fill: #d9e6f5; stroke: #444443; stroke-width: 0.5; stroke-linejoin: miter\"/>\n   </g>\n   <g id=\"patch_14\">\n    <path d=\"M 94.516155 155.339655 \nL 95.253506 155.339655 \nL 95.253506 168.072414 \nL 94.516155 168.072414 \nz\n\" clip-path=\"url(#p18dc27efbc)\" style=\"fill: #d9e6f5; stroke: #444443; stroke-width: 0.5; stroke-linejoin: miter\"/>\n   </g>\n   <g id=\"patch_15\">\n    <path d=\"M 94.516155 169.34569 \nL 95.007722 169.34569 \nL 95.007722 182.078448 \nL 94.516155 182.078448 \nz\n\" clip-path=\"url(#p18dc27efbc)\" style=\"fill: #d9e6f5; stroke: #444443; stroke-width: 0.5; stroke-linejoin: miter\"/>\n   </g>\n   <g id=\"patch_16\">\n    <path d=\"M 94.516155 183.351724 \nL 95.007722 183.351724 \nL 95.007722 196.084483 \nL 94.516155 196.084483 \nz\n\" clip-path=\"url(#p18dc27efbc)\" style=\"fill: #d9e6f5; stroke: #444443; stroke-width: 0.5; stroke-linejoin: miter\"/>\n   </g>\n   <g id=\"patch_17\">\n    <path d=\"M 94.516155 197.357759 \nL 95.007722 197.357759 \nL 95.007722 210.090517 \nL 94.516155 210.090517 \nz\n\" clip-path=\"url(#p18dc27efbc)\" style=\"fill: #d9e6f5; stroke: #444443; stroke-width: 0.5; stroke-linejoin: miter\"/>\n   </g>\n   <g id=\"patch_18\">\n    <path d=\"M 94.516155 211.363793 \nL 94.925794 211.363793 \nL 94.925794 224.096552 \nL 94.516155 224.096552 \nz\n\" clip-path=\"url(#p18dc27efbc)\" style=\"fill: #d9e6f5; stroke: #444443; stroke-width: 0.5; stroke-linejoin: miter\"/>\n   </g>\n   <g id=\"patch_19\">\n    <path d=\"M 94.516155 225.369828 \nL 94.925794 225.369828 \nL 94.925794 238.102586 \nL 94.516155 238.102586 \nz\n\" clip-path=\"url(#p18dc27efbc)\" style=\"fill: #d9e6f5; stroke: #444443; stroke-width: 0.5; stroke-linejoin: miter\"/>\n   </g>\n   <g id=\"patch_20\">\n    <path d=\"M 94.516155 239.375862 \nL 94.761938 239.375862 \nL 94.761938 252.108621 \nL 94.516155 252.108621 \nz\n\" clip-path=\"url(#p18dc27efbc)\" style=\"fill: #d9e6f5; stroke: #444443; stroke-width: 0.5; stroke-linejoin: miter\"/>\n   </g>\n   <g id=\"patch_21\">\n    <path d=\"M 94.516155 253.381897 \nL 94.761938 253.381897 \nL 94.761938 266.114655 \nL 94.516155 266.114655 \nz\n\" clip-path=\"url(#p18dc27efbc)\" style=\"fill: #d9e6f5; stroke: #444443; stroke-width: 0.5; stroke-linejoin: miter\"/>\n   </g>\n   <g id=\"patch_22\">\n    <path d=\"M 94.516155 267.387931 \nL 94.761938 267.387931 \nL 94.761938 280.12069 \nL 94.516155 280.12069 \nz\n\" clip-path=\"url(#p18dc27efbc)\" style=\"fill: #d9e6f5; stroke: #444443; stroke-width: 0.5; stroke-linejoin: miter\"/>\n   </g>\n   <g id=\"patch_23\">\n    <path d=\"M 94.516155 281.393966 \nL 94.516155 281.393966 \nL 94.516155 294.126724 \nL 94.516155 294.126724 \nz\n\" clip-path=\"url(#p18dc27efbc)\" style=\"fill: #d9e6f5; stroke: #444443; stroke-width: 0.5; stroke-linejoin: miter\"/>\n   </g>\n   <g id=\"matplotlib.axis_1\">\n    <g id=\"xtick_1\">\n     <g id=\"line2d_1\">\n      <defs>\n       <path id=\"md745aafb26\" d=\"M 0 0 \nL 0 3.5 \n\" style=\"stroke: #000000; stroke-width: 0.8\"/>\n      </defs>\n      <g>\n       <use xlink:href=\"#md745aafb26\" x=\"94.516155\" y=\"295.4\" style=\"stroke: #000000; stroke-width: 0.8\"/>\n      </g>\n     </g>\n     <g id=\"text_1\">\n      <!-- 0.00 -->\n      <g style=\"fill: #444443\" transform=\"translate(83.383342 309.998438) scale(0.1 -0.1)\">\n       <defs>\n        <path id=\"DejaVuSans-30\" d=\"M 2034 4250 \nQ 1547 4250 1301 3770 \nQ 1056 3291 1056 2328 \nQ 1056 1369 1301 889 \nQ 1547 409 2034 409 \nQ 2525 409 2770 889 \nQ 3016 1369 3016 2328 \nQ 3016 3291 2770 3770 \nQ 2525 4250 2034 4250 \nz\nM 2034 4750 \nQ 2819 4750 3233 4129 \nQ 3647 3509 3647 2328 \nQ 3647 1150 3233 529 \nQ 2819 -91 2034 -91 \nQ 1250 -91 836 529 \nQ 422 1150 422 2328 \nQ 422 3509 836 4129 \nQ 1250 4750 2034 4750 \nz\n\" transform=\"scale(0.015625)\"/>\n        <path id=\"DejaVuSans-2e\" d=\"M 684 794 \nL 1344 794 \nL 1344 0 \nL 684 0 \nL 684 794 \nz\n\" transform=\"scale(0.015625)\"/>\n       </defs>\n       <use xlink:href=\"#DejaVuSans-30\"/>\n       <use xlink:href=\"#DejaVuSans-2e\" x=\"63.623047\"/>\n       <use xlink:href=\"#DejaVuSans-30\" x=\"95.410156\"/>\n       <use xlink:href=\"#DejaVuSans-30\" x=\"159.033203\"/>\n      </g>\n     </g>\n    </g>\n    <g id=\"xtick_2\">\n     <g id=\"line2d_2\">\n      <g>\n       <use xlink:href=\"#md745aafb26\" x=\"255.176875\" y=\"295.4\" style=\"stroke: #000000; stroke-width: 0.8\"/>\n      </g>\n     </g>\n     <g id=\"text_2\">\n      <!-- 0.39 -->\n      <g style=\"fill: #444443\" transform=\"translate(244.044062 309.998438) scale(0.1 -0.1)\">\n       <defs>\n        <path id=\"DejaVuSans-33\" d=\"M 2597 2516 \nQ 3050 2419 3304 2112 \nQ 3559 1806 3559 1356 \nQ 3559 666 3084 287 \nQ 2609 -91 1734 -91 \nQ 1441 -91 1130 -33 \nQ 819 25 488 141 \nL 488 750 \nQ 750 597 1062 519 \nQ 1375 441 1716 441 \nQ 2309 441 2620 675 \nQ 2931 909 2931 1356 \nQ 2931 1769 2642 2001 \nQ 2353 2234 1838 2234 \nL 1294 2234 \nL 1294 2753 \nL 1863 2753 \nQ 2328 2753 2575 2939 \nQ 2822 3125 2822 3475 \nQ 2822 3834 2567 4026 \nQ 2313 4219 1838 4219 \nQ 1578 4219 1281 4162 \nQ 984 4106 628 3988 \nL 628 4550 \nQ 988 4650 1302 4700 \nQ 1616 4750 1894 4750 \nQ 2613 4750 3031 4423 \nQ 3450 4097 3450 3541 \nQ 3450 3153 3228 2886 \nQ 3006 2619 2597 2516 \nz\n\" transform=\"scale(0.015625)\"/>\n        <path id=\"DejaVuSans-39\" d=\"M 703 97 \nL 703 672 \nQ 941 559 1184 500 \nQ 1428 441 1663 441 \nQ 2288 441 2617 861 \nQ 2947 1281 2994 2138 \nQ 2813 1869 2534 1725 \nQ 2256 1581 1919 1581 \nQ 1219 1581 811 2004 \nQ 403 2428 403 3163 \nQ 403 3881 828 4315 \nQ 1253 4750 1959 4750 \nQ 2769 4750 3195 4129 \nQ 3622 3509 3622 2328 \nQ 3622 1225 3098 567 \nQ 2575 -91 1691 -91 \nQ 1453 -91 1209 -44 \nQ 966 3 703 97 \nz\nM 1959 2075 \nQ 2384 2075 2632 2365 \nQ 2881 2656 2881 3163 \nQ 2881 3666 2632 3958 \nQ 2384 4250 1959 4250 \nQ 1534 4250 1286 3958 \nQ 1038 3666 1038 3163 \nQ 1038 2656 1286 2365 \nQ 1534 2075 1959 2075 \nz\n\" transform=\"scale(0.015625)\"/>\n       </defs>\n       <use xlink:href=\"#DejaVuSans-30\"/>\n       <use xlink:href=\"#DejaVuSans-2e\" x=\"63.623047\"/>\n       <use xlink:href=\"#DejaVuSans-33\" x=\"95.410156\"/>\n       <use xlink:href=\"#DejaVuSans-39\" x=\"159.033203\"/>\n      </g>\n     </g>\n    </g>\n   </g>\n   <g id=\"matplotlib.axis_2\">\n    <g id=\"ytick_1\">\n     <g id=\"line2d_3\">\n      <defs>\n       <path id=\"m63feefe25d\" d=\"M 0 0 \nL -3.5 0 \n\" style=\"stroke: #000000; stroke-width: 0.8\"/>\n      </defs>\n      <g>\n       <use xlink:href=\"#m63feefe25d\" x=\"93.696875\" y=\"7.639655\" style=\"stroke: #000000; stroke-width: 0.8\"/>\n      </g>\n     </g>\n     <g id=\"text_3\">\n      <!-- koi_score -->\n      <g style=\"fill: #444443\" transform=\"translate(40.50625 11.438874) scale(0.1 -0.1)\">\n       <defs>\n        <path id=\"DejaVuSans-6b\" d=\"M 581 4863 \nL 1159 4863 \nL 1159 1991 \nL 2875 3500 \nL 3609 3500 \nL 1753 1863 \nL 3688 0 \nL 2938 0 \nL 1159 1709 \nL 1159 0 \nL 581 0 \nL 581 4863 \nz\n\" transform=\"scale(0.015625)\"/>\n        <path id=\"DejaVuSans-6f\" d=\"M 1959 3097 \nQ 1497 3097 1228 2736 \nQ 959 2375 959 1747 \nQ 959 1119 1226 758 \nQ 1494 397 1959 397 \nQ 2419 397 2687 759 \nQ 2956 1122 2956 1747 \nQ 2956 2369 2687 2733 \nQ 2419 3097 1959 3097 \nz\nM 1959 3584 \nQ 2709 3584 3137 3096 \nQ 3566 2609 3566 1747 \nQ 3566 888 3137 398 \nQ 2709 -91 1959 -91 \nQ 1206 -91 779 398 \nQ 353 888 353 1747 \nQ 353 2609 779 3096 \nQ 1206 3584 1959 3584 \nz\n\" transform=\"scale(0.015625)\"/>\n        <path id=\"DejaVuSans-69\" d=\"M 603 3500 \nL 1178 3500 \nL 1178 0 \nL 603 0 \nL 603 3500 \nz\nM 603 4863 \nL 1178 4863 \nL 1178 4134 \nL 603 4134 \nL 603 4863 \nz\n\" transform=\"scale(0.015625)\"/>\n        <path id=\"DejaVuSans-5f\" d=\"M 3263 -1063 \nL 3263 -1509 \nL -63 -1509 \nL -63 -1063 \nL 3263 -1063 \nz\n\" transform=\"scale(0.015625)\"/>\n        <path id=\"DejaVuSans-73\" d=\"M 2834 3397 \nL 2834 2853 \nQ 2591 2978 2328 3040 \nQ 2066 3103 1784 3103 \nQ 1356 3103 1142 2972 \nQ 928 2841 928 2578 \nQ 928 2378 1081 2264 \nQ 1234 2150 1697 2047 \nL 1894 2003 \nQ 2506 1872 2764 1633 \nQ 3022 1394 3022 966 \nQ 3022 478 2636 193 \nQ 2250 -91 1575 -91 \nQ 1294 -91 989 -36 \nQ 684 19 347 128 \nL 347 722 \nQ 666 556 975 473 \nQ 1284 391 1588 391 \nQ 1994 391 2212 530 \nQ 2431 669 2431 922 \nQ 2431 1156 2273 1281 \nQ 2116 1406 1581 1522 \nL 1381 1569 \nQ 847 1681 609 1914 \nQ 372 2147 372 2553 \nQ 372 3047 722 3315 \nQ 1072 3584 1716 3584 \nQ 2034 3584 2315 3537 \nQ 2597 3491 2834 3397 \nz\n\" transform=\"scale(0.015625)\"/>\n        <path id=\"DejaVuSans-63\" d=\"M 3122 3366 \nL 3122 2828 \nQ 2878 2963 2633 3030 \nQ 2388 3097 2138 3097 \nQ 1578 3097 1268 2742 \nQ 959 2388 959 1747 \nQ 959 1106 1268 751 \nQ 1578 397 2138 397 \nQ 2388 397 2633 464 \nQ 2878 531 3122 666 \nL 3122 134 \nQ 2881 22 2623 -34 \nQ 2366 -91 2075 -91 \nQ 1284 -91 818 406 \nQ 353 903 353 1747 \nQ 353 2603 823 3093 \nQ 1294 3584 2113 3584 \nQ 2378 3584 2631 3529 \nQ 2884 3475 3122 3366 \nz\n\" transform=\"scale(0.015625)\"/>\n        <path id=\"DejaVuSans-72\" d=\"M 2631 2963 \nQ 2534 3019 2420 3045 \nQ 2306 3072 2169 3072 \nQ 1681 3072 1420 2755 \nQ 1159 2438 1159 1844 \nL 1159 0 \nL 581 0 \nL 581 3500 \nL 1159 3500 \nL 1159 2956 \nQ 1341 3275 1631 3429 \nQ 1922 3584 2338 3584 \nQ 2397 3584 2469 3576 \nQ 2541 3569 2628 3553 \nL 2631 2963 \nz\n\" transform=\"scale(0.015625)\"/>\n        <path id=\"DejaVuSans-65\" d=\"M 3597 1894 \nL 3597 1613 \nL 953 1613 \nQ 991 1019 1311 708 \nQ 1631 397 2203 397 \nQ 2534 397 2845 478 \nQ 3156 559 3463 722 \nL 3463 178 \nQ 3153 47 2828 -22 \nQ 2503 -91 2169 -91 \nQ 1331 -91 842 396 \nQ 353 884 353 1716 \nQ 353 2575 817 3079 \nQ 1281 3584 2069 3584 \nQ 2775 3584 3186 3129 \nQ 3597 2675 3597 1894 \nz\nM 3022 2063 \nQ 3016 2534 2758 2815 \nQ 2500 3097 2075 3097 \nQ 1594 3097 1305 2825 \nQ 1016 2553 972 2059 \nL 3022 2063 \nz\n\" transform=\"scale(0.015625)\"/>\n       </defs>\n       <use xlink:href=\"#DejaVuSans-6b\"/>\n       <use xlink:href=\"#DejaVuSans-6f\" x=\"54.285156\"/>\n       <use xlink:href=\"#DejaVuSans-69\" x=\"115.466797\"/>\n       <use xlink:href=\"#DejaVuSans-5f\" x=\"143.25\"/>\n       <use xlink:href=\"#DejaVuSans-73\" x=\"193.25\"/>\n       <use xlink:href=\"#DejaVuSans-63\" x=\"245.349609\"/>\n       <use xlink:href=\"#DejaVuSans-6f\" x=\"300.330078\"/>\n       <use xlink:href=\"#DejaVuSans-72\" x=\"361.511719\"/>\n       <use xlink:href=\"#DejaVuSans-65\" x=\"400.375\"/>\n      </g>\n     </g>\n    </g>\n    <g id=\"ytick_2\">\n     <g id=\"line2d_4\">\n      <g>\n       <use xlink:href=\"#m63feefe25d\" x=\"93.696875\" y=\"21.64569\" style=\"stroke: #000000; stroke-width: 0.8\"/>\n      </g>\n     </g>\n     <g id=\"text_4\">\n      <!-- koi_model_snr -->\n      <g style=\"fill: #444443\" transform=\"translate(15.575 25.444908) scale(0.1 -0.1)\">\n       <defs>\n        <path id=\"DejaVuSans-6d\" d=\"M 3328 2828 \nQ 3544 3216 3844 3400 \nQ 4144 3584 4550 3584 \nQ 5097 3584 5394 3201 \nQ 5691 2819 5691 2113 \nL 5691 0 \nL 5113 0 \nL 5113 2094 \nQ 5113 2597 4934 2840 \nQ 4756 3084 4391 3084 \nQ 3944 3084 3684 2787 \nQ 3425 2491 3425 1978 \nL 3425 0 \nL 2847 0 \nL 2847 2094 \nQ 2847 2600 2669 2842 \nQ 2491 3084 2119 3084 \nQ 1678 3084 1418 2786 \nQ 1159 2488 1159 1978 \nL 1159 0 \nL 581 0 \nL 581 3500 \nL 1159 3500 \nL 1159 2956 \nQ 1356 3278 1631 3431 \nQ 1906 3584 2284 3584 \nQ 2666 3584 2933 3390 \nQ 3200 3197 3328 2828 \nz\n\" transform=\"scale(0.015625)\"/>\n        <path id=\"DejaVuSans-64\" d=\"M 2906 2969 \nL 2906 4863 \nL 3481 4863 \nL 3481 0 \nL 2906 0 \nL 2906 525 \nQ 2725 213 2448 61 \nQ 2172 -91 1784 -91 \nQ 1150 -91 751 415 \nQ 353 922 353 1747 \nQ 353 2572 751 3078 \nQ 1150 3584 1784 3584 \nQ 2172 3584 2448 3432 \nQ 2725 3281 2906 2969 \nz\nM 947 1747 \nQ 947 1113 1208 752 \nQ 1469 391 1925 391 \nQ 2381 391 2643 752 \nQ 2906 1113 2906 1747 \nQ 2906 2381 2643 2742 \nQ 2381 3103 1925 3103 \nQ 1469 3103 1208 2742 \nQ 947 2381 947 1747 \nz\n\" transform=\"scale(0.015625)\"/>\n        <path id=\"DejaVuSans-6c\" d=\"M 603 4863 \nL 1178 4863 \nL 1178 0 \nL 603 0 \nL 603 4863 \nz\n\" transform=\"scale(0.015625)\"/>\n        <path id=\"DejaVuSans-6e\" d=\"M 3513 2113 \nL 3513 0 \nL 2938 0 \nL 2938 2094 \nQ 2938 2591 2744 2837 \nQ 2550 3084 2163 3084 \nQ 1697 3084 1428 2787 \nQ 1159 2491 1159 1978 \nL 1159 0 \nL 581 0 \nL 581 3500 \nL 1159 3500 \nL 1159 2956 \nQ 1366 3272 1645 3428 \nQ 1925 3584 2291 3584 \nQ 2894 3584 3203 3211 \nQ 3513 2838 3513 2113 \nz\n\" transform=\"scale(0.015625)\"/>\n       </defs>\n       <use xlink:href=\"#DejaVuSans-6b\"/>\n       <use xlink:href=\"#DejaVuSans-6f\" x=\"54.285156\"/>\n       <use xlink:href=\"#DejaVuSans-69\" x=\"115.466797\"/>\n       <use xlink:href=\"#DejaVuSans-5f\" x=\"143.25\"/>\n       <use xlink:href=\"#DejaVuSans-6d\" x=\"193.25\"/>\n       <use xlink:href=\"#DejaVuSans-6f\" x=\"290.662109\"/>\n       <use xlink:href=\"#DejaVuSans-64\" x=\"351.84375\"/>\n       <use xlink:href=\"#DejaVuSans-65\" x=\"415.320312\"/>\n       <use xlink:href=\"#DejaVuSans-6c\" x=\"476.84375\"/>\n       <use xlink:href=\"#DejaVuSans-5f\" x=\"504.626953\"/>\n       <use xlink:href=\"#DejaVuSans-73\" x=\"554.626953\"/>\n       <use xlink:href=\"#DejaVuSans-6e\" x=\"606.726562\"/>\n       <use xlink:href=\"#DejaVuSans-72\" x=\"670.105469\"/>\n      </g>\n     </g>\n    </g>\n    <g id=\"ytick_3\">\n     <g id=\"line2d_5\">\n      <g>\n       <use xlink:href=\"#m63feefe25d\" x=\"93.696875\" y=\"35.651724\" style=\"stroke: #000000; stroke-width: 0.8\"/>\n      </g>\n     </g>\n     <g id=\"text_5\">\n      <!-- koi_prad -->\n      <g style=\"fill: #444443\" transform=\"translate(44.435938 39.450943) scale(0.1 -0.1)\">\n       <defs>\n        <path id=\"DejaVuSans-70\" d=\"M 1159 525 \nL 1159 -1331 \nL 581 -1331 \nL 581 3500 \nL 1159 3500 \nL 1159 2969 \nQ 1341 3281 1617 3432 \nQ 1894 3584 2278 3584 \nQ 2916 3584 3314 3078 \nQ 3713 2572 3713 1747 \nQ 3713 922 3314 415 \nQ 2916 -91 2278 -91 \nQ 1894 -91 1617 61 \nQ 1341 213 1159 525 \nz\nM 3116 1747 \nQ 3116 2381 2855 2742 \nQ 2594 3103 2138 3103 \nQ 1681 3103 1420 2742 \nQ 1159 2381 1159 1747 \nQ 1159 1113 1420 752 \nQ 1681 391 2138 391 \nQ 2594 391 2855 752 \nQ 3116 1113 3116 1747 \nz\n\" transform=\"scale(0.015625)\"/>\n        <path id=\"DejaVuSans-61\" d=\"M 2194 1759 \nQ 1497 1759 1228 1600 \nQ 959 1441 959 1056 \nQ 959 750 1161 570 \nQ 1363 391 1709 391 \nQ 2188 391 2477 730 \nQ 2766 1069 2766 1631 \nL 2766 1759 \nL 2194 1759 \nz\nM 3341 1997 \nL 3341 0 \nL 2766 0 \nL 2766 531 \nQ 2569 213 2275 61 \nQ 1981 -91 1556 -91 \nQ 1019 -91 701 211 \nQ 384 513 384 1019 \nQ 384 1609 779 1909 \nQ 1175 2209 1959 2209 \nL 2766 2209 \nL 2766 2266 \nQ 2766 2663 2505 2880 \nQ 2244 3097 1772 3097 \nQ 1472 3097 1187 3025 \nQ 903 2953 641 2809 \nL 641 3341 \nQ 956 3463 1253 3523 \nQ 1550 3584 1831 3584 \nQ 2591 3584 2966 3190 \nQ 3341 2797 3341 1997 \nz\n\" transform=\"scale(0.015625)\"/>\n       </defs>\n       <use xlink:href=\"#DejaVuSans-6b\"/>\n       <use xlink:href=\"#DejaVuSans-6f\" x=\"54.285156\"/>\n       <use xlink:href=\"#DejaVuSans-69\" x=\"115.466797\"/>\n       <use xlink:href=\"#DejaVuSans-5f\" x=\"143.25\"/>\n       <use xlink:href=\"#DejaVuSans-70\" x=\"193.25\"/>\n       <use xlink:href=\"#DejaVuSans-72\" x=\"256.726562\"/>\n       <use xlink:href=\"#DejaVuSans-61\" x=\"297.839844\"/>\n       <use xlink:href=\"#DejaVuSans-64\" x=\"359.119141\"/>\n      </g>\n     </g>\n    </g>\n    <g id=\"ytick_4\">\n     <g id=\"line2d_6\">\n      <g>\n       <use xlink:href=\"#m63feefe25d\" x=\"93.696875\" y=\"49.657759\" style=\"stroke: #000000; stroke-width: 0.8\"/>\n      </g>\n     </g>\n     <g id=\"text_6\">\n      <!-- koi_impact -->\n      <g style=\"fill: #444443\" transform=\"translate(32.957813 53.456977) scale(0.1 -0.1)\">\n       <defs>\n        <path id=\"DejaVuSans-74\" d=\"M 1172 4494 \nL 1172 3500 \nL 2356 3500 \nL 2356 3053 \nL 1172 3053 \nL 1172 1153 \nQ 1172 725 1289 603 \nQ 1406 481 1766 481 \nL 2356 481 \nL 2356 0 \nL 1766 0 \nQ 1100 0 847 248 \nQ 594 497 594 1153 \nL 594 3053 \nL 172 3053 \nL 172 3500 \nL 594 3500 \nL 594 4494 \nL 1172 4494 \nz\n\" transform=\"scale(0.015625)\"/>\n       </defs>\n       <use xlink:href=\"#DejaVuSans-6b\"/>\n       <use xlink:href=\"#DejaVuSans-6f\" x=\"54.285156\"/>\n       <use xlink:href=\"#DejaVuSans-69\" x=\"115.466797\"/>\n       <use xlink:href=\"#DejaVuSans-5f\" x=\"143.25\"/>\n       <use xlink:href=\"#DejaVuSans-69\" x=\"193.25\"/>\n       <use xlink:href=\"#DejaVuSans-6d\" x=\"221.033203\"/>\n       <use xlink:href=\"#DejaVuSans-70\" x=\"318.445312\"/>\n       <use xlink:href=\"#DejaVuSans-61\" x=\"381.921875\"/>\n       <use xlink:href=\"#DejaVuSans-63\" x=\"443.201172\"/>\n       <use xlink:href=\"#DejaVuSans-74\" x=\"498.181641\"/>\n      </g>\n     </g>\n    </g>\n    <g id=\"ytick_5\">\n     <g id=\"line2d_7\">\n      <g>\n       <use xlink:href=\"#m63feefe25d\" x=\"93.696875\" y=\"63.663793\" style=\"stroke: #000000; stroke-width: 0.8\"/>\n      </g>\n     </g>\n     <g id=\"text_7\">\n      <!-- koi_fpflag_co -->\n      <g style=\"fill: #444443\" transform=\"translate(22.110938 67.463012) scale(0.1 -0.1)\">\n       <defs>\n        <path id=\"DejaVuSans-66\" d=\"M 2375 4863 \nL 2375 4384 \nL 1825 4384 \nQ 1516 4384 1395 4259 \nQ 1275 4134 1275 3809 \nL 1275 3500 \nL 2222 3500 \nL 2222 3053 \nL 1275 3053 \nL 1275 0 \nL 697 0 \nL 697 3053 \nL 147 3053 \nL 147 3500 \nL 697 3500 \nL 697 3744 \nQ 697 4328 969 4595 \nQ 1241 4863 1831 4863 \nL 2375 4863 \nz\n\" transform=\"scale(0.015625)\"/>\n        <path id=\"DejaVuSans-67\" d=\"M 2906 1791 \nQ 2906 2416 2648 2759 \nQ 2391 3103 1925 3103 \nQ 1463 3103 1205 2759 \nQ 947 2416 947 1791 \nQ 947 1169 1205 825 \nQ 1463 481 1925 481 \nQ 2391 481 2648 825 \nQ 2906 1169 2906 1791 \nz\nM 3481 434 \nQ 3481 -459 3084 -895 \nQ 2688 -1331 1869 -1331 \nQ 1566 -1331 1297 -1286 \nQ 1028 -1241 775 -1147 \nL 775 -588 \nQ 1028 -725 1275 -790 \nQ 1522 -856 1778 -856 \nQ 2344 -856 2625 -561 \nQ 2906 -266 2906 331 \nL 2906 616 \nQ 2728 306 2450 153 \nQ 2172 0 1784 0 \nQ 1141 0 747 490 \nQ 353 981 353 1791 \nQ 353 2603 747 3093 \nQ 1141 3584 1784 3584 \nQ 2172 3584 2450 3431 \nQ 2728 3278 2906 2969 \nL 2906 3500 \nL 3481 3500 \nL 3481 434 \nz\n\" transform=\"scale(0.015625)\"/>\n       </defs>\n       <use xlink:href=\"#DejaVuSans-6b\"/>\n       <use xlink:href=\"#DejaVuSans-6f\" x=\"54.285156\"/>\n       <use xlink:href=\"#DejaVuSans-69\" x=\"115.466797\"/>\n       <use xlink:href=\"#DejaVuSans-5f\" x=\"143.25\"/>\n       <use xlink:href=\"#DejaVuSans-66\" x=\"193.25\"/>\n       <use xlink:href=\"#DejaVuSans-70\" x=\"228.455078\"/>\n       <use xlink:href=\"#DejaVuSans-66\" x=\"291.931641\"/>\n       <use xlink:href=\"#DejaVuSans-6c\" x=\"327.136719\"/>\n       <use xlink:href=\"#DejaVuSans-61\" x=\"354.919922\"/>\n       <use xlink:href=\"#DejaVuSans-67\" x=\"416.199219\"/>\n       <use xlink:href=\"#DejaVuSans-5f\" x=\"479.675781\"/>\n       <use xlink:href=\"#DejaVuSans-63\" x=\"529.675781\"/>\n       <use xlink:href=\"#DejaVuSans-6f\" x=\"584.65625\"/>\n      </g>\n     </g>\n    </g>\n    <g id=\"ytick_6\">\n     <g id=\"line2d_8\">\n      <g>\n       <use xlink:href=\"#m63feefe25d\" x=\"93.696875\" y=\"77.669828\" style=\"stroke: #000000; stroke-width: 0.8\"/>\n      </g>\n     </g>\n     <g id=\"text_8\">\n      <!-- koi_fpflag_nt -->\n      <g style=\"fill: #444443\" transform=\"translate(23.470313 81.469046) scale(0.1 -0.1)\">\n       <use xlink:href=\"#DejaVuSans-6b\"/>\n       <use xlink:href=\"#DejaVuSans-6f\" x=\"54.285156\"/>\n       <use xlink:href=\"#DejaVuSans-69\" x=\"115.466797\"/>\n       <use xlink:href=\"#DejaVuSans-5f\" x=\"143.25\"/>\n       <use xlink:href=\"#DejaVuSans-66\" x=\"193.25\"/>\n       <use xlink:href=\"#DejaVuSans-70\" x=\"228.455078\"/>\n       <use xlink:href=\"#DejaVuSans-66\" x=\"291.931641\"/>\n       <use xlink:href=\"#DejaVuSans-6c\" x=\"327.136719\"/>\n       <use xlink:href=\"#DejaVuSans-61\" x=\"354.919922\"/>\n       <use xlink:href=\"#DejaVuSans-67\" x=\"416.199219\"/>\n       <use xlink:href=\"#DejaVuSans-5f\" x=\"479.675781\"/>\n       <use xlink:href=\"#DejaVuSans-6e\" x=\"529.675781\"/>\n       <use xlink:href=\"#DejaVuSans-74\" x=\"593.054688\"/>\n      </g>\n     </g>\n    </g>\n    <g id=\"ytick_7\">\n     <g id=\"line2d_9\">\n      <g>\n       <use xlink:href=\"#m63feefe25d\" x=\"93.696875\" y=\"91.675862\" style=\"stroke: #000000; stroke-width: 0.8\"/>\n      </g>\n     </g>\n     <g id=\"text_9\">\n      <!-- koi_depth -->\n      <g style=\"fill: #444443\" transform=\"translate(38.264063 95.475081) scale(0.1 -0.1)\">\n       <defs>\n        <path id=\"DejaVuSans-68\" d=\"M 3513 2113 \nL 3513 0 \nL 2938 0 \nL 2938 2094 \nQ 2938 2591 2744 2837 \nQ 2550 3084 2163 3084 \nQ 1697 3084 1428 2787 \nQ 1159 2491 1159 1978 \nL 1159 0 \nL 581 0 \nL 581 4863 \nL 1159 4863 \nL 1159 2956 \nQ 1366 3272 1645 3428 \nQ 1925 3584 2291 3584 \nQ 2894 3584 3203 3211 \nQ 3513 2838 3513 2113 \nz\n\" transform=\"scale(0.015625)\"/>\n       </defs>\n       <use xlink:href=\"#DejaVuSans-6b\"/>\n       <use xlink:href=\"#DejaVuSans-6f\" x=\"54.285156\"/>\n       <use xlink:href=\"#DejaVuSans-69\" x=\"115.466797\"/>\n       <use xlink:href=\"#DejaVuSans-5f\" x=\"143.25\"/>\n       <use xlink:href=\"#DejaVuSans-64\" x=\"193.25\"/>\n       <use xlink:href=\"#DejaVuSans-65\" x=\"256.726562\"/>\n       <use xlink:href=\"#DejaVuSans-70\" x=\"318.25\"/>\n       <use xlink:href=\"#DejaVuSans-74\" x=\"381.726562\"/>\n       <use xlink:href=\"#DejaVuSans-68\" x=\"420.935547\"/>\n      </g>\n     </g>\n    </g>\n    <g id=\"ytick_8\">\n     <g id=\"line2d_10\">\n      <g>\n       <use xlink:href=\"#m63feefe25d\" x=\"93.696875\" y=\"105.681897\" style=\"stroke: #000000; stroke-width: 0.8\"/>\n      </g>\n     </g>\n     <g id=\"text_10\">\n      <!-- koi_duration -->\n      <g style=\"fill: #444443\" transform=\"translate(25.292188 109.481115) scale(0.1 -0.1)\">\n       <defs>\n        <path id=\"DejaVuSans-75\" d=\"M 544 1381 \nL 544 3500 \nL 1119 3500 \nL 1119 1403 \nQ 1119 906 1312 657 \nQ 1506 409 1894 409 \nQ 2359 409 2629 706 \nQ 2900 1003 2900 1516 \nL 2900 3500 \nL 3475 3500 \nL 3475 0 \nL 2900 0 \nL 2900 538 \nQ 2691 219 2414 64 \nQ 2138 -91 1772 -91 \nQ 1169 -91 856 284 \nQ 544 659 544 1381 \nz\nM 1991 3584 \nL 1991 3584 \nz\n\" transform=\"scale(0.015625)\"/>\n       </defs>\n       <use xlink:href=\"#DejaVuSans-6b\"/>\n       <use xlink:href=\"#DejaVuSans-6f\" x=\"54.285156\"/>\n       <use xlink:href=\"#DejaVuSans-69\" x=\"115.466797\"/>\n       <use xlink:href=\"#DejaVuSans-5f\" x=\"143.25\"/>\n       <use xlink:href=\"#DejaVuSans-64\" x=\"193.25\"/>\n       <use xlink:href=\"#DejaVuSans-75\" x=\"256.726562\"/>\n       <use xlink:href=\"#DejaVuSans-72\" x=\"320.105469\"/>\n       <use xlink:href=\"#DejaVuSans-61\" x=\"361.21875\"/>\n       <use xlink:href=\"#DejaVuSans-74\" x=\"422.498047\"/>\n       <use xlink:href=\"#DejaVuSans-69\" x=\"461.707031\"/>\n       <use xlink:href=\"#DejaVuSans-6f\" x=\"489.490234\"/>\n       <use xlink:href=\"#DejaVuSans-6e\" x=\"550.671875\"/>\n      </g>\n     </g>\n    </g>\n    <g id=\"ytick_9\">\n     <g id=\"line2d_11\">\n      <g>\n       <use xlink:href=\"#m63feefe25d\" x=\"93.696875\" y=\"119.687931\" style=\"stroke: #000000; stroke-width: 0.8\"/>\n      </g>\n     </g>\n     <g id=\"text_11\">\n      <!-- koi_time0bk -->\n      <g style=\"fill: #444443\" transform=\"translate(26.278125 123.48715) scale(0.1 -0.1)\">\n       <defs>\n        <path id=\"DejaVuSans-62\" d=\"M 3116 1747 \nQ 3116 2381 2855 2742 \nQ 2594 3103 2138 3103 \nQ 1681 3103 1420 2742 \nQ 1159 2381 1159 1747 \nQ 1159 1113 1420 752 \nQ 1681 391 2138 391 \nQ 2594 391 2855 752 \nQ 3116 1113 3116 1747 \nz\nM 1159 2969 \nQ 1341 3281 1617 3432 \nQ 1894 3584 2278 3584 \nQ 2916 3584 3314 3078 \nQ 3713 2572 3713 1747 \nQ 3713 922 3314 415 \nQ 2916 -91 2278 -91 \nQ 1894 -91 1617 61 \nQ 1341 213 1159 525 \nL 1159 0 \nL 581 0 \nL 581 4863 \nL 1159 4863 \nL 1159 2969 \nz\n\" transform=\"scale(0.015625)\"/>\n       </defs>\n       <use xlink:href=\"#DejaVuSans-6b\"/>\n       <use xlink:href=\"#DejaVuSans-6f\" x=\"54.285156\"/>\n       <use xlink:href=\"#DejaVuSans-69\" x=\"115.466797\"/>\n       <use xlink:href=\"#DejaVuSans-5f\" x=\"143.25\"/>\n       <use xlink:href=\"#DejaVuSans-74\" x=\"193.25\"/>\n       <use xlink:href=\"#DejaVuSans-69\" x=\"232.458984\"/>\n       <use xlink:href=\"#DejaVuSans-6d\" x=\"260.242188\"/>\n       <use xlink:href=\"#DejaVuSans-65\" x=\"357.654297\"/>\n       <use xlink:href=\"#DejaVuSans-30\" x=\"419.177734\"/>\n       <use xlink:href=\"#DejaVuSans-62\" x=\"482.800781\"/>\n       <use xlink:href=\"#DejaVuSans-6b\" x=\"546.277344\"/>\n      </g>\n     </g>\n    </g>\n    <g id=\"ytick_10\">\n     <g id=\"line2d_12\">\n      <g>\n       <use xlink:href=\"#m63feefe25d\" x=\"93.696875\" y=\"133.693966\" style=\"stroke: #000000; stroke-width: 0.8\"/>\n      </g>\n     </g>\n     <g id=\"text_12\">\n      <!-- koi_tce_plnt_num -->\n      <g style=\"fill: #444443\" transform=\"translate(0 137.493184) scale(0.1 -0.1)\">\n       <use xlink:href=\"#DejaVuSans-6b\"/>\n       <use xlink:href=\"#DejaVuSans-6f\" x=\"54.285156\"/>\n       <use xlink:href=\"#DejaVuSans-69\" x=\"115.466797\"/>\n       <use xlink:href=\"#DejaVuSans-5f\" x=\"143.25\"/>\n       <use xlink:href=\"#DejaVuSans-74\" x=\"193.25\"/>\n       <use xlink:href=\"#DejaVuSans-63\" x=\"232.458984\"/>\n       <use xlink:href=\"#DejaVuSans-65\" x=\"287.439453\"/>\n       <use xlink:href=\"#DejaVuSans-5f\" x=\"348.962891\"/>\n       <use xlink:href=\"#DejaVuSans-70\" x=\"398.962891\"/>\n       <use xlink:href=\"#DejaVuSans-6c\" x=\"462.439453\"/>\n       <use xlink:href=\"#DejaVuSans-6e\" x=\"490.222656\"/>\n       <use xlink:href=\"#DejaVuSans-74\" x=\"553.601562\"/>\n       <use xlink:href=\"#DejaVuSans-5f\" x=\"592.810547\"/>\n       <use xlink:href=\"#DejaVuSans-6e\" x=\"642.810547\"/>\n       <use xlink:href=\"#DejaVuSans-75\" x=\"706.189453\"/>\n       <use xlink:href=\"#DejaVuSans-6d\" x=\"769.568359\"/>\n      </g>\n     </g>\n    </g>\n    <g id=\"ytick_11\">\n     <g id=\"line2d_13\">\n      <g>\n       <use xlink:href=\"#m63feefe25d\" x=\"93.696875\" y=\"147.7\" style=\"stroke: #000000; stroke-width: 0.8\"/>\n      </g>\n     </g>\n     <g id=\"text_13\">\n      <!-- koi_steff -->\n      <g style=\"fill: #444443\" transform=\"translate(45.048438 151.499219) scale(0.1 -0.1)\">\n       <use xlink:href=\"#DejaVuSans-6b\"/>\n       <use xlink:href=\"#DejaVuSans-6f\" x=\"54.285156\"/>\n       <use xlink:href=\"#DejaVuSans-69\" x=\"115.466797\"/>\n       <use xlink:href=\"#DejaVuSans-5f\" x=\"143.25\"/>\n       <use xlink:href=\"#DejaVuSans-73\" x=\"193.25\"/>\n       <use xlink:href=\"#DejaVuSans-74\" x=\"245.349609\"/>\n       <use xlink:href=\"#DejaVuSans-65\" x=\"284.558594\"/>\n       <use xlink:href=\"#DejaVuSans-66\" x=\"346.082031\"/>\n       <use xlink:href=\"#DejaVuSans-66\" x=\"381.287109\"/>\n      </g>\n     </g>\n    </g>\n    <g id=\"ytick_12\">\n     <g id=\"line2d_14\">\n      <g>\n       <use xlink:href=\"#m63feefe25d\" x=\"93.696875\" y=\"161.706034\" style=\"stroke: #000000; stroke-width: 0.8\"/>\n      </g>\n     </g>\n     <g id=\"text_14\">\n      <!-- dec -->\n      <g style=\"fill: #444443\" transform=\"translate(68.696875 165.505253) scale(0.1 -0.1)\">\n       <use xlink:href=\"#DejaVuSans-64\"/>\n       <use xlink:href=\"#DejaVuSans-65\" x=\"63.476562\"/>\n       <use xlink:href=\"#DejaVuSans-63\" x=\"125\"/>\n      </g>\n     </g>\n    </g>\n    <g id=\"ytick_13\">\n     <g id=\"line2d_15\">\n      <g>\n       <use xlink:href=\"#m63feefe25d\" x=\"93.696875\" y=\"175.712069\" style=\"stroke: #000000; stroke-width: 0.8\"/>\n      </g>\n     </g>\n     <g id=\"text_15\">\n      <!-- ra -->\n      <g style=\"fill: #444443\" transform=\"translate(76.457813 179.511288) scale(0.1 -0.1)\">\n       <use xlink:href=\"#DejaVuSans-72\"/>\n       <use xlink:href=\"#DejaVuSans-61\" x=\"41.113281\"/>\n      </g>\n     </g>\n    </g>\n    <g id=\"ytick_14\">\n     <g id=\"line2d_16\">\n      <g>\n       <use xlink:href=\"#m63feefe25d\" x=\"93.696875\" y=\"189.718103\" style=\"stroke: #000000; stroke-width: 0.8\"/>\n      </g>\n     </g>\n     <g id=\"text_16\">\n      <!-- koi_kepmag -->\n      <g style=\"fill: #444443\" transform=\"translate(27.225 193.517322) scale(0.1 -0.1)\">\n       <use xlink:href=\"#DejaVuSans-6b\"/>\n       <use xlink:href=\"#DejaVuSans-6f\" x=\"54.285156\"/>\n       <use xlink:href=\"#DejaVuSans-69\" x=\"115.466797\"/>\n       <use xlink:href=\"#DejaVuSans-5f\" x=\"143.25\"/>\n       <use xlink:href=\"#DejaVuSans-6b\" x=\"193.25\"/>\n       <use xlink:href=\"#DejaVuSans-65\" x=\"247.535156\"/>\n       <use xlink:href=\"#DejaVuSans-70\" x=\"309.058594\"/>\n       <use xlink:href=\"#DejaVuSans-6d\" x=\"372.535156\"/>\n       <use xlink:href=\"#DejaVuSans-61\" x=\"469.947266\"/>\n       <use xlink:href=\"#DejaVuSans-67\" x=\"531.226562\"/>\n      </g>\n     </g>\n    </g>\n    <g id=\"ytick_15\">\n     <g id=\"line2d_17\">\n      <g>\n       <use xlink:href=\"#m63feefe25d\" x=\"93.696875\" y=\"203.724138\" style=\"stroke: #000000; stroke-width: 0.8\"/>\n      </g>\n     </g>\n     <g id=\"text_17\">\n      <!-- koi_fpflag_ss -->\n      <g style=\"fill: #444443\" transform=\"translate(23.309375 207.523357) scale(0.1 -0.1)\">\n       <use xlink:href=\"#DejaVuSans-6b\"/>\n       <use xlink:href=\"#DejaVuSans-6f\" x=\"54.285156\"/>\n       <use xlink:href=\"#DejaVuSans-69\" x=\"115.466797\"/>\n       <use xlink:href=\"#DejaVuSans-5f\" x=\"143.25\"/>\n       <use xlink:href=\"#DejaVuSans-66\" x=\"193.25\"/>\n       <use xlink:href=\"#DejaVuSans-70\" x=\"228.455078\"/>\n       <use xlink:href=\"#DejaVuSans-66\" x=\"291.931641\"/>\n       <use xlink:href=\"#DejaVuSans-6c\" x=\"327.136719\"/>\n       <use xlink:href=\"#DejaVuSans-61\" x=\"354.919922\"/>\n       <use xlink:href=\"#DejaVuSans-67\" x=\"416.199219\"/>\n       <use xlink:href=\"#DejaVuSans-5f\" x=\"479.675781\"/>\n       <use xlink:href=\"#DejaVuSans-73\" x=\"529.675781\"/>\n       <use xlink:href=\"#DejaVuSans-73\" x=\"581.775391\"/>\n      </g>\n     </g>\n    </g>\n    <g id=\"ytick_16\">\n     <g id=\"line2d_18\">\n      <g>\n       <use xlink:href=\"#m63feefe25d\" x=\"93.696875\" y=\"217.730172\" style=\"stroke: #000000; stroke-width: 0.8\"/>\n      </g>\n     </g>\n     <g id=\"text_18\">\n      <!-- koi_srad -->\n      <g style=\"fill: #444443\" transform=\"translate(45.575 221.529391) scale(0.1 -0.1)\">\n       <use xlink:href=\"#DejaVuSans-6b\"/>\n       <use xlink:href=\"#DejaVuSans-6f\" x=\"54.285156\"/>\n       <use xlink:href=\"#DejaVuSans-69\" x=\"115.466797\"/>\n       <use xlink:href=\"#DejaVuSans-5f\" x=\"143.25\"/>\n       <use xlink:href=\"#DejaVuSans-73\" x=\"193.25\"/>\n       <use xlink:href=\"#DejaVuSans-72\" x=\"245.349609\"/>\n       <use xlink:href=\"#DejaVuSans-61\" x=\"286.462891\"/>\n       <use xlink:href=\"#DejaVuSans-64\" x=\"347.742188\"/>\n      </g>\n     </g>\n    </g>\n    <g id=\"ytick_17\">\n     <g id=\"line2d_19\">\n      <g>\n       <use xlink:href=\"#m63feefe25d\" x=\"93.696875\" y=\"231.736207\" style=\"stroke: #000000; stroke-width: 0.8\"/>\n      </g>\n     </g>\n     <g id=\"text_19\">\n      <!-- koi_insol -->\n      <g style=\"fill: #444443\" transform=\"translate(44.15 235.535426) scale(0.1 -0.1)\">\n       <use xlink:href=\"#DejaVuSans-6b\"/>\n       <use xlink:href=\"#DejaVuSans-6f\" x=\"54.285156\"/>\n       <use xlink:href=\"#DejaVuSans-69\" x=\"115.466797\"/>\n       <use xlink:href=\"#DejaVuSans-5f\" x=\"143.25\"/>\n       <use xlink:href=\"#DejaVuSans-69\" x=\"193.25\"/>\n       <use xlink:href=\"#DejaVuSans-6e\" x=\"221.033203\"/>\n       <use xlink:href=\"#DejaVuSans-73\" x=\"284.412109\"/>\n       <use xlink:href=\"#DejaVuSans-6f\" x=\"336.511719\"/>\n       <use xlink:href=\"#DejaVuSans-6c\" x=\"397.693359\"/>\n      </g>\n     </g>\n    </g>\n    <g id=\"ytick_18\">\n     <g id=\"line2d_20\">\n      <g>\n       <use xlink:href=\"#m63feefe25d\" x=\"93.696875\" y=\"245.742241\" style=\"stroke: #000000; stroke-width: 0.8\"/>\n      </g>\n     </g>\n     <g id=\"text_20\">\n      <!-- koi_slogg -->\n      <g style=\"fill: #444443\" transform=\"translate(40.56875 249.54146) scale(0.1 -0.1)\">\n       <use xlink:href=\"#DejaVuSans-6b\"/>\n       <use xlink:href=\"#DejaVuSans-6f\" x=\"54.285156\"/>\n       <use xlink:href=\"#DejaVuSans-69\" x=\"115.466797\"/>\n       <use xlink:href=\"#DejaVuSans-5f\" x=\"143.25\"/>\n       <use xlink:href=\"#DejaVuSans-73\" x=\"193.25\"/>\n       <use xlink:href=\"#DejaVuSans-6c\" x=\"245.349609\"/>\n       <use xlink:href=\"#DejaVuSans-6f\" x=\"273.132812\"/>\n       <use xlink:href=\"#DejaVuSans-67\" x=\"334.314453\"/>\n       <use xlink:href=\"#DejaVuSans-67\" x=\"397.791016\"/>\n      </g>\n     </g>\n    </g>\n    <g id=\"ytick_19\">\n     <g id=\"line2d_21\">\n      <g>\n       <use xlink:href=\"#m63feefe25d\" x=\"93.696875\" y=\"259.748276\" style=\"stroke: #000000; stroke-width: 0.8\"/>\n      </g>\n     </g>\n     <g id=\"text_21\">\n      <!-- koi_teq -->\n      <g style=\"fill: #444443\" transform=\"translate(50.95 263.547495) scale(0.1 -0.1)\">\n       <defs>\n        <path id=\"DejaVuSans-71\" d=\"M 947 1747 \nQ 947 1113 1208 752 \nQ 1469 391 1925 391 \nQ 2381 391 2643 752 \nQ 2906 1113 2906 1747 \nQ 2906 2381 2643 2742 \nQ 2381 3103 1925 3103 \nQ 1469 3103 1208 2742 \nQ 947 2381 947 1747 \nz\nM 2906 525 \nQ 2725 213 2448 61 \nQ 2172 -91 1784 -91 \nQ 1150 -91 751 415 \nQ 353 922 353 1747 \nQ 353 2572 751 3078 \nQ 1150 3584 1784 3584 \nQ 2172 3584 2448 3432 \nQ 2725 3281 2906 2969 \nL 2906 3500 \nL 3481 3500 \nL 3481 -1331 \nL 2906 -1331 \nL 2906 525 \nz\n\" transform=\"scale(0.015625)\"/>\n       </defs>\n       <use xlink:href=\"#DejaVuSans-6b\"/>\n       <use xlink:href=\"#DejaVuSans-6f\" x=\"54.285156\"/>\n       <use xlink:href=\"#DejaVuSans-69\" x=\"115.466797\"/>\n       <use xlink:href=\"#DejaVuSans-5f\" x=\"143.25\"/>\n       <use xlink:href=\"#DejaVuSans-74\" x=\"193.25\"/>\n       <use xlink:href=\"#DejaVuSans-65\" x=\"232.458984\"/>\n       <use xlink:href=\"#DejaVuSans-71\" x=\"293.982422\"/>\n      </g>\n     </g>\n    </g>\n    <g id=\"ytick_20\">\n     <g id=\"line2d_22\">\n      <g>\n       <use xlink:href=\"#m63feefe25d\" x=\"93.696875\" y=\"273.75431\" style=\"stroke: #000000; stroke-width: 0.8\"/>\n      </g>\n     </g>\n     <g id=\"text_22\">\n      <!-- koi_period -->\n      <g style=\"fill: #444443\" transform=\"translate(35.514063 277.553529) scale(0.1 -0.1)\">\n       <use xlink:href=\"#DejaVuSans-6b\"/>\n       <use xlink:href=\"#DejaVuSans-6f\" x=\"54.285156\"/>\n       <use xlink:href=\"#DejaVuSans-69\" x=\"115.466797\"/>\n       <use xlink:href=\"#DejaVuSans-5f\" x=\"143.25\"/>\n       <use xlink:href=\"#DejaVuSans-70\" x=\"193.25\"/>\n       <use xlink:href=\"#DejaVuSans-65\" x=\"256.726562\"/>\n       <use xlink:href=\"#DejaVuSans-72\" x=\"318.25\"/>\n       <use xlink:href=\"#DejaVuSans-69\" x=\"359.363281\"/>\n       <use xlink:href=\"#DejaVuSans-6f\" x=\"387.146484\"/>\n       <use xlink:href=\"#DejaVuSans-64\" x=\"448.328125\"/>\n      </g>\n     </g>\n    </g>\n    <g id=\"ytick_21\">\n     <g id=\"line2d_23\">\n      <g>\n       <use xlink:href=\"#m63feefe25d\" x=\"93.696875\" y=\"287.760345\" style=\"stroke: #000000; stroke-width: 0.8\"/>\n      </g>\n     </g>\n     <g id=\"text_23\">\n      <!-- koi_fpflag_ec -->\n      <g style=\"fill: #444443\" transform=\"translate(22.076563 291.559564) scale(0.1 -0.1)\">\n       <use xlink:href=\"#DejaVuSans-6b\"/>\n       <use xlink:href=\"#DejaVuSans-6f\" x=\"54.285156\"/>\n       <use xlink:href=\"#DejaVuSans-69\" x=\"115.466797\"/>\n       <use xlink:href=\"#DejaVuSans-5f\" x=\"143.25\"/>\n       <use xlink:href=\"#DejaVuSans-66\" x=\"193.25\"/>\n       <use xlink:href=\"#DejaVuSans-70\" x=\"228.455078\"/>\n       <use xlink:href=\"#DejaVuSans-66\" x=\"291.931641\"/>\n       <use xlink:href=\"#DejaVuSans-6c\" x=\"327.136719\"/>\n       <use xlink:href=\"#DejaVuSans-61\" x=\"354.919922\"/>\n       <use xlink:href=\"#DejaVuSans-67\" x=\"416.199219\"/>\n       <use xlink:href=\"#DejaVuSans-5f\" x=\"479.675781\"/>\n       <use xlink:href=\"#DejaVuSans-65\" x=\"529.675781\"/>\n       <use xlink:href=\"#DejaVuSans-63\" x=\"591.199219\"/>\n      </g>\n     </g>\n    </g>\n   </g>\n   <g id=\"patch_24\">\n    <path d=\"M 93.696875 295.4 \nL 93.696875 0 \n\" style=\"fill: none; stroke: #000000; stroke-width: 0.3; stroke-linejoin: miter; stroke-linecap: square\"/>\n   </g>\n   <g id=\"patch_25\">\n    <path d=\"M 255.176875 295.4 \nL 255.176875 0 \n\" style=\"fill: none; stroke: #000000; stroke-width: 0.3; stroke-linejoin: miter; stroke-linecap: square\"/>\n   </g>\n   <g id=\"patch_26\">\n    <path d=\"M 93.696875 295.4 \nL 255.176875 295.4 \n\" style=\"fill: none; stroke: #000000; stroke-width: 0.3; stroke-linejoin: miter; stroke-linecap: square\"/>\n   </g>\n   <g id=\"patch_27\">\n    <path d=\"M 93.696875 0 \nL 255.176875 0 \n\" style=\"fill: none; stroke: #000000; stroke-width: 0.3; stroke-linejoin: miter; stroke-linecap: square\"/>\n   </g>\n  </g>\n </g>\n <defs>\n  <clipPath id=\"p18dc27efbc\">\n   <rect x=\"93.696875\" y=\"0\" width=\"161.48\" height=\"295.4\"/>\n  </clipPath>\n </defs>\n</svg>\n"
          },
          "metadata": {},
          "execution_count": 28
        }
      ]
    },
    {
      "cell_type": "code",
      "source": [
        "model.predict(X_test)"
      ],
      "metadata": {
        "colab": {
          "base_uri": "https://localhost:8080/"
        },
        "id": "QvPgIJi37Fzw",
        "outputId": "57cf2920-1265-493c-a4dc-a417abbd3e14"
      },
      "execution_count": 29,
      "outputs": [
        {
          "output_type": "execute_result",
          "data": {
            "text/plain": [
              "array([2., 2., 1., ..., 1., 2., 2.])"
            ]
          },
          "metadata": {},
          "execution_count": 29
        }
      ]
    },
    {
      "cell_type": "code",
      "source": [
        "model.score(X_train,y_train)"
      ],
      "metadata": {
        "colab": {
          "base_uri": "https://localhost:8080/"
        },
        "id": "iYlS4pXY7MhE",
        "outputId": "05d8adea-0105-4f38-9627-9f465db3df41"
      },
      "execution_count": 30,
      "outputs": [
        {
          "output_type": "execute_result",
          "data": {
            "text/plain": [
              "1.0"
            ]
          },
          "metadata": {},
          "execution_count": 30
        }
      ]
    },
    {
      "cell_type": "code",
      "source": [
        "model.score(X_test,y_test)"
      ],
      "metadata": {
        "colab": {
          "base_uri": "https://localhost:8080/"
        },
        "id": "XdNaH3cY7j4M",
        "outputId": "a015082a-99a2-4279-8b86-4072f7ad3493"
      },
      "execution_count": 31,
      "outputs": [
        {
          "output_type": "execute_result",
          "data": {
            "text/plain": [
              "0.9237023139462164"
            ]
          },
          "metadata": {},
          "execution_count": 31
        }
      ]
    },
    {
      "cell_type": "markdown",
      "source": [
        "### K-Cross Validation"
      ],
      "metadata": {
        "id": "fbX9byKm7qu_"
      }
    },
    {
      "cell_type": "code",
      "source": [
        "from sklearn.model_selection import cross_val_score\n",
        "\n",
        "kcross_validation = cross_val_score(model, features, target, cv=5, scoring='r2')\n",
        "mean_cv_score_r2 = kcross_validation.mean()\n",
        "print(\"Mean Cross-Validated R-squared:\",mean_cv_score_r2)"
      ],
      "metadata": {
        "colab": {
          "base_uri": "https://localhost:8080/"
        },
        "id": "RQDiAY527nFj",
        "outputId": "8aaad915-d180-4d6f-8f4c-840d6b7ec8b2"
      },
      "execution_count": 32,
      "outputs": [
        {
          "output_type": "stream",
          "name": "stdout",
          "text": [
            "Mean Cross-Validated R-squared: 0.7799215671395064\n"
          ]
        }
      ]
    },
    {
      "cell_type": "markdown",
      "source": [
        "### Creating a Final Model"
      ],
      "metadata": {
        "id": "oKU7cipN72tQ"
      }
    },
    {
      "cell_type": "code",
      "source": [
        "imp_df = pd.DataFrame(imp)"
      ],
      "metadata": {
        "id": "CNZRHgh474BG"
      },
      "execution_count": 33,
      "outputs": []
    },
    {
      "cell_type": "code",
      "source": [
        "imp_df[imp_df[\"Importance\"]>=0.01]"
      ],
      "metadata": {
        "colab": {
          "base_uri": "https://localhost:8080/",
          "height": 269
        },
        "id": "F1vUkyDd8O49",
        "outputId": "93edadc2-2567-44e9-fd8b-4520949d2a09"
      },
      "execution_count": 35,
      "outputs": [
        {
          "output_type": "execute_result",
          "data": {
            "text/plain": [
              "               Importance\n",
              "Feature                  \n",
              "koi_score          0.3902\n",
              "koi_model_snr      0.1218\n",
              "koi_prad           0.0624\n",
              "koi_impact         0.0286\n",
              "koi_fpflag_co      0.0152\n",
              "koi_fpflag_nt      0.0104"
            ],
            "text/html": [
              "\n",
              "  <div id=\"df-0a7e1432-6e78-4066-8b05-519754c42814\" class=\"colab-df-container\">\n",
              "    <div>\n",
              "<style scoped>\n",
              "    .dataframe tbody tr th:only-of-type {\n",
              "        vertical-align: middle;\n",
              "    }\n",
              "\n",
              "    .dataframe tbody tr th {\n",
              "        vertical-align: top;\n",
              "    }\n",
              "\n",
              "    .dataframe thead th {\n",
              "        text-align: right;\n",
              "    }\n",
              "</style>\n",
              "<table border=\"1\" class=\"dataframe\">\n",
              "  <thead>\n",
              "    <tr style=\"text-align: right;\">\n",
              "      <th></th>\n",
              "      <th>Importance</th>\n",
              "    </tr>\n",
              "    <tr>\n",
              "      <th>Feature</th>\n",
              "      <th></th>\n",
              "    </tr>\n",
              "  </thead>\n",
              "  <tbody>\n",
              "    <tr>\n",
              "      <th>koi_score</th>\n",
              "      <td>0.3902</td>\n",
              "    </tr>\n",
              "    <tr>\n",
              "      <th>koi_model_snr</th>\n",
              "      <td>0.1218</td>\n",
              "    </tr>\n",
              "    <tr>\n",
              "      <th>koi_prad</th>\n",
              "      <td>0.0624</td>\n",
              "    </tr>\n",
              "    <tr>\n",
              "      <th>koi_impact</th>\n",
              "      <td>0.0286</td>\n",
              "    </tr>\n",
              "    <tr>\n",
              "      <th>koi_fpflag_co</th>\n",
              "      <td>0.0152</td>\n",
              "    </tr>\n",
              "    <tr>\n",
              "      <th>koi_fpflag_nt</th>\n",
              "      <td>0.0104</td>\n",
              "    </tr>\n",
              "  </tbody>\n",
              "</table>\n",
              "</div>\n",
              "    <div class=\"colab-df-buttons\">\n",
              "\n",
              "  <div class=\"colab-df-container\">\n",
              "    <button class=\"colab-df-convert\" onclick=\"convertToInteractive('df-0a7e1432-6e78-4066-8b05-519754c42814')\"\n",
              "            title=\"Convert this dataframe to an interactive table.\"\n",
              "            style=\"display:none;\">\n",
              "\n",
              "  <svg xmlns=\"http://www.w3.org/2000/svg\" height=\"24px\" viewBox=\"0 -960 960 960\">\n",
              "    <path d=\"M120-120v-720h720v720H120Zm60-500h600v-160H180v160Zm220 220h160v-160H400v160Zm0 220h160v-160H400v160ZM180-400h160v-160H180v160Zm440 0h160v-160H620v160ZM180-180h160v-160H180v160Zm440 0h160v-160H620v160Z\"/>\n",
              "  </svg>\n",
              "    </button>\n",
              "\n",
              "  <style>\n",
              "    .colab-df-container {\n",
              "      display:flex;\n",
              "      gap: 12px;\n",
              "    }\n",
              "\n",
              "    .colab-df-convert {\n",
              "      background-color: #E8F0FE;\n",
              "      border: none;\n",
              "      border-radius: 50%;\n",
              "      cursor: pointer;\n",
              "      display: none;\n",
              "      fill: #1967D2;\n",
              "      height: 32px;\n",
              "      padding: 0 0 0 0;\n",
              "      width: 32px;\n",
              "    }\n",
              "\n",
              "    .colab-df-convert:hover {\n",
              "      background-color: #E2EBFA;\n",
              "      box-shadow: 0px 1px 2px rgba(60, 64, 67, 0.3), 0px 1px 3px 1px rgba(60, 64, 67, 0.15);\n",
              "      fill: #174EA6;\n",
              "    }\n",
              "\n",
              "    .colab-df-buttons div {\n",
              "      margin-bottom: 4px;\n",
              "    }\n",
              "\n",
              "    [theme=dark] .colab-df-convert {\n",
              "      background-color: #3B4455;\n",
              "      fill: #D2E3FC;\n",
              "    }\n",
              "\n",
              "    [theme=dark] .colab-df-convert:hover {\n",
              "      background-color: #434B5C;\n",
              "      box-shadow: 0px 1px 3px 1px rgba(0, 0, 0, 0.15);\n",
              "      filter: drop-shadow(0px 1px 2px rgba(0, 0, 0, 0.3));\n",
              "      fill: #FFFFFF;\n",
              "    }\n",
              "  </style>\n",
              "\n",
              "    <script>\n",
              "      const buttonEl =\n",
              "        document.querySelector('#df-0a7e1432-6e78-4066-8b05-519754c42814 button.colab-df-convert');\n",
              "      buttonEl.style.display =\n",
              "        google.colab.kernel.accessAllowed ? 'block' : 'none';\n",
              "\n",
              "      async function convertToInteractive(key) {\n",
              "        const element = document.querySelector('#df-0a7e1432-6e78-4066-8b05-519754c42814');\n",
              "        const dataTable =\n",
              "          await google.colab.kernel.invokeFunction('convertToInteractive',\n",
              "                                                    [key], {});\n",
              "        if (!dataTable) return;\n",
              "\n",
              "        const docLinkHtml = 'Like what you see? Visit the ' +\n",
              "          '<a target=\"_blank\" href=https://colab.research.google.com/notebooks/data_table.ipynb>data table notebook</a>'\n",
              "          + ' to learn more about interactive tables.';\n",
              "        element.innerHTML = '';\n",
              "        dataTable['output_type'] = 'display_data';\n",
              "        await google.colab.output.renderOutput(dataTable, element);\n",
              "        const docLink = document.createElement('div');\n",
              "        docLink.innerHTML = docLinkHtml;\n",
              "        element.appendChild(docLink);\n",
              "      }\n",
              "    </script>\n",
              "  </div>\n",
              "\n",
              "\n",
              "<div id=\"df-6d8e1d55-cbd0-4f83-9f18-ab86a52e74cb\">\n",
              "  <button class=\"colab-df-quickchart\" onclick=\"quickchart('df-6d8e1d55-cbd0-4f83-9f18-ab86a52e74cb')\"\n",
              "            title=\"Suggest charts\"\n",
              "            style=\"display:none;\">\n",
              "\n",
              "<svg xmlns=\"http://www.w3.org/2000/svg\" height=\"24px\"viewBox=\"0 0 24 24\"\n",
              "     width=\"24px\">\n",
              "    <g>\n",
              "        <path d=\"M19 3H5c-1.1 0-2 .9-2 2v14c0 1.1.9 2 2 2h14c1.1 0 2-.9 2-2V5c0-1.1-.9-2-2-2zM9 17H7v-7h2v7zm4 0h-2V7h2v10zm4 0h-2v-4h2v4z\"/>\n",
              "    </g>\n",
              "</svg>\n",
              "  </button>\n",
              "\n",
              "<style>\n",
              "  .colab-df-quickchart {\n",
              "      --bg-color: #E8F0FE;\n",
              "      --fill-color: #1967D2;\n",
              "      --hover-bg-color: #E2EBFA;\n",
              "      --hover-fill-color: #174EA6;\n",
              "      --disabled-fill-color: #AAA;\n",
              "      --disabled-bg-color: #DDD;\n",
              "  }\n",
              "\n",
              "  [theme=dark] .colab-df-quickchart {\n",
              "      --bg-color: #3B4455;\n",
              "      --fill-color: #D2E3FC;\n",
              "      --hover-bg-color: #434B5C;\n",
              "      --hover-fill-color: #FFFFFF;\n",
              "      --disabled-bg-color: #3B4455;\n",
              "      --disabled-fill-color: #666;\n",
              "  }\n",
              "\n",
              "  .colab-df-quickchart {\n",
              "    background-color: var(--bg-color);\n",
              "    border: none;\n",
              "    border-radius: 50%;\n",
              "    cursor: pointer;\n",
              "    display: none;\n",
              "    fill: var(--fill-color);\n",
              "    height: 32px;\n",
              "    padding: 0;\n",
              "    width: 32px;\n",
              "  }\n",
              "\n",
              "  .colab-df-quickchart:hover {\n",
              "    background-color: var(--hover-bg-color);\n",
              "    box-shadow: 0 1px 2px rgba(60, 64, 67, 0.3), 0 1px 3px 1px rgba(60, 64, 67, 0.15);\n",
              "    fill: var(--button-hover-fill-color);\n",
              "  }\n",
              "\n",
              "  .colab-df-quickchart-complete:disabled,\n",
              "  .colab-df-quickchart-complete:disabled:hover {\n",
              "    background-color: var(--disabled-bg-color);\n",
              "    fill: var(--disabled-fill-color);\n",
              "    box-shadow: none;\n",
              "  }\n",
              "\n",
              "  .colab-df-spinner {\n",
              "    border: 2px solid var(--fill-color);\n",
              "    border-color: transparent;\n",
              "    border-bottom-color: var(--fill-color);\n",
              "    animation:\n",
              "      spin 1s steps(1) infinite;\n",
              "  }\n",
              "\n",
              "  @keyframes spin {\n",
              "    0% {\n",
              "      border-color: transparent;\n",
              "      border-bottom-color: var(--fill-color);\n",
              "      border-left-color: var(--fill-color);\n",
              "    }\n",
              "    20% {\n",
              "      border-color: transparent;\n",
              "      border-left-color: var(--fill-color);\n",
              "      border-top-color: var(--fill-color);\n",
              "    }\n",
              "    30% {\n",
              "      border-color: transparent;\n",
              "      border-left-color: var(--fill-color);\n",
              "      border-top-color: var(--fill-color);\n",
              "      border-right-color: var(--fill-color);\n",
              "    }\n",
              "    40% {\n",
              "      border-color: transparent;\n",
              "      border-right-color: var(--fill-color);\n",
              "      border-top-color: var(--fill-color);\n",
              "    }\n",
              "    60% {\n",
              "      border-color: transparent;\n",
              "      border-right-color: var(--fill-color);\n",
              "    }\n",
              "    80% {\n",
              "      border-color: transparent;\n",
              "      border-right-color: var(--fill-color);\n",
              "      border-bottom-color: var(--fill-color);\n",
              "    }\n",
              "    90% {\n",
              "      border-color: transparent;\n",
              "      border-bottom-color: var(--fill-color);\n",
              "    }\n",
              "  }\n",
              "</style>\n",
              "\n",
              "  <script>\n",
              "    async function quickchart(key) {\n",
              "      const quickchartButtonEl =\n",
              "        document.querySelector('#' + key + ' button');\n",
              "      quickchartButtonEl.disabled = true;  // To prevent multiple clicks.\n",
              "      quickchartButtonEl.classList.add('colab-df-spinner');\n",
              "      try {\n",
              "        const charts = await google.colab.kernel.invokeFunction(\n",
              "            'suggestCharts', [key], {});\n",
              "      } catch (error) {\n",
              "        console.error('Error during call to suggestCharts:', error);\n",
              "      }\n",
              "      quickchartButtonEl.classList.remove('colab-df-spinner');\n",
              "      quickchartButtonEl.classList.add('colab-df-quickchart-complete');\n",
              "    }\n",
              "    (() => {\n",
              "      let quickchartButtonEl =\n",
              "        document.querySelector('#df-6d8e1d55-cbd0-4f83-9f18-ab86a52e74cb button');\n",
              "      quickchartButtonEl.style.display =\n",
              "        google.colab.kernel.accessAllowed ? 'block' : 'none';\n",
              "    })();\n",
              "  </script>\n",
              "</div>\n",
              "\n",
              "    </div>\n",
              "  </div>\n"
            ],
            "application/vnd.google.colaboratory.intrinsic+json": {
              "type": "dataframe",
              "summary": "{\n  \"name\": \"imp_df[imp_df[\\\"Importance\\\"]>=0\",\n  \"rows\": 6,\n  \"fields\": [\n    {\n      \"column\": \"Feature\",\n      \"properties\": {\n        \"dtype\": \"string\",\n        \"num_unique_values\": 6,\n        \"samples\": [\n          \"koi_score\",\n          \"koi_model_snr\",\n          \"koi_fpflag_nt\"\n        ],\n        \"semantic_type\": \"\",\n        \"description\": \"\"\n      }\n    },\n    {\n      \"column\": \"Importance\",\n      \"properties\": {\n        \"dtype\": \"number\",\n        \"std\": 0.14579840419794268,\n        \"min\": 0.010399999999999965,\n        \"max\": 0.3902,\n        \"num_unique_values\": 6,\n        \"samples\": [\n          0.3902,\n          0.12180000000000002,\n          0.010399999999999965\n        ],\n        \"semantic_type\": \"\",\n        \"description\": \"\"\n      }\n    }\n  ]\n}"
            }
          },
          "metadata": {},
          "execution_count": 35
        }
      ]
    },
    {
      "cell_type": "code",
      "source": [
        "features = data[[\"koi_score\",\"koi_model_snr\",\"koi_prad\",\"koi_impact\",\"koi_fpflag_co\",\"koi_fpflag_nt\"]]"
      ],
      "metadata": {
        "id": "wfbKzkcg8WxN"
      },
      "execution_count": 36,
      "outputs": []
    },
    {
      "cell_type": "code",
      "source": [
        "target = data[\"koi_disposition\"]"
      ],
      "metadata": {
        "id": "D2jYl7xa8b1m"
      },
      "execution_count": 37,
      "outputs": []
    },
    {
      "cell_type": "code",
      "source": [
        "from sklearn.model_selection import train_test_split\n",
        "X_train, X_test, y_train, y_test = train_test_split(features,target,test_size=0.2)"
      ],
      "metadata": {
        "id": "UgJnt2uB8160"
      },
      "execution_count": 38,
      "outputs": []
    },
    {
      "cell_type": "code",
      "source": [
        "from sklearn.ensemble import RandomForestClassifier\n",
        "model = RandomForestClassifier(n_estimators = 300, oob_score=True)\n",
        "model.fit(X_train,y_train)\n",
        "oob_score = model.oob_score_\n",
        "print(\"The Final Model OOB Score:\",oob_score)"
      ],
      "metadata": {
        "colab": {
          "base_uri": "https://localhost:8080/"
        },
        "id": "QFG4pJHa84hr",
        "outputId": "c914762f-6139-4e8b-ae14-d83cac49aabb"
      },
      "execution_count": 39,
      "outputs": [
        {
          "output_type": "stream",
          "name": "stdout",
          "text": [
            "The Final Model OOB Score: 0.9111806098514464\n"
          ]
        }
      ]
    },
    {
      "cell_type": "code",
      "source": [
        "from rfpimp import importances, plot_importances\n",
        "\n",
        "imp = importances(model, features, target)\n",
        "print(imp)\n",
        "plot_importances(imp)"
      ],
      "metadata": {
        "colab": {
          "base_uri": "https://localhost:8080/",
          "height": 275
        },
        "id": "9dvBaGUp88GK",
        "outputId": "743d5bd3-d846-4e8f-c3e5-c689127b7628"
      },
      "execution_count": 40,
      "outputs": [
        {
          "output_type": "stream",
          "name": "stdout",
          "text": [
            "               Importance\n",
            "Feature                  \n",
            "koi_score          0.4684\n",
            "koi_model_snr      0.1506\n",
            "koi_prad           0.1330\n",
            "koi_impact         0.0788\n",
            "koi_fpflag_nt      0.0236\n",
            "koi_fpflag_co      0.0202\n"
          ]
        },
        {
          "output_type": "execute_result",
          "data": {
            "text/plain": [
              "<rfpimp.PimpViz at 0x7b6976014610>"
            ],
            "image/svg+xml": "<?xml version=\"1.0\" encoding=\"utf-8\" standalone=\"no\"?>\n<!DOCTYPE svg PUBLIC \"-//W3C//DTD SVG 1.1//EN\"\n  \"http://www.w3.org/Graphics/SVG/1.1/DTD/svg11.dtd\">\n<svg xmlns:xlink=\"http://www.w3.org/1999/xlink\" width=\"266.439687pt\" height=\"85.998125pt\" viewBox=\"0 0 266.439687 85.998125\" xmlns=\"http://www.w3.org/2000/svg\" version=\"1.1\">\n <metadata>\n  <rdf:RDF xmlns:dc=\"http://purl.org/dc/elements/1.1/\" xmlns:cc=\"http://creativecommons.org/ns#\" xmlns:rdf=\"http://www.w3.org/1999/02/22-rdf-syntax-ns#\">\n   <cc:Work>\n    <dc:type rdf:resource=\"http://purl.org/dc/dcmitype/StillImage\"/>\n    <dc:date>2024-08-16T02:12:28.038441</dc:date>\n    <dc:format>image/svg+xml</dc:format>\n    <dc:creator>\n     <cc:Agent>\n      <dc:title>Matplotlib v3.7.1, https://matplotlib.org/</dc:title>\n     </cc:Agent>\n    </dc:creator>\n   </cc:Work>\n  </rdf:RDF>\n </metadata>\n <defs>\n  <style type=\"text/css\">*{stroke-linejoin: round; stroke-linecap: butt}</style>\n </defs>\n <g id=\"figure_1\">\n  <g id=\"patch_1\">\n   <path d=\"M 0 85.998125 \nL 266.439687 85.998125 \nL 266.439687 0 \nL 0 0 \nz\n\" style=\"fill: #ffffff\"/>\n  </g>\n  <g id=\"axes_1\">\n   <g id=\"patch_2\">\n    <path d=\"M 78.121875 69.32 \nL 255.306875 69.32 \nL 255.306875 0 \nL 78.121875 0 \nz\n\" style=\"fill: #ffffff\"/>\n   </g>\n   <g id=\"patch_3\">\n    <path d=\"M 78.872023 1.034627 \nL 254.556727 1.034627 \nL 254.556727 11.380896 \nL 78.872023 11.380896 \nz\n\" clip-path=\"url(#pa4900d6e48)\" style=\"fill: #d9e6f5; stroke: #444443; stroke-width: 0.5; stroke-linejoin: miter\"/>\n   </g>\n   <g id=\"patch_4\">\n    <path d=\"M 78.872023 12.415522 \nL 135.358181 12.415522 \nL 135.358181 22.761791 \nL 78.872023 22.761791 \nz\n\" clip-path=\"url(#pa4900d6e48)\" style=\"fill: #d9e6f5; stroke: #444443; stroke-width: 0.5; stroke-linejoin: miter\"/>\n   </g>\n   <g id=\"patch_5\">\n    <path d=\"M 78.872023 23.796418 \nL 128.756877 23.796418 \nL 128.756877 34.142687 \nL 78.872023 34.142687 \nz\n\" clip-path=\"url(#pa4900d6e48)\" style=\"fill: #d9e6f5; stroke: #444443; stroke-width: 0.5; stroke-linejoin: miter\"/>\n   </g>\n   <g id=\"patch_6\">\n    <path d=\"M 78.872023 35.177313 \nL 108.427861 35.177313 \nL 108.427861 45.523582 \nL 78.872023 45.523582 \nz\n\" clip-path=\"url(#pa4900d6e48)\" style=\"fill: #d9e6f5; stroke: #444443; stroke-width: 0.5; stroke-linejoin: miter\"/>\n   </g>\n   <g id=\"patch_7\">\n    <path d=\"M 78.872023 46.558209 \nL 87.723772 46.558209 \nL 87.723772 56.904478 \nL 78.872023 56.904478 \nz\n\" clip-path=\"url(#pa4900d6e48)\" style=\"fill: #d9e6f5; stroke: #444443; stroke-width: 0.5; stroke-linejoin: miter\"/>\n   </g>\n   <g id=\"patch_8\">\n    <path d=\"M 78.872023 57.939104 \nL 86.44852 57.939104 \nL 86.44852 68.285373 \nL 78.872023 68.285373 \nz\n\" clip-path=\"url(#pa4900d6e48)\" style=\"fill: #d9e6f5; stroke: #444443; stroke-width: 0.5; stroke-linejoin: miter\"/>\n   </g>\n   <g id=\"matplotlib.axis_1\">\n    <g id=\"xtick_1\">\n     <g id=\"line2d_1\">\n      <defs>\n       <path id=\"m61de2cd354\" d=\"M 0 0 \nL 0 3.5 \n\" style=\"stroke: #000000; stroke-width: 0.8\"/>\n      </defs>\n      <g>\n       <use xlink:href=\"#m61de2cd354\" x=\"78.872023\" y=\"69.32\" style=\"stroke: #000000; stroke-width: 0.8\"/>\n      </g>\n     </g>\n     <g id=\"text_1\">\n      <!-- 0.00 -->\n      <g style=\"fill: #444443\" transform=\"translate(67.739211 83.918437) scale(0.1 -0.1)\">\n       <defs>\n        <path id=\"DejaVuSans-30\" d=\"M 2034 4250 \nQ 1547 4250 1301 3770 \nQ 1056 3291 1056 2328 \nQ 1056 1369 1301 889 \nQ 1547 409 2034 409 \nQ 2525 409 2770 889 \nQ 3016 1369 3016 2328 \nQ 3016 3291 2770 3770 \nQ 2525 4250 2034 4250 \nz\nM 2034 4750 \nQ 2819 4750 3233 4129 \nQ 3647 3509 3647 2328 \nQ 3647 1150 3233 529 \nQ 2819 -91 2034 -91 \nQ 1250 -91 836 529 \nQ 422 1150 422 2328 \nQ 422 3509 836 4129 \nQ 1250 4750 2034 4750 \nz\n\" transform=\"scale(0.015625)\"/>\n        <path id=\"DejaVuSans-2e\" d=\"M 684 794 \nL 1344 794 \nL 1344 0 \nL 684 0 \nL 684 794 \nz\n\" transform=\"scale(0.015625)\"/>\n       </defs>\n       <use xlink:href=\"#DejaVuSans-30\"/>\n       <use xlink:href=\"#DejaVuSans-2e\" x=\"63.623047\"/>\n       <use xlink:href=\"#DejaVuSans-30\" x=\"95.410156\"/>\n       <use xlink:href=\"#DejaVuSans-30\" x=\"159.033203\"/>\n      </g>\n     </g>\n    </g>\n    <g id=\"xtick_2\">\n     <g id=\"line2d_2\">\n      <g>\n       <use xlink:href=\"#m61de2cd354\" x=\"255.306875\" y=\"69.32\" style=\"stroke: #000000; stroke-width: 0.8\"/>\n      </g>\n     </g>\n     <g id=\"text_2\">\n      <!-- 0.47 -->\n      <g style=\"fill: #444443\" transform=\"translate(244.174062 83.918437) scale(0.1 -0.1)\">\n       <defs>\n        <path id=\"DejaVuSans-34\" d=\"M 2419 4116 \nL 825 1625 \nL 2419 1625 \nL 2419 4116 \nz\nM 2253 4666 \nL 3047 4666 \nL 3047 1625 \nL 3713 1625 \nL 3713 1100 \nL 3047 1100 \nL 3047 0 \nL 2419 0 \nL 2419 1100 \nL 313 1100 \nL 313 1709 \nL 2253 4666 \nz\n\" transform=\"scale(0.015625)\"/>\n        <path id=\"DejaVuSans-37\" d=\"M 525 4666 \nL 3525 4666 \nL 3525 4397 \nL 1831 0 \nL 1172 0 \nL 2766 4134 \nL 525 4134 \nL 525 4666 \nz\n\" transform=\"scale(0.015625)\"/>\n       </defs>\n       <use xlink:href=\"#DejaVuSans-30\"/>\n       <use xlink:href=\"#DejaVuSans-2e\" x=\"63.623047\"/>\n       <use xlink:href=\"#DejaVuSans-34\" x=\"95.410156\"/>\n       <use xlink:href=\"#DejaVuSans-37\" x=\"159.033203\"/>\n      </g>\n     </g>\n    </g>\n   </g>\n   <g id=\"matplotlib.axis_2\">\n    <g id=\"ytick_1\">\n     <g id=\"line2d_3\">\n      <defs>\n       <path id=\"m48a717915e\" d=\"M 0 0 \nL -3.5 0 \n\" style=\"stroke: #000000; stroke-width: 0.8\"/>\n      </defs>\n      <g>\n       <use xlink:href=\"#m48a717915e\" x=\"78.121875\" y=\"6.207761\" style=\"stroke: #000000; stroke-width: 0.8\"/>\n      </g>\n     </g>\n     <g id=\"text_3\">\n      <!-- koi_score -->\n      <g style=\"fill: #444443\" transform=\"translate(24.93125 10.00698) scale(0.1 -0.1)\">\n       <defs>\n        <path id=\"DejaVuSans-6b\" d=\"M 581 4863 \nL 1159 4863 \nL 1159 1991 \nL 2875 3500 \nL 3609 3500 \nL 1753 1863 \nL 3688 0 \nL 2938 0 \nL 1159 1709 \nL 1159 0 \nL 581 0 \nL 581 4863 \nz\n\" transform=\"scale(0.015625)\"/>\n        <path id=\"DejaVuSans-6f\" d=\"M 1959 3097 \nQ 1497 3097 1228 2736 \nQ 959 2375 959 1747 \nQ 959 1119 1226 758 \nQ 1494 397 1959 397 \nQ 2419 397 2687 759 \nQ 2956 1122 2956 1747 \nQ 2956 2369 2687 2733 \nQ 2419 3097 1959 3097 \nz\nM 1959 3584 \nQ 2709 3584 3137 3096 \nQ 3566 2609 3566 1747 \nQ 3566 888 3137 398 \nQ 2709 -91 1959 -91 \nQ 1206 -91 779 398 \nQ 353 888 353 1747 \nQ 353 2609 779 3096 \nQ 1206 3584 1959 3584 \nz\n\" transform=\"scale(0.015625)\"/>\n        <path id=\"DejaVuSans-69\" d=\"M 603 3500 \nL 1178 3500 \nL 1178 0 \nL 603 0 \nL 603 3500 \nz\nM 603 4863 \nL 1178 4863 \nL 1178 4134 \nL 603 4134 \nL 603 4863 \nz\n\" transform=\"scale(0.015625)\"/>\n        <path id=\"DejaVuSans-5f\" d=\"M 3263 -1063 \nL 3263 -1509 \nL -63 -1509 \nL -63 -1063 \nL 3263 -1063 \nz\n\" transform=\"scale(0.015625)\"/>\n        <path id=\"DejaVuSans-73\" d=\"M 2834 3397 \nL 2834 2853 \nQ 2591 2978 2328 3040 \nQ 2066 3103 1784 3103 \nQ 1356 3103 1142 2972 \nQ 928 2841 928 2578 \nQ 928 2378 1081 2264 \nQ 1234 2150 1697 2047 \nL 1894 2003 \nQ 2506 1872 2764 1633 \nQ 3022 1394 3022 966 \nQ 3022 478 2636 193 \nQ 2250 -91 1575 -91 \nQ 1294 -91 989 -36 \nQ 684 19 347 128 \nL 347 722 \nQ 666 556 975 473 \nQ 1284 391 1588 391 \nQ 1994 391 2212 530 \nQ 2431 669 2431 922 \nQ 2431 1156 2273 1281 \nQ 2116 1406 1581 1522 \nL 1381 1569 \nQ 847 1681 609 1914 \nQ 372 2147 372 2553 \nQ 372 3047 722 3315 \nQ 1072 3584 1716 3584 \nQ 2034 3584 2315 3537 \nQ 2597 3491 2834 3397 \nz\n\" transform=\"scale(0.015625)\"/>\n        <path id=\"DejaVuSans-63\" d=\"M 3122 3366 \nL 3122 2828 \nQ 2878 2963 2633 3030 \nQ 2388 3097 2138 3097 \nQ 1578 3097 1268 2742 \nQ 959 2388 959 1747 \nQ 959 1106 1268 751 \nQ 1578 397 2138 397 \nQ 2388 397 2633 464 \nQ 2878 531 3122 666 \nL 3122 134 \nQ 2881 22 2623 -34 \nQ 2366 -91 2075 -91 \nQ 1284 -91 818 406 \nQ 353 903 353 1747 \nQ 353 2603 823 3093 \nQ 1294 3584 2113 3584 \nQ 2378 3584 2631 3529 \nQ 2884 3475 3122 3366 \nz\n\" transform=\"scale(0.015625)\"/>\n        <path id=\"DejaVuSans-72\" d=\"M 2631 2963 \nQ 2534 3019 2420 3045 \nQ 2306 3072 2169 3072 \nQ 1681 3072 1420 2755 \nQ 1159 2438 1159 1844 \nL 1159 0 \nL 581 0 \nL 581 3500 \nL 1159 3500 \nL 1159 2956 \nQ 1341 3275 1631 3429 \nQ 1922 3584 2338 3584 \nQ 2397 3584 2469 3576 \nQ 2541 3569 2628 3553 \nL 2631 2963 \nz\n\" transform=\"scale(0.015625)\"/>\n        <path id=\"DejaVuSans-65\" d=\"M 3597 1894 \nL 3597 1613 \nL 953 1613 \nQ 991 1019 1311 708 \nQ 1631 397 2203 397 \nQ 2534 397 2845 478 \nQ 3156 559 3463 722 \nL 3463 178 \nQ 3153 47 2828 -22 \nQ 2503 -91 2169 -91 \nQ 1331 -91 842 396 \nQ 353 884 353 1716 \nQ 353 2575 817 3079 \nQ 1281 3584 2069 3584 \nQ 2775 3584 3186 3129 \nQ 3597 2675 3597 1894 \nz\nM 3022 2063 \nQ 3016 2534 2758 2815 \nQ 2500 3097 2075 3097 \nQ 1594 3097 1305 2825 \nQ 1016 2553 972 2059 \nL 3022 2063 \nz\n\" transform=\"scale(0.015625)\"/>\n       </defs>\n       <use xlink:href=\"#DejaVuSans-6b\"/>\n       <use xlink:href=\"#DejaVuSans-6f\" x=\"54.285156\"/>\n       <use xlink:href=\"#DejaVuSans-69\" x=\"115.466797\"/>\n       <use xlink:href=\"#DejaVuSans-5f\" x=\"143.25\"/>\n       <use xlink:href=\"#DejaVuSans-73\" x=\"193.25\"/>\n       <use xlink:href=\"#DejaVuSans-63\" x=\"245.349609\"/>\n       <use xlink:href=\"#DejaVuSans-6f\" x=\"300.330078\"/>\n       <use xlink:href=\"#DejaVuSans-72\" x=\"361.511719\"/>\n       <use xlink:href=\"#DejaVuSans-65\" x=\"400.375\"/>\n      </g>\n     </g>\n    </g>\n    <g id=\"ytick_2\">\n     <g id=\"line2d_4\">\n      <g>\n       <use xlink:href=\"#m48a717915e\" x=\"78.121875\" y=\"17.588657\" style=\"stroke: #000000; stroke-width: 0.8\"/>\n      </g>\n     </g>\n     <g id=\"text_4\">\n      <!-- koi_model_snr -->\n      <g style=\"fill: #444443\" transform=\"translate(0 21.387875) scale(0.1 -0.1)\">\n       <defs>\n        <path id=\"DejaVuSans-6d\" d=\"M 3328 2828 \nQ 3544 3216 3844 3400 \nQ 4144 3584 4550 3584 \nQ 5097 3584 5394 3201 \nQ 5691 2819 5691 2113 \nL 5691 0 \nL 5113 0 \nL 5113 2094 \nQ 5113 2597 4934 2840 \nQ 4756 3084 4391 3084 \nQ 3944 3084 3684 2787 \nQ 3425 2491 3425 1978 \nL 3425 0 \nL 2847 0 \nL 2847 2094 \nQ 2847 2600 2669 2842 \nQ 2491 3084 2119 3084 \nQ 1678 3084 1418 2786 \nQ 1159 2488 1159 1978 \nL 1159 0 \nL 581 0 \nL 581 3500 \nL 1159 3500 \nL 1159 2956 \nQ 1356 3278 1631 3431 \nQ 1906 3584 2284 3584 \nQ 2666 3584 2933 3390 \nQ 3200 3197 3328 2828 \nz\n\" transform=\"scale(0.015625)\"/>\n        <path id=\"DejaVuSans-64\" d=\"M 2906 2969 \nL 2906 4863 \nL 3481 4863 \nL 3481 0 \nL 2906 0 \nL 2906 525 \nQ 2725 213 2448 61 \nQ 2172 -91 1784 -91 \nQ 1150 -91 751 415 \nQ 353 922 353 1747 \nQ 353 2572 751 3078 \nQ 1150 3584 1784 3584 \nQ 2172 3584 2448 3432 \nQ 2725 3281 2906 2969 \nz\nM 947 1747 \nQ 947 1113 1208 752 \nQ 1469 391 1925 391 \nQ 2381 391 2643 752 \nQ 2906 1113 2906 1747 \nQ 2906 2381 2643 2742 \nQ 2381 3103 1925 3103 \nQ 1469 3103 1208 2742 \nQ 947 2381 947 1747 \nz\n\" transform=\"scale(0.015625)\"/>\n        <path id=\"DejaVuSans-6c\" d=\"M 603 4863 \nL 1178 4863 \nL 1178 0 \nL 603 0 \nL 603 4863 \nz\n\" transform=\"scale(0.015625)\"/>\n        <path id=\"DejaVuSans-6e\" d=\"M 3513 2113 \nL 3513 0 \nL 2938 0 \nL 2938 2094 \nQ 2938 2591 2744 2837 \nQ 2550 3084 2163 3084 \nQ 1697 3084 1428 2787 \nQ 1159 2491 1159 1978 \nL 1159 0 \nL 581 0 \nL 581 3500 \nL 1159 3500 \nL 1159 2956 \nQ 1366 3272 1645 3428 \nQ 1925 3584 2291 3584 \nQ 2894 3584 3203 3211 \nQ 3513 2838 3513 2113 \nz\n\" transform=\"scale(0.015625)\"/>\n       </defs>\n       <use xlink:href=\"#DejaVuSans-6b\"/>\n       <use xlink:href=\"#DejaVuSans-6f\" x=\"54.285156\"/>\n       <use xlink:href=\"#DejaVuSans-69\" x=\"115.466797\"/>\n       <use xlink:href=\"#DejaVuSans-5f\" x=\"143.25\"/>\n       <use xlink:href=\"#DejaVuSans-6d\" x=\"193.25\"/>\n       <use xlink:href=\"#DejaVuSans-6f\" x=\"290.662109\"/>\n       <use xlink:href=\"#DejaVuSans-64\" x=\"351.84375\"/>\n       <use xlink:href=\"#DejaVuSans-65\" x=\"415.320312\"/>\n       <use xlink:href=\"#DejaVuSans-6c\" x=\"476.84375\"/>\n       <use xlink:href=\"#DejaVuSans-5f\" x=\"504.626953\"/>\n       <use xlink:href=\"#DejaVuSans-73\" x=\"554.626953\"/>\n       <use xlink:href=\"#DejaVuSans-6e\" x=\"606.726562\"/>\n       <use xlink:href=\"#DejaVuSans-72\" x=\"670.105469\"/>\n      </g>\n     </g>\n    </g>\n    <g id=\"ytick_3\">\n     <g id=\"line2d_5\">\n      <g>\n       <use xlink:href=\"#m48a717915e\" x=\"78.121875\" y=\"28.969552\" style=\"stroke: #000000; stroke-width: 0.8\"/>\n      </g>\n     </g>\n     <g id=\"text_5\">\n      <!-- koi_prad -->\n      <g style=\"fill: #444443\" transform=\"translate(28.860937 32.768771) scale(0.1 -0.1)\">\n       <defs>\n        <path id=\"DejaVuSans-70\" d=\"M 1159 525 \nL 1159 -1331 \nL 581 -1331 \nL 581 3500 \nL 1159 3500 \nL 1159 2969 \nQ 1341 3281 1617 3432 \nQ 1894 3584 2278 3584 \nQ 2916 3584 3314 3078 \nQ 3713 2572 3713 1747 \nQ 3713 922 3314 415 \nQ 2916 -91 2278 -91 \nQ 1894 -91 1617 61 \nQ 1341 213 1159 525 \nz\nM 3116 1747 \nQ 3116 2381 2855 2742 \nQ 2594 3103 2138 3103 \nQ 1681 3103 1420 2742 \nQ 1159 2381 1159 1747 \nQ 1159 1113 1420 752 \nQ 1681 391 2138 391 \nQ 2594 391 2855 752 \nQ 3116 1113 3116 1747 \nz\n\" transform=\"scale(0.015625)\"/>\n        <path id=\"DejaVuSans-61\" d=\"M 2194 1759 \nQ 1497 1759 1228 1600 \nQ 959 1441 959 1056 \nQ 959 750 1161 570 \nQ 1363 391 1709 391 \nQ 2188 391 2477 730 \nQ 2766 1069 2766 1631 \nL 2766 1759 \nL 2194 1759 \nz\nM 3341 1997 \nL 3341 0 \nL 2766 0 \nL 2766 531 \nQ 2569 213 2275 61 \nQ 1981 -91 1556 -91 \nQ 1019 -91 701 211 \nQ 384 513 384 1019 \nQ 384 1609 779 1909 \nQ 1175 2209 1959 2209 \nL 2766 2209 \nL 2766 2266 \nQ 2766 2663 2505 2880 \nQ 2244 3097 1772 3097 \nQ 1472 3097 1187 3025 \nQ 903 2953 641 2809 \nL 641 3341 \nQ 956 3463 1253 3523 \nQ 1550 3584 1831 3584 \nQ 2591 3584 2966 3190 \nQ 3341 2797 3341 1997 \nz\n\" transform=\"scale(0.015625)\"/>\n       </defs>\n       <use xlink:href=\"#DejaVuSans-6b\"/>\n       <use xlink:href=\"#DejaVuSans-6f\" x=\"54.285156\"/>\n       <use xlink:href=\"#DejaVuSans-69\" x=\"115.466797\"/>\n       <use xlink:href=\"#DejaVuSans-5f\" x=\"143.25\"/>\n       <use xlink:href=\"#DejaVuSans-70\" x=\"193.25\"/>\n       <use xlink:href=\"#DejaVuSans-72\" x=\"256.726562\"/>\n       <use xlink:href=\"#DejaVuSans-61\" x=\"297.839844\"/>\n       <use xlink:href=\"#DejaVuSans-64\" x=\"359.119141\"/>\n      </g>\n     </g>\n    </g>\n    <g id=\"ytick_4\">\n     <g id=\"line2d_6\">\n      <g>\n       <use xlink:href=\"#m48a717915e\" x=\"78.121875\" y=\"40.350448\" style=\"stroke: #000000; stroke-width: 0.8\"/>\n      </g>\n     </g>\n     <g id=\"text_6\">\n      <!-- koi_impact -->\n      <g style=\"fill: #444443\" transform=\"translate(17.382812 44.149667) scale(0.1 -0.1)\">\n       <defs>\n        <path id=\"DejaVuSans-74\" d=\"M 1172 4494 \nL 1172 3500 \nL 2356 3500 \nL 2356 3053 \nL 1172 3053 \nL 1172 1153 \nQ 1172 725 1289 603 \nQ 1406 481 1766 481 \nL 2356 481 \nL 2356 0 \nL 1766 0 \nQ 1100 0 847 248 \nQ 594 497 594 1153 \nL 594 3053 \nL 172 3053 \nL 172 3500 \nL 594 3500 \nL 594 4494 \nL 1172 4494 \nz\n\" transform=\"scale(0.015625)\"/>\n       </defs>\n       <use xlink:href=\"#DejaVuSans-6b\"/>\n       <use xlink:href=\"#DejaVuSans-6f\" x=\"54.285156\"/>\n       <use xlink:href=\"#DejaVuSans-69\" x=\"115.466797\"/>\n       <use xlink:href=\"#DejaVuSans-5f\" x=\"143.25\"/>\n       <use xlink:href=\"#DejaVuSans-69\" x=\"193.25\"/>\n       <use xlink:href=\"#DejaVuSans-6d\" x=\"221.033203\"/>\n       <use xlink:href=\"#DejaVuSans-70\" x=\"318.445312\"/>\n       <use xlink:href=\"#DejaVuSans-61\" x=\"381.921875\"/>\n       <use xlink:href=\"#DejaVuSans-63\" x=\"443.201172\"/>\n       <use xlink:href=\"#DejaVuSans-74\" x=\"498.181641\"/>\n      </g>\n     </g>\n    </g>\n    <g id=\"ytick_5\">\n     <g id=\"line2d_7\">\n      <g>\n       <use xlink:href=\"#m48a717915e\" x=\"78.121875\" y=\"51.731343\" style=\"stroke: #000000; stroke-width: 0.8\"/>\n      </g>\n     </g>\n     <g id=\"text_7\">\n      <!-- koi_fpflag_nt -->\n      <g style=\"fill: #444443\" transform=\"translate(7.895313 55.530562) scale(0.1 -0.1)\">\n       <defs>\n        <path id=\"DejaVuSans-66\" d=\"M 2375 4863 \nL 2375 4384 \nL 1825 4384 \nQ 1516 4384 1395 4259 \nQ 1275 4134 1275 3809 \nL 1275 3500 \nL 2222 3500 \nL 2222 3053 \nL 1275 3053 \nL 1275 0 \nL 697 0 \nL 697 3053 \nL 147 3053 \nL 147 3500 \nL 697 3500 \nL 697 3744 \nQ 697 4328 969 4595 \nQ 1241 4863 1831 4863 \nL 2375 4863 \nz\n\" transform=\"scale(0.015625)\"/>\n        <path id=\"DejaVuSans-67\" d=\"M 2906 1791 \nQ 2906 2416 2648 2759 \nQ 2391 3103 1925 3103 \nQ 1463 3103 1205 2759 \nQ 947 2416 947 1791 \nQ 947 1169 1205 825 \nQ 1463 481 1925 481 \nQ 2391 481 2648 825 \nQ 2906 1169 2906 1791 \nz\nM 3481 434 \nQ 3481 -459 3084 -895 \nQ 2688 -1331 1869 -1331 \nQ 1566 -1331 1297 -1286 \nQ 1028 -1241 775 -1147 \nL 775 -588 \nQ 1028 -725 1275 -790 \nQ 1522 -856 1778 -856 \nQ 2344 -856 2625 -561 \nQ 2906 -266 2906 331 \nL 2906 616 \nQ 2728 306 2450 153 \nQ 2172 0 1784 0 \nQ 1141 0 747 490 \nQ 353 981 353 1791 \nQ 353 2603 747 3093 \nQ 1141 3584 1784 3584 \nQ 2172 3584 2450 3431 \nQ 2728 3278 2906 2969 \nL 2906 3500 \nL 3481 3500 \nL 3481 434 \nz\n\" transform=\"scale(0.015625)\"/>\n       </defs>\n       <use xlink:href=\"#DejaVuSans-6b\"/>\n       <use xlink:href=\"#DejaVuSans-6f\" x=\"54.285156\"/>\n       <use xlink:href=\"#DejaVuSans-69\" x=\"115.466797\"/>\n       <use xlink:href=\"#DejaVuSans-5f\" x=\"143.25\"/>\n       <use xlink:href=\"#DejaVuSans-66\" x=\"193.25\"/>\n       <use xlink:href=\"#DejaVuSans-70\" x=\"228.455078\"/>\n       <use xlink:href=\"#DejaVuSans-66\" x=\"291.931641\"/>\n       <use xlink:href=\"#DejaVuSans-6c\" x=\"327.136719\"/>\n       <use xlink:href=\"#DejaVuSans-61\" x=\"354.919922\"/>\n       <use xlink:href=\"#DejaVuSans-67\" x=\"416.199219\"/>\n       <use xlink:href=\"#DejaVuSans-5f\" x=\"479.675781\"/>\n       <use xlink:href=\"#DejaVuSans-6e\" x=\"529.675781\"/>\n       <use xlink:href=\"#DejaVuSans-74\" x=\"593.054688\"/>\n      </g>\n     </g>\n    </g>\n    <g id=\"ytick_6\">\n     <g id=\"line2d_8\">\n      <g>\n       <use xlink:href=\"#m48a717915e\" x=\"78.121875\" y=\"63.112239\" style=\"stroke: #000000; stroke-width: 0.8\"/>\n      </g>\n     </g>\n     <g id=\"text_8\">\n      <!-- koi_fpflag_co -->\n      <g style=\"fill: #444443\" transform=\"translate(6.535938 66.911458) scale(0.1 -0.1)\">\n       <use xlink:href=\"#DejaVuSans-6b\"/>\n       <use xlink:href=\"#DejaVuSans-6f\" x=\"54.285156\"/>\n       <use xlink:href=\"#DejaVuSans-69\" x=\"115.466797\"/>\n       <use xlink:href=\"#DejaVuSans-5f\" x=\"143.25\"/>\n       <use xlink:href=\"#DejaVuSans-66\" x=\"193.25\"/>\n       <use xlink:href=\"#DejaVuSans-70\" x=\"228.455078\"/>\n       <use xlink:href=\"#DejaVuSans-66\" x=\"291.931641\"/>\n       <use xlink:href=\"#DejaVuSans-6c\" x=\"327.136719\"/>\n       <use xlink:href=\"#DejaVuSans-61\" x=\"354.919922\"/>\n       <use xlink:href=\"#DejaVuSans-67\" x=\"416.199219\"/>\n       <use xlink:href=\"#DejaVuSans-5f\" x=\"479.675781\"/>\n       <use xlink:href=\"#DejaVuSans-63\" x=\"529.675781\"/>\n       <use xlink:href=\"#DejaVuSans-6f\" x=\"584.65625\"/>\n      </g>\n     </g>\n    </g>\n   </g>\n   <g id=\"patch_9\">\n    <path d=\"M 78.121875 69.32 \nL 78.121875 0 \n\" style=\"fill: none; stroke: #000000; stroke-width: 0.3; stroke-linejoin: miter; stroke-linecap: square\"/>\n   </g>\n   <g id=\"patch_10\">\n    <path d=\"M 255.306875 69.32 \nL 255.306875 0 \n\" style=\"fill: none; stroke: #000000; stroke-width: 0.3; stroke-linejoin: miter; stroke-linecap: square\"/>\n   </g>\n   <g id=\"patch_11\">\n    <path d=\"M 78.121875 69.32 \nL 255.306875 69.32 \n\" style=\"fill: none; stroke: #000000; stroke-width: 0.3; stroke-linejoin: miter; stroke-linecap: square\"/>\n   </g>\n   <g id=\"patch_12\">\n    <path d=\"M 78.121875 0 \nL 255.306875 0 \n\" style=\"fill: none; stroke: #000000; stroke-width: 0.3; stroke-linejoin: miter; stroke-linecap: square\"/>\n   </g>\n  </g>\n </g>\n <defs>\n  <clipPath id=\"pa4900d6e48\">\n   <rect x=\"78.121875\" y=\"0\" width=\"177.185\" height=\"69.32\"/>\n  </clipPath>\n </defs>\n</svg>\n"
          },
          "metadata": {},
          "execution_count": 40
        }
      ]
    },
    {
      "cell_type": "code",
      "source": [
        "model.predict(X_test)"
      ],
      "metadata": {
        "colab": {
          "base_uri": "https://localhost:8080/"
        },
        "id": "z3GNkuUc89on",
        "outputId": "11ded390-e3f3-4151-aa14-9263886b2441"
      },
      "execution_count": 41,
      "outputs": [
        {
          "output_type": "execute_result",
          "data": {
            "text/plain": [
              "array([0., 1., 2., ..., 0., 2., 1.])"
            ]
          },
          "metadata": {},
          "execution_count": 41
        }
      ]
    },
    {
      "cell_type": "code",
      "source": [
        "model.score(X_train,y_train)"
      ],
      "metadata": {
        "colab": {
          "base_uri": "https://localhost:8080/"
        },
        "id": "aP1cQeXY9Ar0",
        "outputId": "5b392a91-d74e-4d90-9864-9a0a171c2c12"
      },
      "execution_count": 42,
      "outputs": [
        {
          "output_type": "execute_result",
          "data": {
            "text/plain": [
              "1.0"
            ]
          },
          "metadata": {},
          "execution_count": 42
        }
      ]
    },
    {
      "cell_type": "code",
      "source": [
        "model.score(X_test,y_test)"
      ],
      "metadata": {
        "colab": {
          "base_uri": "https://localhost:8080/"
        },
        "id": "lpypq3-N9ELL",
        "outputId": "022667e9-f474-4c52-9bfd-1ebebd53669d"
      },
      "execution_count": 43,
      "outputs": [
        {
          "output_type": "execute_result",
          "data": {
            "text/plain": [
              "0.9105691056910569"
            ]
          },
          "metadata": {},
          "execution_count": 43
        }
      ]
    },
    {
      "cell_type": "code",
      "source": [
        "from sklearn.model_selection import cross_val_score\n",
        "\n",
        "kcross_validation = cross_val_score(model, features, target, cv=5, scoring='r2')\n",
        "mean_cv_score_r2 = kcross_validation.mean()\n",
        "print(\"Mean Cross-Validated R-squared:\",mean_cv_score_r2)"
      ],
      "metadata": {
        "colab": {
          "base_uri": "https://localhost:8080/"
        },
        "id": "KXTYvghw9Gbm",
        "outputId": "df7555c5-29fe-49d9-a505-b89285b12813"
      },
      "execution_count": 45,
      "outputs": [
        {
          "output_type": "stream",
          "name": "stdout",
          "text": [
            "Mean Cross-Validated R-squared: 0.7895940101392693\n"
          ]
        }
      ]
    }
  ]
}